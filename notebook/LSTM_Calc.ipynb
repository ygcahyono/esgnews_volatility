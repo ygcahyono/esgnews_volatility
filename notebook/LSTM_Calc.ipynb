{
 "cells": [
  {
   "cell_type": "markdown",
   "id": "a75b43b8",
   "metadata": {
    "toc": true
   },
   "source": [
    "<h1>Table of Contents<span class=\"tocSkip\"></span></h1>\n",
    "<div class=\"toc\"><ul class=\"toc-item\"><li><span><a href=\"#M1\" data-toc-modified-id=\"M1-1\"><span class=\"toc-item-num\">1&nbsp;&nbsp;</span>M1</a></span><ul class=\"toc-item\"><li><span><a href=\"#LSTM-m3\" data-toc-modified-id=\"LSTM-m3-1.1\"><span class=\"toc-item-num\">1.1&nbsp;&nbsp;</span>LSTM-m3</a></span></li><li><span><a href=\"#m3-with-ARCH-11\" data-toc-modified-id=\"m3-with-ARCH-11-1.2\"><span class=\"toc-item-num\">1.2&nbsp;&nbsp;</span>m3 with ARCH 11</a></span></li><li><span><a href=\"#m3-with-ARCH-11-per-Sector\" data-toc-modified-id=\"m3-with-ARCH-11-per-Sector-1.3\"><span class=\"toc-item-num\">1.3&nbsp;&nbsp;</span>m3 with ARCH 11 per Sector</a></span></li><li><span><a href=\"#m3-with-ARCH-11-ALL-but-with-previous-datasets\" data-toc-modified-id=\"m3-with-ARCH-11-ALL-but-with-previous-datasets-1.4\"><span class=\"toc-item-num\">1.4&nbsp;&nbsp;</span>m3 with ARCH 11 ALL but with previous datasets</a></span></li><li><span><a href=\"#m3-with-ARCH-11-ALL-but-with-previous-datasets-+-Train-(.7)\" data-toc-modified-id=\"m3-with-ARCH-11-ALL-but-with-previous-datasets-+-Train-(.7)-1.5\"><span class=\"toc-item-num\">1.5&nbsp;&nbsp;</span>m3 with ARCH 11 ALL but with previous datasets + Train (.7)</a></span></li></ul></li><li><span><a href=\"#LSTM-m1-exp1\" data-toc-modified-id=\"LSTM-m1-exp1-2\"><span class=\"toc-item-num\">2&nbsp;&nbsp;</span>LSTM-m1-exp1</a></span></li><li><span><a href=\"#Final-Calculation-from-Final-Settings\" data-toc-modified-id=\"Final-Calculation-from-Final-Settings-3\"><span class=\"toc-item-num\">3&nbsp;&nbsp;</span>Final Calculation from Final Settings</a></span><ul class=\"toc-item\"><li><span><a href=\"#M1\" data-toc-modified-id=\"M1-3.1\"><span class=\"toc-item-num\">3.1&nbsp;&nbsp;</span>M1</a></span></li><li><span><a href=\"#M2\" data-toc-modified-id=\"M2-3.2\"><span class=\"toc-item-num\">3.2&nbsp;&nbsp;</span>M2</a></span></li><li><span><a href=\"#M3\" data-toc-modified-id=\"M3-3.3\"><span class=\"toc-item-num\">3.3&nbsp;&nbsp;</span>M3</a></span></li></ul></li><li><span><a href=\"#experiment-6-with-lag-daily,-weekly,-and-monthly\" data-toc-modified-id=\"experiment-6-with-lag-daily,-weekly,-and-monthly-4\"><span class=\"toc-item-num\">4&nbsp;&nbsp;</span>experiment 6 with lag daily, weekly, and monthly</a></span></li><li><span><a href=\"#Final-Dataset-Fixed-with-lag-daily-weekly-and-monthly\" data-toc-modified-id=\"Final-Dataset-Fixed-with-lag-daily-weekly-and-monthly-5\"><span class=\"toc-item-num\">5&nbsp;&nbsp;</span>Final Dataset Fixed with lag daily weekly and monthly</a></span><ul class=\"toc-item\"><li><span><a href=\"#Experiment-1\" data-toc-modified-id=\"Experiment-1-5.1\"><span class=\"toc-item-num\">5.1&nbsp;&nbsp;</span>Experiment 1</a></span></li></ul></li></ul></div>"
   ]
  },
  {
   "cell_type": "code",
   "execution_count": 12,
   "id": "fef3252d",
   "metadata": {
    "ExecuteTime": {
     "end_time": "2023-08-02T12:12:18.897424Z",
     "start_time": "2023-08-02T12:12:18.869095Z"
    }
   },
   "outputs": [
    {
     "data": {
      "text/html": [
       "<div>\n",
       "<style scoped>\n",
       "    .dataframe tbody tr th:only-of-type {\n",
       "        vertical-align: middle;\n",
       "    }\n",
       "\n",
       "    .dataframe tbody tr th {\n",
       "        vertical-align: top;\n",
       "    }\n",
       "\n",
       "    .dataframe thead th {\n",
       "        text-align: right;\n",
       "    }\n",
       "</style>\n",
       "<table border=\"1\" class=\"dataframe\">\n",
       "  <thead>\n",
       "    <tr style=\"text-align: right;\">\n",
       "      <th></th>\n",
       "      <th>sectors</th>\n",
       "      <th>num_firms</th>\n",
       "    </tr>\n",
       "  </thead>\n",
       "  <tbody>\n",
       "    <tr>\n",
       "      <th>0</th>\n",
       "      <td>Basic materials</td>\n",
       "      <td>7</td>\n",
       "    </tr>\n",
       "    <tr>\n",
       "      <th>1</th>\n",
       "      <td>Consumer cyclicals</td>\n",
       "      <td>12</td>\n",
       "    </tr>\n",
       "    <tr>\n",
       "      <th>2</th>\n",
       "      <td>Consumer non-cyclicals</td>\n",
       "      <td>11</td>\n",
       "    </tr>\n",
       "    <tr>\n",
       "      <th>3</th>\n",
       "      <td>Energy</td>\n",
       "      <td>2</td>\n",
       "    </tr>\n",
       "    <tr>\n",
       "      <th>4</th>\n",
       "      <td>Financials</td>\n",
       "      <td>16</td>\n",
       "    </tr>\n",
       "    <tr>\n",
       "      <th>5</th>\n",
       "      <td>Healthcare</td>\n",
       "      <td>3</td>\n",
       "    </tr>\n",
       "    <tr>\n",
       "      <th>6</th>\n",
       "      <td>Industrials</td>\n",
       "      <td>10</td>\n",
       "    </tr>\n",
       "    <tr>\n",
       "      <th>7</th>\n",
       "      <td>Real estate</td>\n",
       "      <td>3</td>\n",
       "    </tr>\n",
       "    <tr>\n",
       "      <th>8</th>\n",
       "      <td>Technology</td>\n",
       "      <td>3</td>\n",
       "    </tr>\n",
       "    <tr>\n",
       "      <th>9</th>\n",
       "      <td>Utilities</td>\n",
       "      <td>5</td>\n",
       "    </tr>\n",
       "  </tbody>\n",
       "</table>\n",
       "</div>"
      ],
      "text/plain": [
       "                  sectors num_firms\n",
       "0         Basic materials         7\n",
       "1      Consumer cyclicals        12\n",
       "2  Consumer non-cyclicals        11\n",
       "3                  Energy         2\n",
       "4              Financials        16\n",
       "5              Healthcare         3\n",
       "6             Industrials        10\n",
       "7             Real estate         3\n",
       "8              Technology         3\n",
       "9               Utilities         5"
      ]
     },
     "execution_count": 12,
     "metadata": {},
     "output_type": "execute_result"
    }
   ],
   "source": [
    "sectors_df"
   ]
  },
  {
   "cell_type": "code",
   "execution_count": 1,
   "id": "c6a5f61e",
   "metadata": {
    "ExecuteTime": {
     "end_time": "2023-08-01T23:34:10.487649Z",
     "start_time": "2023-08-01T23:34:09.133510Z"
    }
   },
   "outputs": [],
   "source": [
    "import sys, os\n",
    "import pandas as pd\n",
    "import numpy as np\n",
    "import glob\n",
    "\n",
    "sys.path.append('../python')\n",
    "pd.set_option('display.max_columns', 100)\n",
    "\n",
    "from dataprocessingnew import *\n",
    "from runmodels import *"
   ]
  },
  {
   "cell_type": "markdown",
   "id": "708dc6fb",
   "metadata": {},
   "source": [
    "# M1"
   ]
  },
  {
   "cell_type": "markdown",
   "id": "af06b101",
   "metadata": {},
   "source": [
    "## LSTM-m3"
   ]
  },
  {
   "cell_type": "code",
   "execution_count": 4,
   "id": "b1a9cd35",
   "metadata": {
    "ExecuteTime": {
     "end_time": "2023-08-01T23:56:44.480467Z",
     "start_time": "2023-08-01T23:56:44.464757Z"
    }
   },
   "outputs": [
    {
     "data": {
      "text/plain": [
       "0.4217952266666668"
      ]
     },
     "execution_count": 4,
     "metadata": {},
     "output_type": "execute_result"
    }
   ],
   "source": [
    "# Get a list of all csv files that start with \"LSTM-m1-\"\n",
    "csv_files = glob.glob(\"../results/lstm-arch-2/LSTM-m3-*.csv\")\n",
    "\n",
    "master_df = pd.DataFrame()\n",
    "\n",
    "# Print the list of csv files\n",
    "for file in csv_files:\n",
    "    temp_df = pd.read_csv(file)\n",
    "    master_df = pd.concat([master_df, temp_df])\n",
    "    \n",
    "master_df['MSE^3'] = master_df['MSE'] * 10**3\n",
    "np.mean(master_df['MSE^3'])"
   ]
  },
  {
   "cell_type": "markdown",
   "id": "b658bc5e",
   "metadata": {},
   "source": [
    "## m3 with ARCH 11"
   ]
  },
  {
   "cell_type": "code",
   "execution_count": 7,
   "id": "37524bb5",
   "metadata": {
    "ExecuteTime": {
     "end_time": "2023-08-02T11:30:49.833688Z",
     "start_time": "2023-08-02T11:30:49.802725Z"
    }
   },
   "outputs": [
    {
     "data": {
      "text/plain": [
       "0.10250733611111112"
      ]
     },
     "execution_count": 7,
     "metadata": {},
     "output_type": "execute_result"
    }
   ],
   "source": [
    "master_df = pd.read_csv('../results/LSTM-m3-All-71.csv')\n",
    "master_df['MSE^3'] = master_df['MSE'] * 10**3\n",
    "np.mean(master_df['MSE^3'])"
   ]
  },
  {
   "cell_type": "markdown",
   "id": "5bcf96f8",
   "metadata": {},
   "source": [
    "## m3 with ARCH 11 per Sector"
   ]
  },
  {
   "cell_type": "code",
   "execution_count": 14,
   "id": "b8452f90",
   "metadata": {
    "ExecuteTime": {
     "end_time": "2023-08-02T12:48:30.404457Z",
     "start_time": "2023-08-02T12:48:30.315749Z"
    }
   },
   "outputs": [
    {
     "data": {
      "text/plain": [
       "0.2613161569444444"
      ]
     },
     "execution_count": 14,
     "metadata": {},
     "output_type": "execute_result"
    }
   ],
   "source": [
    "# Get a list of all csv files that start with \"LSTM-m1-\"\n",
    "csv_files = glob.glob(\"../results/lstm-arch-1/change11-sector-notgood/LSTM-m3-*.csv\")\n",
    "\n",
    "master_df = pd.DataFrame()\n",
    "\n",
    "# Print the list of csv files\n",
    "for file in csv_files:\n",
    "    temp_df = pd.read_csv(file)\n",
    "    master_df = pd.concat([master_df, temp_df])\n",
    "    \n",
    "master_df['MSE^3'] = master_df['MSE'] * 10**3\n",
    "np.mean(master_df['MSE^3'])"
   ]
  },
  {
   "cell_type": "markdown",
   "id": "6f5e5e9e",
   "metadata": {},
   "source": [
    "## m3 with ARCH 11 ALL but with previous datasets"
   ]
  },
  {
   "cell_type": "markdown",
   "id": "f91a2b4c",
   "metadata": {},
   "source": [
    "## m3 with ARCH 11 ALL but with previous datasets + Train (.7)"
   ]
  },
  {
   "cell_type": "code",
   "execution_count": 19,
   "id": "46bcb329",
   "metadata": {
    "ExecuteTime": {
     "end_time": "2023-08-02T13:01:14.392980Z",
     "start_time": "2023-08-02T13:01:14.251562Z"
    }
   },
   "outputs": [
    {
     "data": {
      "text/plain": [
       "0.23398892891566267"
      ]
     },
     "execution_count": 19,
     "metadata": {},
     "output_type": "execute_result"
    }
   ],
   "source": [
    "# Get a list of all csv files that start with \"LSTM-m1-\"\n",
    "csv_files = glob.glob(\"../results/LSTM-m3-*.csv\")\n",
    "\n",
    "master_df = pd.DataFrame()\n",
    "\n",
    "# Print the list of csv files\n",
    "for file in csv_files:\n",
    "    temp_df = pd.read_csv(file)\n",
    "    master_df = pd.concat([master_df, temp_df])\n",
    "    \n",
    "master_df['MSE^3'] = master_df['MSE'] * 10**3\n",
    "np.mean(master_df['MSE^3'])"
   ]
  },
  {
   "cell_type": "markdown",
   "id": "54fb18c1",
   "metadata": {},
   "source": [
    "# LSTM-m1-exp1"
   ]
  },
  {
   "cell_type": "code",
   "execution_count": null,
   "id": "547be2d2",
   "metadata": {},
   "outputs": [],
   "source": [
    "# Get a list of all csv files that start with \"LSTM-m1-\"\n",
    "csv_files = glob.glob(\"../results/lstm-arch-2/LSTM-m1-Basic*.csv\")\n",
    "\n",
    "master_df = pd.DataFrame()\n",
    "\n",
    "# Print the list of csv files\n",
    "for file in csv_files:\n",
    "    temp_df = pd.read_csv(file)\n",
    "    master_df = pd.concat([master_df, temp_df])\n",
    "    \n",
    "master_df['MSE^3'] = master_df['MSE'] * 10**3\n",
    "np.mean(master_df['MSE^3'])"
   ]
  },
  {
   "cell_type": "markdown",
   "id": "41787071",
   "metadata": {},
   "source": [
    "---"
   ]
  },
  {
   "cell_type": "markdown",
   "id": "77176f70",
   "metadata": {},
   "source": [
    "# Final Calculation from Final Settings"
   ]
  },
  {
   "cell_type": "markdown",
   "id": "43d93a65",
   "metadata": {},
   "source": [
    "## M1"
   ]
  },
  {
   "cell_type": "code",
   "execution_count": 24,
   "id": "c74e9090",
   "metadata": {
    "ExecuteTime": {
     "end_time": "2023-08-02T21:56:21.546233Z",
     "start_time": "2023-08-02T21:56:21.512745Z"
    }
   },
   "outputs": [
    {
     "data": {
      "text/plain": [
       "0.18563794999999997"
      ]
     },
     "execution_count": 24,
     "metadata": {},
     "output_type": "execute_result"
    }
   ],
   "source": [
    "# Get a list of all csv files that start with \"LSTM-m1-\"\n",
    "csv_files = glob.glob(\"../results/LSTM-m1-All-83.csv\")\n",
    "\n",
    "master_df = pd.DataFrame()\n",
    "\n",
    "# Print the list of csv files\n",
    "for file in csv_files:\n",
    "    temp_df = pd.read_csv(file)\n",
    "    master_df = pd.concat([master_df, temp_df])\n",
    "    \n",
    "master_df['MSE^3'] = master_df['MSE'] * 10**3\n",
    "np.mean(master_df['MSE^3'])"
   ]
  },
  {
   "cell_type": "markdown",
   "id": "5123604e",
   "metadata": {},
   "source": [
    "## M2"
   ]
  },
  {
   "cell_type": "code",
   "execution_count": 23,
   "id": "47e77cfc",
   "metadata": {
    "ExecuteTime": {
     "end_time": "2023-08-02T21:56:11.861200Z",
     "start_time": "2023-08-02T21:56:11.831898Z"
    }
   },
   "outputs": [
    {
     "data": {
      "text/plain": [
       "0.1712311488095238"
      ]
     },
     "execution_count": 23,
     "metadata": {},
     "output_type": "execute_result"
    }
   ],
   "source": [
    "# Get a list of all csv files that start with \"LSTM-m1-\"\n",
    "csv_files = glob.glob(\"../results/LSTM-m2-All-83.csv\")\n",
    "\n",
    "master_df = pd.DataFrame()\n",
    "\n",
    "# Print the list of csv files\n",
    "for file in csv_files:\n",
    "    temp_df = pd.read_csv(file)\n",
    "    master_df = pd.concat([master_df, temp_df])\n",
    "    \n",
    "master_df['MSE^3'] = master_df['MSE'] * 10**3\n",
    "np.mean(master_df['MSE^3'])"
   ]
  },
  {
   "cell_type": "markdown",
   "id": "3c7b1eb6",
   "metadata": {},
   "source": [
    "## M3"
   ]
  },
  {
   "cell_type": "code",
   "execution_count": 22,
   "id": "8a9d72b7",
   "metadata": {
    "ExecuteTime": {
     "end_time": "2023-08-02T21:55:38.809504Z",
     "start_time": "2023-08-02T21:55:38.623821Z"
    }
   },
   "outputs": [
    {
     "data": {
      "text/plain": [
       "0.17212409166666667"
      ]
     },
     "execution_count": 22,
     "metadata": {},
     "output_type": "execute_result"
    }
   ],
   "source": [
    "# Get a list of all csv files that start with \"LSTM-m1-\"\n",
    "csv_files = glob.glob(\"../results/LSTM-m3-All-83.csv\")\n",
    "\n",
    "master_df = pd.DataFrame()\n",
    "\n",
    "# Print the list of csv files\n",
    "for file in csv_files:\n",
    "    temp_df = pd.read_csv(file)\n",
    "    master_df = pd.concat([master_df, temp_df])\n",
    "    \n",
    "master_df['MSE^3'] = master_df['MSE'] * 10**3\n",
    "np.mean(master_df['MSE^3'])"
   ]
  },
  {
   "cell_type": "code",
   "execution_count": 25,
   "id": "3a03d0bc",
   "metadata": {
    "ExecuteTime": {
     "end_time": "2023-08-02T22:10:45.036170Z",
     "start_time": "2023-08-02T22:10:44.913659Z"
    }
   },
   "outputs": [
    {
     "data": {
      "text/plain": [
       "0.16353720476190475"
      ]
     },
     "execution_count": 25,
     "metadata": {},
     "output_type": "execute_result"
    }
   ],
   "source": [
    "# Get a list of all csv files that start with \"LSTM-m1-\"\n",
    "csv_files = glob.glob(\"../results/LSTM-m3-All-83.csv\")\n",
    "\n",
    "master_df = pd.DataFrame()\n",
    "\n",
    "# Print the list of csv files\n",
    "for file in csv_files:\n",
    "    temp_df = pd.read_csv(file)\n",
    "    master_df = pd.concat([master_df, temp_df])\n",
    "    \n",
    "master_df['MSE^3'] = master_df['MSE'] * 10**3\n",
    "np.mean(master_df['MSE^3'])"
   ]
  },
  {
   "cell_type": "code",
   "execution_count": 26,
   "id": "d1efac85",
   "metadata": {
    "ExecuteTime": {
     "end_time": "2023-08-02T22:27:20.019647Z",
     "start_time": "2023-08-02T22:27:19.902754Z"
    }
   },
   "outputs": [
    {
     "data": {
      "text/plain": [
       "0.16065332857142858"
      ]
     },
     "execution_count": 26,
     "metadata": {},
     "output_type": "execute_result"
    }
   ],
   "source": [
    "# Get a list of all csv files that start with \"LSTM-m1-\"\n",
    "csv_files = glob.glob(\"../results/LSTM-m3-All-83.csv\")\n",
    "\n",
    "master_df = pd.DataFrame()\n",
    "\n",
    "# Print the list of csv files\n",
    "for file in csv_files:\n",
    "    temp_df = pd.read_csv(file)\n",
    "    master_df = pd.concat([master_df, temp_df])\n",
    "    \n",
    "master_df['MSE^3'] = master_df['MSE'] * 10**3\n",
    "np.mean(master_df['MSE^3'])"
   ]
  },
  {
   "cell_type": "code",
   "execution_count": 27,
   "id": "6562dfd2",
   "metadata": {
    "ExecuteTime": {
     "end_time": "2023-08-02T22:45:29.261904Z",
     "start_time": "2023-08-02T22:45:29.182963Z"
    }
   },
   "outputs": [
    {
     "data": {
      "text/plain": [
       "0.16509298571428574"
      ]
     },
     "execution_count": 27,
     "metadata": {},
     "output_type": "execute_result"
    }
   ],
   "source": [
    "# Get a list of all csv files that start with \"LSTM-m1-\"\n",
    "csv_files = glob.glob(\"../results/lstm-arch-1/experiment-4/LSTM-m3-All-83.csv\")\n",
    "\n",
    "master_df = pd.DataFrame()\n",
    "\n",
    "# Print the list of csv files\n",
    "for file in csv_files:\n",
    "    temp_df = pd.read_csv(file)\n",
    "    master_df = pd.concat([master_df, temp_df])\n",
    "    \n",
    "master_df['MSE^3'] = master_df['MSE'] * 10**3\n",
    "np.mean(master_df['MSE^3'])"
   ]
  },
  {
   "cell_type": "code",
   "execution_count": 38,
   "id": "b1d02ed7",
   "metadata": {
    "ExecuteTime": {
     "end_time": "2023-08-03T00:01:49.985334Z",
     "start_time": "2023-08-03T00:01:49.948381Z"
    }
   },
   "outputs": [
    {
     "data": {
      "text/plain": [
       "0.15962615238095237"
      ]
     },
     "execution_count": 38,
     "metadata": {},
     "output_type": "execute_result"
    }
   ],
   "source": [
    "# Get a list of all csv files that start with \"LSTM-m1-\"\n",
    "csv_files = glob.glob(\"../results/lstm-arch-1/experiment-5/LSTM-m3-All-83.csv\")\n",
    "\n",
    "master_df = pd.DataFrame()\n",
    "\n",
    "# Print the list of csv files\n",
    "for file in csv_files:\n",
    "    temp_df = pd.read_csv(file)\n",
    "    master_df = pd.concat([master_df, temp_df])\n",
    "    \n",
    "master_df['MSE^3'] = master_df['MSE'] * 10**3\n",
    "np.mean(master_df['MSE^3'])"
   ]
  },
  {
   "cell_type": "code",
   "execution_count": 31,
   "id": "dcf0b53c",
   "metadata": {
    "ExecuteTime": {
     "end_time": "2023-08-02T23:55:35.831448Z",
     "start_time": "2023-08-02T23:55:35.818694Z"
    }
   },
   "outputs": [
    {
     "data": {
      "text/plain": [
       "0.25610320588235286"
      ]
     },
     "execution_count": 31,
     "metadata": {},
     "output_type": "execute_result"
    }
   ],
   "source": [
    "# Get a list of all csv files that start with \"LSTM-m1-\"\n",
    "csv_files = glob.glob(\"../results/LSTM-m3-All-84.csv\")\n",
    "\n",
    "master_df = pd.DataFrame()\n",
    "\n",
    "# Print the list of csv files\n",
    "for file in csv_files:\n",
    "    temp_df = pd.read_csv(file)\n",
    "    master_df = pd.concat([master_df, temp_df])\n",
    "    \n",
    "master_df['MSE^3'] = master_df['MSE'] * 10**3\n",
    "np.mean(master_df['MSE^3'])"
   ]
  },
  {
   "cell_type": "code",
   "execution_count": 36,
   "id": "8e2afcb3",
   "metadata": {
    "ExecuteTime": {
     "end_time": "2023-08-02T23:59:47.583659Z",
     "start_time": "2023-08-02T23:59:47.576616Z"
    }
   },
   "outputs": [
    {
     "data": {
      "text/plain": [
       "0.25610320588235297"
      ]
     },
     "execution_count": 36,
     "metadata": {},
     "output_type": "execute_result"
    }
   ],
   "source": [
    "np.mean(master_df['MSE'])*10**3"
   ]
  },
  {
   "cell_type": "markdown",
   "id": "0af49afa",
   "metadata": {},
   "source": [
    "---"
   ]
  },
  {
   "cell_type": "markdown",
   "id": "9d8469ca",
   "metadata": {},
   "source": [
    "# experiment 6 with lag daily, weekly, and monthly"
   ]
  },
  {
   "cell_type": "code",
   "execution_count": 40,
   "id": "4f838b21",
   "metadata": {
    "ExecuteTime": {
     "end_time": "2023-08-03T01:00:07.719118Z",
     "start_time": "2023-08-03T01:00:07.587179Z"
    }
   },
   "outputs": [
    {
     "data": {
      "text/plain": [
       "0.0071688824836282136"
      ]
     },
     "execution_count": 40,
     "metadata": {},
     "output_type": "execute_result"
    }
   ],
   "source": [
    "# Get a list of all csv files that start with \"LSTM-m1-\"\n",
    "csv_files = glob.glob(\"../results/LSTM-m1-All-84.csv\")\n",
    "\n",
    "master_df = pd.DataFrame()\n",
    "\n",
    "# Print the list of csv files\n",
    "for file in csv_files:\n",
    "    temp_df = pd.read_csv(file)\n",
    "    master_df = pd.concat([master_df, temp_df])\n",
    "    \n",
    "master_df['MSE^3'] = master_df['MSE'] * 10**3\n",
    "np.mean(master_df['MSE^3'])"
   ]
  },
  {
   "cell_type": "code",
   "execution_count": 41,
   "id": "bba0b950",
   "metadata": {
    "ExecuteTime": {
     "end_time": "2023-08-03T07:35:41.042026Z",
     "start_time": "2023-08-03T07:35:40.716535Z"
    }
   },
   "outputs": [
    {
     "data": {
      "text/plain": [
       "0.007238121840065716"
      ]
     },
     "execution_count": 41,
     "metadata": {},
     "output_type": "execute_result"
    }
   ],
   "source": [
    "# Get a list of all csv files that start with \"LSTM-m1-\"\n",
    "csv_files = glob.glob(\"../results/LSTM-m3-All-84.csv\")\n",
    "\n",
    "master_df = pd.DataFrame()\n",
    "\n",
    "# Print the list of csv files\n",
    "for file in csv_files:\n",
    "    temp_df = pd.read_csv(file)\n",
    "    master_df = pd.concat([master_df, temp_df])\n",
    "    \n",
    "master_df['MSE^3'] = master_df['MSE'] * 10**3\n",
    "np.mean(master_df['MSE^3'])"
   ]
  },
  {
   "cell_type": "code",
   "execution_count": 43,
   "id": "b956ea61",
   "metadata": {
    "ExecuteTime": {
     "end_time": "2023-08-03T12:54:22.186586Z",
     "start_time": "2023-08-03T12:54:22.058427Z"
    }
   },
   "outputs": [
    {
     "data": {
      "text/plain": [
       "0.008606824533048183"
      ]
     },
     "execution_count": 43,
     "metadata": {},
     "output_type": "execute_result"
    }
   ],
   "source": [
    "# Get a list of all csv files that start with \"LSTM-m1-\"\n",
    "csv_files = glob.glob(\"../results/LSTM-m2-All-84.csv\")\n",
    "\n",
    "master_df = pd.DataFrame()\n",
    "\n",
    "# Print the list of csv files\n",
    "for file in csv_files:\n",
    "    temp_df = pd.read_csv(file)\n",
    "    master_df = pd.concat([master_df, temp_df])\n",
    "    \n",
    "master_df['MSE^3'] = master_df['MSE'] * 10**3\n",
    "np.mean(master_df['MSE^3'])"
   ]
  },
  {
   "cell_type": "markdown",
   "id": "91c66d52",
   "metadata": {},
   "source": [
    "---"
   ]
  },
  {
   "cell_type": "markdown",
   "id": "98044130",
   "metadata": {},
   "source": [
    "# Final Dataset Fixed with lag daily weekly and monthly"
   ]
  },
  {
   "cell_type": "code",
   "execution_count": 44,
   "id": "68db6964",
   "metadata": {
    "ExecuteTime": {
     "end_time": "2023-08-03T13:47:42.353695Z",
     "start_time": "2023-08-03T13:47:42.174143Z"
    }
   },
   "outputs": [
    {
     "data": {
      "text/plain": [
       "0.16168725946924908"
      ]
     },
     "execution_count": 44,
     "metadata": {},
     "output_type": "execute_result"
    }
   ],
   "source": [
    "# Get a list of all csv files that start with \"LSTM-m1-\"\n",
    "csv_files = glob.glob(\"../results/LSTM-m1-All-84.csv\")\n",
    "\n",
    "master_df = pd.DataFrame()\n",
    "\n",
    "# Print the list of csv files\n",
    "for file in csv_files:\n",
    "    temp_df = pd.read_csv(file)\n",
    "    master_df = pd.concat([master_df, temp_df])\n",
    "    \n",
    "master_df['MSE^3'] = master_df['MSE'] * 10**3\n",
    "np.mean(master_df['MSE^3'])"
   ]
  },
  {
   "cell_type": "code",
   "execution_count": 46,
   "id": "89764544",
   "metadata": {
    "ExecuteTime": {
     "end_time": "2023-08-03T14:10:47.521148Z",
     "start_time": "2023-08-03T14:10:47.501662Z"
    }
   },
   "outputs": [
    {
     "data": {
      "text/plain": [
       "0.1654581139106691"
      ]
     },
     "execution_count": 46,
     "metadata": {},
     "output_type": "execute_result"
    }
   ],
   "source": [
    "# Get a list of all csv files that start with \"LSTM-m1-\"\n",
    "csv_files = glob.glob(\"../results/LSTM-m2-All-84.csv\")\n",
    "\n",
    "master_df = pd.DataFrame()\n",
    "\n",
    "# Print the list of csv files\n",
    "for file in csv_files:\n",
    "    temp_df = pd.read_csv(file)\n",
    "    master_df = pd.concat([master_df, temp_df])\n",
    "    \n",
    "master_df['MSE^3'] = master_df['MSE'] * 10**3\n",
    "np.mean(master_df['MSE^3'])"
   ]
  },
  {
   "cell_type": "code",
   "execution_count": 45,
   "id": "65d84e5d",
   "metadata": {
    "ExecuteTime": {
     "end_time": "2023-08-03T14:10:12.252696Z",
     "start_time": "2023-08-03T14:10:12.169650Z"
    }
   },
   "outputs": [
    {
     "data": {
      "text/plain": [
       "0.1724561613998508"
      ]
     },
     "execution_count": 45,
     "metadata": {},
     "output_type": "execute_result"
    }
   ],
   "source": [
    "# Get a list of all csv files that start with \"LSTM-m1-\"\n",
    "csv_files = glob.glob(\"../results/LSTM-m3-All-84.csv\")\n",
    "\n",
    "master_df = pd.DataFrame()\n",
    "\n",
    "# Print the list of csv files\n",
    "for file in csv_files:\n",
    "    temp_df = pd.read_csv(file)\n",
    "    master_df = pd.concat([master_df, temp_df])\n",
    "    \n",
    "master_df['MSE^3'] = master_df['MSE'] * 10**3\n",
    "np.mean(master_df['MSE^3'])"
   ]
  },
  {
   "cell_type": "markdown",
   "id": "c22fbee9",
   "metadata": {},
   "source": [
    "## Experiment 1"
   ]
  },
  {
   "cell_type": "code",
   "execution_count": 56,
   "id": "a9be13fb",
   "metadata": {
    "ExecuteTime": {
     "end_time": "2023-08-03T23:46:10.671732Z",
     "start_time": "2023-08-03T23:46:10.561681Z"
    }
   },
   "outputs": [
    {
     "data": {
      "text/plain": [
       "0.15662250909364167"
      ]
     },
     "execution_count": 56,
     "metadata": {},
     "output_type": "execute_result"
    }
   ],
   "source": [
    "# Get a list of all csv files that start with \"LSTM-m1-\"\n",
    "csv_files = glob.glob(\"../results/lstm-arch-1/experiment-2-4/LSTM-m1-All-84.csv\")\n",
    "\n",
    "master_df = pd.DataFrame()\n",
    "\n",
    "# Print the list of csv files\n",
    "for file in csv_files:\n",
    "    temp_df = pd.read_csv(file)\n",
    "    master_df = pd.concat([master_df, temp_df])\n",
    "    \n",
    "master_df['MSE^3'] = master_df['MSE'] * 10**3\n",
    "np.mean(master_df['MSE^3'])"
   ]
  },
  {
   "cell_type": "code",
   "execution_count": 57,
   "id": "74a3643d",
   "metadata": {
    "ExecuteTime": {
     "end_time": "2023-08-03T23:46:11.463773Z",
     "start_time": "2023-08-03T23:46:11.437122Z"
    }
   },
   "outputs": [
    {
     "data": {
      "text/plain": [
       "0.1597646247737662"
      ]
     },
     "execution_count": 57,
     "metadata": {},
     "output_type": "execute_result"
    }
   ],
   "source": [
    "# Get a list of all csv files that start with \"LSTM-m1-\"\n",
    "csv_files = glob.glob(\"../results/lstm-arch-1/experiment-2-4/LSTM-m2-All-84.csv\")\n",
    "\n",
    "master_df = pd.DataFrame()\n",
    "\n",
    "# Print the list of csv files\n",
    "for file in csv_files:\n",
    "    temp_df = pd.read_csv(file)\n",
    "    master_df = pd.concat([master_df, temp_df])\n",
    "    \n",
    "master_df['MSE^3'] = master_df['MSE'] * 10**3\n",
    "np.mean(master_df['MSE^3'])"
   ]
  },
  {
   "cell_type": "code",
   "execution_count": 58,
   "id": "771e35ea",
   "metadata": {
    "ExecuteTime": {
     "end_time": "2023-08-03T23:46:13.629579Z",
     "start_time": "2023-08-03T23:46:13.602846Z"
    }
   },
   "outputs": [
    {
     "data": {
      "text/plain": [
       "0.16824463493634687"
      ]
     },
     "execution_count": 58,
     "metadata": {},
     "output_type": "execute_result"
    }
   ],
   "source": [
    "# Get a list of all csv files that start with \"LSTM-m1-\"\n",
    "csv_files = glob.glob(\"../results/lstm-arch-1/experiment-2-4/LSTM-m3-All-84.csv\")\n",
    "\n",
    "master_df = pd.DataFrame()\n",
    "\n",
    "# Print the list of csv files\n",
    "for file in csv_files:\n",
    "    temp_df = pd.read_csv(file)\n",
    "    master_df = pd.concat([master_df, temp_df])\n",
    "    \n",
    "master_df['MSE^3'] = master_df['MSE'] * 10**3\n",
    "np.mean(master_df['MSE^3'])"
   ]
  },
  {
   "cell_type": "code",
   "execution_count": null,
   "id": "98cd6466",
   "metadata": {},
   "outputs": [],
   "source": []
  }
 ],
 "metadata": {
  "kernelspec": {
   "display_name": "Python 3 (ipykernel)",
   "language": "python",
   "name": "python3"
  },
  "language_info": {
   "codemirror_mode": {
    "name": "ipython",
    "version": 3
   },
   "file_extension": ".py",
   "mimetype": "text/x-python",
   "name": "python",
   "nbconvert_exporter": "python",
   "pygments_lexer": "ipython3",
   "version": "3.11.3"
  },
  "toc": {
   "base_numbering": 1,
   "nav_menu": {},
   "number_sections": true,
   "sideBar": true,
   "skip_h1_title": false,
   "title_cell": "Table of Contents",
   "title_sidebar": "Contents",
   "toc_cell": true,
   "toc_position": {},
   "toc_section_display": true,
   "toc_window_display": true
  }
 },
 "nbformat": 4,
 "nbformat_minor": 5
}
