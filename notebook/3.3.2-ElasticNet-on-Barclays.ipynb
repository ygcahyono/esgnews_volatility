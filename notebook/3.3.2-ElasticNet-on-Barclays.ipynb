{
 "cells": [
  {
   "cell_type": "markdown",
   "id": "047be5e9",
   "metadata": {
    "toc": true
   },
   "source": [
    "<h1>Table of Contents<span class=\"tocSkip\"></span></h1>\n",
    "<div class=\"toc\"><ul class=\"toc-item\"><li><span><a href=\"#ElasticNet-on-Barclays\" data-toc-modified-id=\"ElasticNet-on-Barclays-1\"><span class=\"toc-item-num\">1&nbsp;&nbsp;</span>ElasticNet on Barclays</a></span></li></ul></div>"
   ]
  },
  {
   "cell_type": "markdown",
   "id": "9f00e0f5",
   "metadata": {},
   "source": [
    "# ElasticNet on Barclays"
   ]
  },
  {
   "cell_type": "code",
   "execution_count": 1,
   "id": "bdcdadaa",
   "metadata": {
    "ExecuteTime": {
     "end_time": "2023-07-10T20:33:48.798861Z",
     "start_time": "2023-07-10T20:33:47.807446Z"
    }
   },
   "outputs": [
    {
     "data": {
      "text/html": [
       "<style>.container { width:80% !important; }</style>"
      ],
      "text/plain": [
       "<IPython.core.display.HTML object>"
      ]
     },
     "metadata": {},
     "output_type": "display_data"
    }
   ],
   "source": [
    "import pandas as pd\n",
    "import numpy as np\n",
    "\n",
    "from sklearn.linear_model import ElasticNet\n",
    "\n",
    "from IPython.display import display, HTML\n",
    "from sklearn.metrics import mean_squared_error\n",
    "import matplotlib.pyplot as plt\n",
    "import numpy as np\n",
    "import random as rd\n",
    "import warnings\n",
    "import pandas as pd\n",
    "\n",
    "display(HTML(\"<style>.container { width:80% !important; }</style>\"))\n",
    "warnings.filterwarnings('ignore')\n",
    "pd.set_option('display.max_columns', 100)"
   ]
  },
  {
   "cell_type": "code",
   "execution_count": 4,
   "id": "3dd28044",
   "metadata": {
    "ExecuteTime": {
     "end_time": "2023-07-10T20:34:32.251096Z",
     "start_time": "2023-07-10T20:34:32.130212Z"
    }
   },
   "outputs": [
    {
     "data": {
      "text/html": [
       "<div>\n",
       "<style scoped>\n",
       "    .dataframe tbody tr th:only-of-type {\n",
       "        vertical-align: middle;\n",
       "    }\n",
       "\n",
       "    .dataframe tbody tr th {\n",
       "        vertical-align: top;\n",
       "    }\n",
       "\n",
       "    .dataframe thead th {\n",
       "        text-align: right;\n",
       "    }\n",
       "</style>\n",
       "<table border=\"1\" class=\"dataframe\">\n",
       "  <thead>\n",
       "    <tr style=\"text-align: right;\">\n",
       "      <th></th>\n",
       "      <th>date_key</th>\n",
       "      <th>month_key</th>\n",
       "      <th>Asset</th>\n",
       "      <th>Open</th>\n",
       "      <th>High</th>\n",
       "      <th>Low</th>\n",
       "      <th>Close</th>\n",
       "      <th>Return</th>\n",
       "      <th>buzz</th>\n",
       "      <th>ESG</th>\n",
       "      <th>ESGCombined</th>\n",
       "      <th>ESGControversies</th>\n",
       "      <th>EnvironmentalPillar</th>\n",
       "      <th>GovernancePillar</th>\n",
       "      <th>SocialPillar</th>\n",
       "      <th>CSRStrategy</th>\n",
       "      <th>Community</th>\n",
       "      <th>Emissions</th>\n",
       "      <th>EnvironmentalInnovation</th>\n",
       "      <th>HumanRights</th>\n",
       "      <th>Management</th>\n",
       "      <th>ProductResponsibility</th>\n",
       "      <th>ResourceUse</th>\n",
       "      <th>Shareholders</th>\n",
       "      <th>Workforce</th>\n",
       "      <th>V^CC</th>\n",
       "      <th>V^RS</th>\n",
       "      <th>V^YZ</th>\n",
       "    </tr>\n",
       "  </thead>\n",
       "  <tbody>\n",
       "    <tr>\n",
       "      <th>0</th>\n",
       "      <td>2006-02-28</td>\n",
       "      <td>2006-02-01</td>\n",
       "      <td>8589934333</td>\n",
       "      <td>6.058889</td>\n",
       "      <td>6.076881</td>\n",
       "      <td>5.986920</td>\n",
       "      <td>6.013908</td>\n",
       "      <td>-0.007424</td>\n",
       "      <td>5772.5</td>\n",
       "      <td>85.0</td>\n",
       "      <td>61.0</td>\n",
       "      <td>38.0</td>\n",
       "      <td>76.0</td>\n",
       "      <td>89.0</td>\n",
       "      <td>91.0</td>\n",
       "      <td>51.0</td>\n",
       "      <td>92.0</td>\n",
       "      <td>60.0</td>\n",
       "      <td>84.0</td>\n",
       "      <td>80.0</td>\n",
       "      <td>94.0</td>\n",
       "      <td>82.0</td>\n",
       "      <td>59.0</td>\n",
       "      <td>96.0</td>\n",
       "      <td>99.0</td>\n",
       "      <td>0.012428</td>\n",
       "      <td>0.013125</td>\n",
       "      <td>0.013810</td>\n",
       "    </tr>\n",
       "    <tr>\n",
       "      <th>1</th>\n",
       "      <td>2006-03-31</td>\n",
       "      <td>2006-03-01</td>\n",
       "      <td>8589934333</td>\n",
       "      <td>6.094874</td>\n",
       "      <td>6.126360</td>\n",
       "      <td>6.045395</td>\n",
       "      <td>6.058889</td>\n",
       "      <td>-0.008100</td>\n",
       "      <td>6653.5</td>\n",
       "      <td>82.0</td>\n",
       "      <td>59.0</td>\n",
       "      <td>36.0</td>\n",
       "      <td>69.0</td>\n",
       "      <td>87.0</td>\n",
       "      <td>91.0</td>\n",
       "      <td>45.0</td>\n",
       "      <td>93.0</td>\n",
       "      <td>55.0</td>\n",
       "      <td>82.0</td>\n",
       "      <td>88.0</td>\n",
       "      <td>93.0</td>\n",
       "      <td>74.0</td>\n",
       "      <td>35.0</td>\n",
       "      <td>96.0</td>\n",
       "      <td>99.0</td>\n",
       "      <td>0.010196</td>\n",
       "      <td>0.012146</td>\n",
       "      <td>0.013265</td>\n",
       "    </tr>\n",
       "    <tr>\n",
       "      <th>2</th>\n",
       "      <td>2006-04-28</td>\n",
       "      <td>2006-04-01</td>\n",
       "      <td>8589934333</td>\n",
       "      <td>6.135356</td>\n",
       "      <td>6.216321</td>\n",
       "      <td>6.103870</td>\n",
       "      <td>6.162344</td>\n",
       "      <td>0.004399</td>\n",
       "      <td>6734.0</td>\n",
       "      <td>80.0</td>\n",
       "      <td>55.0</td>\n",
       "      <td>30.0</td>\n",
       "      <td>63.0</td>\n",
       "      <td>86.0</td>\n",
       "      <td>91.0</td>\n",
       "      <td>38.0</td>\n",
       "      <td>87.0</td>\n",
       "      <td>25.0</td>\n",
       "      <td>79.0</td>\n",
       "      <td>93.0</td>\n",
       "      <td>93.0</td>\n",
       "      <td>76.0</td>\n",
       "      <td>36.0</td>\n",
       "      <td>97.0</td>\n",
       "      <td>100.0</td>\n",
       "      <td>0.009447</td>\n",
       "      <td>0.010984</td>\n",
       "      <td>0.011757</td>\n",
       "    </tr>\n",
       "    <tr>\n",
       "      <th>3</th>\n",
       "      <td>2006-05-31</td>\n",
       "      <td>2006-05-01</td>\n",
       "      <td>8589934333</td>\n",
       "      <td>5.253736</td>\n",
       "      <td>5.573098</td>\n",
       "      <td>5.226747</td>\n",
       "      <td>5.559604</td>\n",
       "      <td>0.048346</td>\n",
       "      <td>6355.5</td>\n",
       "      <td>81.0</td>\n",
       "      <td>57.0</td>\n",
       "      <td>33.0</td>\n",
       "      <td>64.0</td>\n",
       "      <td>89.0</td>\n",
       "      <td>91.0</td>\n",
       "      <td>34.0</td>\n",
       "      <td>87.0</td>\n",
       "      <td>42.0</td>\n",
       "      <td>77.0</td>\n",
       "      <td>94.0</td>\n",
       "      <td>97.0</td>\n",
       "      <td>76.0</td>\n",
       "      <td>36.0</td>\n",
       "      <td>96.0</td>\n",
       "      <td>99.0</td>\n",
       "      <td>0.018942</td>\n",
       "      <td>0.016143</td>\n",
       "      <td>0.017511</td>\n",
       "    </tr>\n",
       "    <tr>\n",
       "      <th>4</th>\n",
       "      <td>2006-06-30</td>\n",
       "      <td>2006-06-01</td>\n",
       "      <td>8589934333</td>\n",
       "      <td>5.577596</td>\n",
       "      <td>5.595588</td>\n",
       "      <td>5.483137</td>\n",
       "      <td>5.528118</td>\n",
       "      <td>0.005728</td>\n",
       "      <td>6034.5</td>\n",
       "      <td>82.0</td>\n",
       "      <td>59.0</td>\n",
       "      <td>36.0</td>\n",
       "      <td>67.0</td>\n",
       "      <td>87.0</td>\n",
       "      <td>93.0</td>\n",
       "      <td>29.0</td>\n",
       "      <td>92.0</td>\n",
       "      <td>29.0</td>\n",
       "      <td>83.0</td>\n",
       "      <td>88.0</td>\n",
       "      <td>94.0</td>\n",
       "      <td>84.0</td>\n",
       "      <td>43.0</td>\n",
       "      <td>98.0</td>\n",
       "      <td>100.0</td>\n",
       "      <td>0.019268</td>\n",
       "      <td>0.015390</td>\n",
       "      <td>0.018217</td>\n",
       "    </tr>\n",
       "    <tr>\n",
       "      <th>...</th>\n",
       "      <td>...</td>\n",
       "      <td>...</td>\n",
       "      <td>...</td>\n",
       "      <td>...</td>\n",
       "      <td>...</td>\n",
       "      <td>...</td>\n",
       "      <td>...</td>\n",
       "      <td>...</td>\n",
       "      <td>...</td>\n",
       "      <td>...</td>\n",
       "      <td>...</td>\n",
       "      <td>...</td>\n",
       "      <td>...</td>\n",
       "      <td>...</td>\n",
       "      <td>...</td>\n",
       "      <td>...</td>\n",
       "      <td>...</td>\n",
       "      <td>...</td>\n",
       "      <td>...</td>\n",
       "      <td>...</td>\n",
       "      <td>...</td>\n",
       "      <td>...</td>\n",
       "      <td>...</td>\n",
       "      <td>...</td>\n",
       "      <td>...</td>\n",
       "      <td>...</td>\n",
       "      <td>...</td>\n",
       "      <td>...</td>\n",
       "    </tr>\n",
       "    <tr>\n",
       "      <th>198</th>\n",
       "      <td>2022-08-31</td>\n",
       "      <td>2022-08-01</td>\n",
       "      <td>8589934333</td>\n",
       "      <td>1.656600</td>\n",
       "      <td>1.669599</td>\n",
       "      <td>1.641400</td>\n",
       "      <td>1.645001</td>\n",
       "      <td>-0.001214</td>\n",
       "      <td>41760.5</td>\n",
       "      <td>49.0</td>\n",
       "      <td>31.0</td>\n",
       "      <td>13.0</td>\n",
       "      <td>75.0</td>\n",
       "      <td>18.0</td>\n",
       "      <td>54.0</td>\n",
       "      <td>85.0</td>\n",
       "      <td>12.0</td>\n",
       "      <td>69.0</td>\n",
       "      <td>82.0</td>\n",
       "      <td>85.0</td>\n",
       "      <td>5.0</td>\n",
       "      <td>3.0</td>\n",
       "      <td>55.0</td>\n",
       "      <td>21.0</td>\n",
       "      <td>89.0</td>\n",
       "      <td>0.016873</td>\n",
       "      <td>0.015432</td>\n",
       "      <td>0.016869</td>\n",
       "    </tr>\n",
       "    <tr>\n",
       "      <th>199</th>\n",
       "      <td>2022-09-30</td>\n",
       "      <td>2022-09-01</td>\n",
       "      <td>8589934333</td>\n",
       "      <td>1.440400</td>\n",
       "      <td>1.476187</td>\n",
       "      <td>1.416799</td>\n",
       "      <td>1.443000</td>\n",
       "      <td>-0.002489</td>\n",
       "      <td>42463.0</td>\n",
       "      <td>48.0</td>\n",
       "      <td>31.0</td>\n",
       "      <td>13.0</td>\n",
       "      <td>76.0</td>\n",
       "      <td>18.0</td>\n",
       "      <td>51.0</td>\n",
       "      <td>85.0</td>\n",
       "      <td>7.0</td>\n",
       "      <td>78.0</td>\n",
       "      <td>84.0</td>\n",
       "      <td>82.0</td>\n",
       "      <td>5.0</td>\n",
       "      <td>2.0</td>\n",
       "      <td>42.0</td>\n",
       "      <td>16.0</td>\n",
       "      <td>87.0</td>\n",
       "      <td>0.018706</td>\n",
       "      <td>0.020202</td>\n",
       "      <td>0.021214</td>\n",
       "    </tr>\n",
       "    <tr>\n",
       "      <th>200</th>\n",
       "      <td>2022-10-31</td>\n",
       "      <td>2022-10-01</td>\n",
       "      <td>8589934333</td>\n",
       "      <td>1.470800</td>\n",
       "      <td>1.491197</td>\n",
       "      <td>1.466400</td>\n",
       "      <td>1.477600</td>\n",
       "      <td>0.009014</td>\n",
       "      <td>47353.5</td>\n",
       "      <td>58.0</td>\n",
       "      <td>35.0</td>\n",
       "      <td>12.0</td>\n",
       "      <td>74.0</td>\n",
       "      <td>52.0</td>\n",
       "      <td>48.0</td>\n",
       "      <td>85.0</td>\n",
       "      <td>6.0</td>\n",
       "      <td>84.0</td>\n",
       "      <td>88.0</td>\n",
       "      <td>77.0</td>\n",
       "      <td>43.0</td>\n",
       "      <td>2.0</td>\n",
       "      <td>9.0</td>\n",
       "      <td>59.0</td>\n",
       "      <td>81.0</td>\n",
       "      <td>0.021406</td>\n",
       "      <td>0.024083</td>\n",
       "      <td>0.025140</td>\n",
       "    </tr>\n",
       "    <tr>\n",
       "      <th>201</th>\n",
       "      <td>2022-11-30</td>\n",
       "      <td>2022-11-01</td>\n",
       "      <td>8589934333</td>\n",
       "      <td>1.617800</td>\n",
       "      <td>1.628000</td>\n",
       "      <td>1.603500</td>\n",
       "      <td>1.612400</td>\n",
       "      <td>0.001491</td>\n",
       "      <td>51001.5</td>\n",
       "      <td>52.0</td>\n",
       "      <td>31.0</td>\n",
       "      <td>11.0</td>\n",
       "      <td>73.0</td>\n",
       "      <td>35.0</td>\n",
       "      <td>47.0</td>\n",
       "      <td>86.0</td>\n",
       "      <td>10.0</td>\n",
       "      <td>85.0</td>\n",
       "      <td>87.0</td>\n",
       "      <td>71.0</td>\n",
       "      <td>17.0</td>\n",
       "      <td>2.0</td>\n",
       "      <td>4.0</td>\n",
       "      <td>62.0</td>\n",
       "      <td>80.0</td>\n",
       "      <td>0.011400</td>\n",
       "      <td>0.015951</td>\n",
       "      <td>0.016662</td>\n",
       "    </tr>\n",
       "    <tr>\n",
       "      <th>202</th>\n",
       "      <td>2022-12-30</td>\n",
       "      <td>2022-12-01</td>\n",
       "      <td>8589934333</td>\n",
       "      <td>1.585600</td>\n",
       "      <td>1.597400</td>\n",
       "      <td>1.582000</td>\n",
       "      <td>1.585200</td>\n",
       "      <td>-0.005146</td>\n",
       "      <td>47844.0</td>\n",
       "      <td>70.0</td>\n",
       "      <td>41.0</td>\n",
       "      <td>11.0</td>\n",
       "      <td>85.0</td>\n",
       "      <td>77.0</td>\n",
       "      <td>47.0</td>\n",
       "      <td>85.0</td>\n",
       "      <td>13.0</td>\n",
       "      <td>85.0</td>\n",
       "      <td>87.0</td>\n",
       "      <td>63.0</td>\n",
       "      <td>79.0</td>\n",
       "      <td>2.0</td>\n",
       "      <td>79.0</td>\n",
       "      <td>64.0</td>\n",
       "      <td>82.0</td>\n",
       "      <td>0.011573</td>\n",
       "      <td>0.011617</td>\n",
       "      <td>0.012427</td>\n",
       "    </tr>\n",
       "  </tbody>\n",
       "</table>\n",
       "<p>203 rows × 28 columns</p>\n",
       "</div>"
      ],
      "text/plain": [
       "       date_key   month_key       Asset      Open      High       Low  \\\n",
       "0    2006-02-28  2006-02-01  8589934333  6.058889  6.076881  5.986920   \n",
       "1    2006-03-31  2006-03-01  8589934333  6.094874  6.126360  6.045395   \n",
       "2    2006-04-28  2006-04-01  8589934333  6.135356  6.216321  6.103870   \n",
       "3    2006-05-31  2006-05-01  8589934333  5.253736  5.573098  5.226747   \n",
       "4    2006-06-30  2006-06-01  8589934333  5.577596  5.595588  5.483137   \n",
       "..          ...         ...         ...       ...       ...       ...   \n",
       "198  2022-08-31  2022-08-01  8589934333  1.656600  1.669599  1.641400   \n",
       "199  2022-09-30  2022-09-01  8589934333  1.440400  1.476187  1.416799   \n",
       "200  2022-10-31  2022-10-01  8589934333  1.470800  1.491197  1.466400   \n",
       "201  2022-11-30  2022-11-01  8589934333  1.617800  1.628000  1.603500   \n",
       "202  2022-12-30  2022-12-01  8589934333  1.585600  1.597400  1.582000   \n",
       "\n",
       "        Close    Return     buzz   ESG  ESGCombined  ESGControversies  \\\n",
       "0    6.013908 -0.007424   5772.5  85.0         61.0              38.0   \n",
       "1    6.058889 -0.008100   6653.5  82.0         59.0              36.0   \n",
       "2    6.162344  0.004399   6734.0  80.0         55.0              30.0   \n",
       "3    5.559604  0.048346   6355.5  81.0         57.0              33.0   \n",
       "4    5.528118  0.005728   6034.5  82.0         59.0              36.0   \n",
       "..        ...       ...      ...   ...          ...               ...   \n",
       "198  1.645001 -0.001214  41760.5  49.0         31.0              13.0   \n",
       "199  1.443000 -0.002489  42463.0  48.0         31.0              13.0   \n",
       "200  1.477600  0.009014  47353.5  58.0         35.0              12.0   \n",
       "201  1.612400  0.001491  51001.5  52.0         31.0              11.0   \n",
       "202  1.585200 -0.005146  47844.0  70.0         41.0              11.0   \n",
       "\n",
       "     EnvironmentalPillar  GovernancePillar  SocialPillar  CSRStrategy  \\\n",
       "0                   76.0              89.0          91.0         51.0   \n",
       "1                   69.0              87.0          91.0         45.0   \n",
       "2                   63.0              86.0          91.0         38.0   \n",
       "3                   64.0              89.0          91.0         34.0   \n",
       "4                   67.0              87.0          93.0         29.0   \n",
       "..                   ...               ...           ...          ...   \n",
       "198                 75.0              18.0          54.0         85.0   \n",
       "199                 76.0              18.0          51.0         85.0   \n",
       "200                 74.0              52.0          48.0         85.0   \n",
       "201                 73.0              35.0          47.0         86.0   \n",
       "202                 85.0              77.0          47.0         85.0   \n",
       "\n",
       "     Community  Emissions  EnvironmentalInnovation  HumanRights  Management  \\\n",
       "0         92.0       60.0                     84.0         80.0        94.0   \n",
       "1         93.0       55.0                     82.0         88.0        93.0   \n",
       "2         87.0       25.0                     79.0         93.0        93.0   \n",
       "3         87.0       42.0                     77.0         94.0        97.0   \n",
       "4         92.0       29.0                     83.0         88.0        94.0   \n",
       "..         ...        ...                      ...          ...         ...   \n",
       "198       12.0       69.0                     82.0         85.0         5.0   \n",
       "199        7.0       78.0                     84.0         82.0         5.0   \n",
       "200        6.0       84.0                     88.0         77.0        43.0   \n",
       "201       10.0       85.0                     87.0         71.0        17.0   \n",
       "202       13.0       85.0                     87.0         63.0        79.0   \n",
       "\n",
       "     ProductResponsibility  ResourceUse  Shareholders  Workforce      V^CC  \\\n",
       "0                     82.0         59.0          96.0       99.0  0.012428   \n",
       "1                     74.0         35.0          96.0       99.0  0.010196   \n",
       "2                     76.0         36.0          97.0      100.0  0.009447   \n",
       "3                     76.0         36.0          96.0       99.0  0.018942   \n",
       "4                     84.0         43.0          98.0      100.0  0.019268   \n",
       "..                     ...          ...           ...        ...       ...   \n",
       "198                    3.0         55.0          21.0       89.0  0.016873   \n",
       "199                    2.0         42.0          16.0       87.0  0.018706   \n",
       "200                    2.0          9.0          59.0       81.0  0.021406   \n",
       "201                    2.0          4.0          62.0       80.0  0.011400   \n",
       "202                    2.0         79.0          64.0       82.0  0.011573   \n",
       "\n",
       "         V^RS      V^YZ  \n",
       "0    0.013125  0.013810  \n",
       "1    0.012146  0.013265  \n",
       "2    0.010984  0.011757  \n",
       "3    0.016143  0.017511  \n",
       "4    0.015390  0.018217  \n",
       "..        ...       ...  \n",
       "198  0.015432  0.016869  \n",
       "199  0.020202  0.021214  \n",
       "200  0.024083  0.025140  \n",
       "201  0.015951  0.016662  \n",
       "202  0.011617  0.012427  \n",
       "\n",
       "[203 rows x 28 columns]"
      ]
     },
     "metadata": {},
     "output_type": "display_data"
    }
   ],
   "source": [
    "FTSE_volatility_df = pd.read_csv('../data/1.3-FTSE_Monthly_ESG_Volatility_Final.csv')\n",
    "FTSE_volatility_df = FTSE_volatility_df.rename(columns={'Date_x':'date_key'})\n",
    "asset = 8589934333\n",
    "\n",
    "sample_df = FTSE_volatility_df[FTSE_volatility_df.Asset == asset]\n",
    "sample_df = sample_df[sample_df['V^YZ'].notnull()].reset_index(drop=True)\n",
    "display(sample_df)"
   ]
  },
  {
   "cell_type": "code",
   "execution_count": 6,
   "id": "9c44b902",
   "metadata": {
    "ExecuteTime": {
     "end_time": "2023-07-10T20:35:05.561770Z",
     "start_time": "2023-07-10T20:35:05.554847Z"
    }
   },
   "outputs": [],
   "source": [
    "init_remove = ['date_key', 'month_key', 'Asset', 'Return', 'V^CC', 'V^RS']\n",
    "sample_df = sample_df.drop(init_remove, axis=1)"
   ]
  },
  {
   "cell_type": "markdown",
   "id": "30fc523c",
   "metadata": {},
   "source": [
    "---"
   ]
  },
  {
   "cell_type": "code",
   "execution_count": 8,
   "id": "9c7240ad",
   "metadata": {
    "ExecuteTime": {
     "end_time": "2023-07-10T20:35:19.100703Z",
     "start_time": "2023-07-10T20:35:19.096851Z"
    }
   },
   "outputs": [],
   "source": [
    "test_size = int(sample_df.shape[0]*0.2)"
   ]
  },
  {
   "cell_type": "code",
   "execution_count": 9,
   "id": "54ea828a",
   "metadata": {
    "ExecuteTime": {
     "end_time": "2023-07-10T20:35:19.998141Z",
     "start_time": "2023-07-10T20:35:19.994921Z"
    }
   },
   "outputs": [],
   "source": [
    "df_train, df_test = sample_df.iloc[:-test_size,], sample_df.iloc[-test_size:,]"
   ]
  },
  {
   "cell_type": "code",
   "execution_count": 10,
   "id": "a972298b",
   "metadata": {
    "ExecuteTime": {
     "end_time": "2023-07-10T20:35:21.256704Z",
     "start_time": "2023-07-10T20:35:21.252407Z"
    }
   },
   "outputs": [],
   "source": [
    "y_train = df_train['V^YZ']\n",
    "\n",
    "# Define the independent variables\n",
    "X_train = df_train.drop(['V^YZ'], axis=1)\n",
    "\n",
    "# Add a constant to the independent variables matrix"
   ]
  },
  {
   "cell_type": "code",
   "execution_count": 13,
   "id": "19c01ec2",
   "metadata": {
    "ExecuteTime": {
     "end_time": "2023-07-08T19:17:34.142569Z",
     "start_time": "2023-07-08T19:17:34.098910Z"
    }
   },
   "outputs": [
    {
     "data": {
      "text/html": [
       "<style>#sk-container-id-1 {color: black;background-color: white;}#sk-container-id-1 pre{padding: 0;}#sk-container-id-1 div.sk-toggleable {background-color: white;}#sk-container-id-1 label.sk-toggleable__label {cursor: pointer;display: block;width: 100%;margin-bottom: 0;padding: 0.3em;box-sizing: border-box;text-align: center;}#sk-container-id-1 label.sk-toggleable__label-arrow:before {content: \"▸\";float: left;margin-right: 0.25em;color: #696969;}#sk-container-id-1 label.sk-toggleable__label-arrow:hover:before {color: black;}#sk-container-id-1 div.sk-estimator:hover label.sk-toggleable__label-arrow:before {color: black;}#sk-container-id-1 div.sk-toggleable__content {max-height: 0;max-width: 0;overflow: hidden;text-align: left;background-color: #f0f8ff;}#sk-container-id-1 div.sk-toggleable__content pre {margin: 0.2em;color: black;border-radius: 0.25em;background-color: #f0f8ff;}#sk-container-id-1 input.sk-toggleable__control:checked~div.sk-toggleable__content {max-height: 200px;max-width: 100%;overflow: auto;}#sk-container-id-1 input.sk-toggleable__control:checked~label.sk-toggleable__label-arrow:before {content: \"▾\";}#sk-container-id-1 div.sk-estimator input.sk-toggleable__control:checked~label.sk-toggleable__label {background-color: #d4ebff;}#sk-container-id-1 div.sk-label input.sk-toggleable__control:checked~label.sk-toggleable__label {background-color: #d4ebff;}#sk-container-id-1 input.sk-hidden--visually {border: 0;clip: rect(1px 1px 1px 1px);clip: rect(1px, 1px, 1px, 1px);height: 1px;margin: -1px;overflow: hidden;padding: 0;position: absolute;width: 1px;}#sk-container-id-1 div.sk-estimator {font-family: monospace;background-color: #f0f8ff;border: 1px dotted black;border-radius: 0.25em;box-sizing: border-box;margin-bottom: 0.5em;}#sk-container-id-1 div.sk-estimator:hover {background-color: #d4ebff;}#sk-container-id-1 div.sk-parallel-item::after {content: \"\";width: 100%;border-bottom: 1px solid gray;flex-grow: 1;}#sk-container-id-1 div.sk-label:hover label.sk-toggleable__label {background-color: #d4ebff;}#sk-container-id-1 div.sk-serial::before {content: \"\";position: absolute;border-left: 1px solid gray;box-sizing: border-box;top: 0;bottom: 0;left: 50%;z-index: 0;}#sk-container-id-1 div.sk-serial {display: flex;flex-direction: column;align-items: center;background-color: white;padding-right: 0.2em;padding-left: 0.2em;position: relative;}#sk-container-id-1 div.sk-item {position: relative;z-index: 1;}#sk-container-id-1 div.sk-parallel {display: flex;align-items: stretch;justify-content: center;background-color: white;position: relative;}#sk-container-id-1 div.sk-item::before, #sk-container-id-1 div.sk-parallel-item::before {content: \"\";position: absolute;border-left: 1px solid gray;box-sizing: border-box;top: 0;bottom: 0;left: 50%;z-index: -1;}#sk-container-id-1 div.sk-parallel-item {display: flex;flex-direction: column;z-index: 1;position: relative;background-color: white;}#sk-container-id-1 div.sk-parallel-item:first-child::after {align-self: flex-end;width: 50%;}#sk-container-id-1 div.sk-parallel-item:last-child::after {align-self: flex-start;width: 50%;}#sk-container-id-1 div.sk-parallel-item:only-child::after {width: 0;}#sk-container-id-1 div.sk-dashed-wrapped {border: 1px dashed gray;margin: 0 0.4em 0.5em 0.4em;box-sizing: border-box;padding-bottom: 0.4em;background-color: white;}#sk-container-id-1 div.sk-label label {font-family: monospace;font-weight: bold;display: inline-block;line-height: 1.2em;}#sk-container-id-1 div.sk-label-container {text-align: center;}#sk-container-id-1 div.sk-container {/* jupyter's `normalize.less` sets `[hidden] { display: none; }` but bootstrap.min.css set `[hidden] { display: none !important; }` so we also need the `!important` here to be able to override the default hidden behavior on the sphinx rendered scikit-learn.org. See: https://github.com/scikit-learn/scikit-learn/issues/21755 */display: inline-block !important;position: relative;}#sk-container-id-1 div.sk-text-repr-fallback {display: none;}</style><div id=\"sk-container-id-1\" class=\"sk-top-container\"><div class=\"sk-text-repr-fallback\"><pre>ElasticNet()</pre><b>In a Jupyter environment, please rerun this cell to show the HTML representation or trust the notebook. <br />On GitHub, the HTML representation is unable to render, please try loading this page with nbviewer.org.</b></div><div class=\"sk-container\" hidden><div class=\"sk-item\"><div class=\"sk-estimator sk-toggleable\"><input class=\"sk-toggleable__control sk-hidden--visually\" id=\"sk-estimator-id-1\" type=\"checkbox\" checked><label for=\"sk-estimator-id-1\" class=\"sk-toggleable__label sk-toggleable__label-arrow\">ElasticNet</label><div class=\"sk-toggleable__content\"><pre>ElasticNet()</pre></div></div></div></div></div>"
      ],
      "text/plain": [
       "ElasticNet()"
      ]
     },
     "execution_count": 13,
     "metadata": {},
     "output_type": "execute_result"
    }
   ],
   "source": [
    "# Train the model\n",
    "model = ElasticNet(l1_ratio=0.5)  # set l1_ratio to something between 0 and 1. 0.5 gives equal weight to L1 and L2 penalties\n",
    "model.fit(X_train, y_train)"
   ]
  },
  {
   "cell_type": "code",
   "execution_count": 14,
   "id": "36cfb27a",
   "metadata": {
    "ExecuteTime": {
     "end_time": "2023-07-08T19:18:01.735788Z",
     "start_time": "2023-07-08T19:18:01.731278Z"
    }
   },
   "outputs": [],
   "source": [
    "y_test = df_test['V^YZ']\n",
    "\n",
    "# Define the independent variables\n",
    "X_test = df_test.drop(['V^YZ'], axis=1)\n",
    "\n",
    "# Add a constant to the independent variables matrix"
   ]
  },
  {
   "cell_type": "code",
   "execution_count": 15,
   "id": "3939d782",
   "metadata": {
    "ExecuteTime": {
     "end_time": "2023-07-08T19:18:04.096614Z",
     "start_time": "2023-07-08T19:18:04.066867Z"
    }
   },
   "outputs": [],
   "source": [
    "y_pred = model.predict(X_test)"
   ]
  },
  {
   "cell_type": "code",
   "execution_count": 16,
   "id": "f1abc9fc",
   "metadata": {
    "ExecuteTime": {
     "end_time": "2023-07-08T19:18:05.175624Z",
     "start_time": "2023-07-08T19:18:05.043336Z"
    }
   },
   "outputs": [
    {
     "data": {
      "text/plain": [
       "<matplotlib.legend.Legend at 0x1662c7b50>"
      ]
     },
     "execution_count": 16,
     "metadata": {},
     "output_type": "execute_result"
    },
    {
     "data": {
      "image/png": "[encoded data removed]",
      "text/plain": [
       "<Figure size 1000x400 with 1 Axes>"
      ]
     },
     "metadata": {},
     "output_type": "display_data"
    }
   ],
   "source": [
    "plt.figure(figsize=(10,4))\n",
    "true, = plt.plot(y_test)\n",
    "preds, = plt.plot(pd.Series(y_pred, index=y_test.index))\n",
    "plt.title('Volatility Prediction - Rolling Forecast', fontsize=20)\n",
    "plt.legend(['True Volatility', 'Predicted Volatility'], fontsize=16)"
   ]
  },
  {
   "cell_type": "code",
   "execution_count": 17,
   "id": "b16aa8fe",
   "metadata": {
    "ExecuteTime": {
     "end_time": "2023-07-08T19:21:26.654917Z",
     "start_time": "2023-07-08T19:21:26.627733Z"
    }
   },
   "outputs": [],
   "source": [
    "mse_million = mean_squared_error(y_test,y_pred)*10**6"
   ]
  },
  {
   "cell_type": "code",
   "execution_count": 18,
   "id": "e611f59a",
   "metadata": {
    "ExecuteTime": {
     "end_time": "2023-07-08T19:21:27.219472Z",
     "start_time": "2023-07-08T19:21:27.202799Z"
    }
   },
   "outputs": [
    {
     "data": {
      "text/html": [
       "<div>\n",
       "<style scoped>\n",
       "    .dataframe tbody tr th:only-of-type {\n",
       "        vertical-align: middle;\n",
       "    }\n",
       "\n",
       "    .dataframe tbody tr th {\n",
       "        vertical-align: top;\n",
       "    }\n",
       "\n",
       "    .dataframe thead th {\n",
       "        text-align: right;\n",
       "    }\n",
       "</style>\n",
       "<table border=\"1\" class=\"dataframe\">\n",
       "  <thead>\n",
       "    <tr style=\"text-align: right;\">\n",
       "      <th></th>\n",
       "      <th>Model</th>\n",
       "      <th>Test Size</th>\n",
       "      <th>MSE^6</th>\n",
       "    </tr>\n",
       "  </thead>\n",
       "  <tbody>\n",
       "    <tr>\n",
       "      <th>0</th>\n",
       "      <td>Heterogeneous AutoRegressive</td>\n",
       "      <td>858</td>\n",
       "      <td>427.780119</td>\n",
       "    </tr>\n",
       "  </tbody>\n",
       "</table>\n",
       "</div>"
      ],
      "text/plain": [
       "                          Model  Test Size       MSE^6\n",
       "0  Heterogeneous AutoRegressive        858  427.780119"
      ]
     },
     "metadata": {},
     "output_type": "display_data"
    }
   ],
   "source": [
    "GARCH_results = pd.DataFrame({\n",
    "    'Model':'Heterogeneous AutoRegressive',\n",
    "    'Test Size': test_size,\n",
    "    'MSE^6':mse_million\n",
    "             }\n",
    "    , index=[0]\n",
    ")\n",
    "display(GARCH_results)"
   ]
  },
  {
   "cell_type": "markdown",
   "id": "ed913fa8",
   "metadata": {},
   "source": [
    "---"
   ]
  },
  {
   "cell_type": "code",
   "execution_count": 10,
   "id": "7a076aca",
   "metadata": {
    "ExecuteTime": {
     "end_time": "2023-07-09T22:53:59.632827Z",
     "start_time": "2023-07-09T22:53:59.603890Z"
    }
   },
   "outputs": [
    {
     "name": "stdout",
     "output_type": "stream",
     "text": [
      "Test MSE: 0.04664452524338289\n"
     ]
    }
   ],
   "source": [
    "import pandas as pd\n",
    "import numpy as np\n",
    "from sklearn.linear_model import ElasticNet\n",
    "from sklearn.model_selection import train_test_split\n",
    "from sklearn.metrics import mean_squared_error\n",
    "from statsmodels.tsa.seasonal import seasonal_decompose\n",
    "from sklearn.preprocessing import MinMaxScaler\n",
    "\n",
    "# Load the dataset\n",
    "df = pd.read_csv('../data/AirPassengers.csv')\n",
    "\n",
    "# Preprocessing\n",
    "df['Month'] = pd.to_datetime(df['Month'], infer_datetime_format=True)\n",
    "indexed_df = df.set_index(['Month'])\n",
    "\n",
    "# Decompose the time series to get the trend\n",
    "decomposition = seasonal_decompose(indexed_df)\n",
    "\n",
    "trend = decomposition.trend\n",
    "trend = trend.dropna()\n",
    "\n",
    "# Scale the data between 0 and 1\n",
    "scaler = MinMaxScaler()\n",
    "trend_scaled = scaler.fit_transform(trend.values.reshape(-1,1))\n",
    "\n",
    "# Prepare the data for the ElasticNet model\n",
    "X = [trend_scaled[i] for i in range(len(trend_scaled) - 2)]\n",
    "y = [trend_scaled[i] for i in range(2, len(trend_scaled))]\n",
    "\n",
    "X_train, X_test, y_train, y_test = train_test_split(X, y, test_size=0.2, random_state=42)\n",
    "\n",
    "# Convert the data to numpy arrays\n",
    "X_train = np.array(X_train)\n",
    "y_train = np.array(y_train)\n",
    "\n",
    "X_test = np.array(X_test)\n",
    "y_test = np.array(y_test)\n",
    "\n",
    "# Reshape the data to 2D, since ElasticNet expects a 2D input\n",
    "X_train = X_train.reshape(-1, 1)\n",
    "y_train = y_train.reshape(-1, 1)\n",
    "\n",
    "X_test = X_test.reshape(-1, 1)\n",
    "y_test = y_test.reshape(-1, 1)\n",
    "\n",
    "# Train the ElasticNet model\n",
    "enet = ElasticNet(alpha=0.1, l1_ratio=0.5)\n",
    "enet.fit(X_train, y_train)\n",
    "\n",
    "# Make predictions\n",
    "pred = enet.predict(X_test)\n",
    "\n",
    "# Compute the mean squared error of the predictions\n",
    "mse = mean_squared_error(y_test, pred)\n",
    "print(f'Test MSE: {mse}')\n"
   ]
  },
  {
   "cell_type": "code",
   "execution_count": null,
   "id": "b952db90",
   "metadata": {},
   "outputs": [],
   "source": []
  },
  {
   "cell_type": "code",
   "execution_count": null,
   "id": "8c2acb70",
   "metadata": {},
   "outputs": [],
   "source": []
  }
 ],
 "metadata": {
  "kernelspec": {
   "display_name": "Python 3 (ipykernel)",
   "language": "python",
   "name": "python3"
  },
  "language_info": {
   "codemirror_mode": {
    "name": "ipython",
    "version": 3
   },
   "file_extension": ".py",
   "mimetype": "text/x-python",
   "name": "python",
   "nbconvert_exporter": "python",
   "pygments_lexer": "ipython3",
   "version": "3.11.3"
  },
  "toc": {
   "base_numbering": 1,
   "nav_menu": {},
   "number_sections": true,
   "sideBar": true,
   "skip_h1_title": false,
   "title_cell": "Table of Contents",
   "title_sidebar": "Contents",
   "toc_cell": true,
   "toc_position": {},
   "toc_section_display": true,
   "toc_window_display": false
  }
 },
 "nbformat": 4,
 "nbformat_minor": 5
}
