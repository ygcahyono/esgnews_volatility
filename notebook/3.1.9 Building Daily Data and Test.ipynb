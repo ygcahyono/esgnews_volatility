{
 "cells": [
  {
   "cell_type": "markdown",
   "id": "bfabae31",
   "metadata": {
    "toc": true
   },
   "source": [
    "<h1>Table of Contents<span class=\"tocSkip\"></span></h1>\n",
    "<div class=\"toc\"><ul class=\"toc-item\"></ul></div>"
   ]
  },
  {
   "cell_type": "code",
   "execution_count": 6,
   "id": "be029e5e",
   "metadata": {
    "ExecuteTime": {
     "end_time": "2023-07-22T20:58:13.981446Z",
     "start_time": "2023-07-22T20:58:13.933016Z"
    }
   },
   "outputs": [],
   "source": [
    "# adding a feature of daily data\n",
    "\n",
    "from arch import arch_model\n",
    "from statsmodels.graphics.tsaplots import plot_acf, plot_pacf\n",
    "\n",
    "import time\n",
    "\n",
    "# Method #3 Regularisation Model\n",
    "from sklearn.linear_model import ElasticNet\n",
    "from sklearn.ensemble import RandomForestRegressor\n",
    "\n",
    "from datetime import timedelta\n",
    "from numpy import asarray, log1p, expm1\n",
    "from numpy import number\n",
    "from sklearn.metrics import mean_squared_error\n",
    "from statsmodels.regression.linear_model import OLS\n",
    "from statsmodels.stats.outliers_influence import variance_inflation_factor\n",
    "from statsmodels.tools.tools import add_constant\n",
    "from math import ceil\n",
    "\n",
    "import matplotlib.pyplot as plt\n",
    "import pandas as pd\n",
    "import statsmodels.api as sm\n",
    "import warnings\n",
    "import numpy as np\n",
    "import sys\n",
    "\n",
    "warnings.filterwarnings('ignore')\n",
    "pd.set_option('display.max_columns', 100)\n",
    "\n",
    "def calculate_iqr(values):\n",
    "    # Calculate Q1\n",
    "    Q1 = np.percentile(values, 25)\n",
    "    # Calculate Q3\n",
    "    Q3 = np.percentile(values, 75)\n",
    "    # Calculate IQR\n",
    "    IQR = Q3 - Q1\n",
    "    return IQR\n",
    "\n",
    "def detect_outliers_iqr(values):\n",
    "    # Calculate the IQR of the values\n",
    "    IQR = calculate_iqr(values)\n",
    "    # Calculate Q1 and Q3\n",
    "    Q1 = np.percentile(values, 25)\n",
    "    Q3 = np.percentile(values, 75)\n",
    "    # Define the lower and upper bound for outliers\n",
    "    lower_bound = Q1 - 1.5 * IQR\n",
    "    upper_bound = Q3 + 1.5 * IQR\n",
    "    # Return a boolean array: True if the value is an outlier, False otherwise\n",
    "    return lower_bound, upper_bound\n",
    "\n",
    "def series_to_supervised(data, n_in=1, n_out=1, target = 'y',dropnan=True):\n",
    "    '''\n",
    "    transform a time series dataset into a supervised learning dataset\n",
    "    '''\n",
    "    cols = list()\n",
    "    colname = data.columns\n",
    "    dropcols = [col for col in colname if col not in target]\n",
    "    # print('dropping columns:', dropcols)\n",
    "    \n",
    "    # input sequence (t-n, ... t-1)\n",
    "    for i in range(n_in, 0, -1):\n",
    "        temp_df = data.shift(i)\n",
    "        colname = temp_df.columns + f'_s{i}'\n",
    "        temp_df.columns = colname\n",
    "        cols.append(temp_df)\n",
    "        \n",
    "    # forecast sequence (t, t+1, ... t+n)\n",
    "    for i in range(0, n_out):\n",
    "        cols.append(data.shift(-i))\n",
    "        \n",
    "    # put it all together\n",
    "    agg = pd.concat(cols, axis=1)\n",
    "    agg = pd.DataFrame(agg)\n",
    "    # drop rows with NaN values\n",
    "    if dropnan:\n",
    "        agg.dropna(inplace=True)\n",
    "        \n",
    "    return agg.drop(dropcols, axis=1).values\n",
    "\n",
    "# split a univariate dataset into train/test sets\n",
    "def spv_train_test_split(data, n_test):\n",
    "    '''\n",
    "    train test split based on refer to the array set, with the same style as the random forest.\n",
    "    '''\n",
    "    return data[:-n_test, :], data[-n_test:, :]\n",
    "\n",
    "class Data_Processing():\n",
    "    '''\n",
    "    Class to train and infer stock price for one particular stock\n",
    "    '''\n",
    "    def __init__(self, mt_start, mt_end, \n",
    "                 validation = False,\n",
    "                 threshold = 24,\n",
    "                 daily = False, \n",
    "                 train_perc = .7,\n",
    "                 index_path = '../data/1.1-FTSE-IDX_VOL30-PRICES_2006-2023.csv',\n",
    "                 price_path = '../data/1.1-FTSE_VOL30-PRICES_2006-2023.csv',\n",
    "                 esg_path = '../data/1.2-FTSE_ESG_COR_2006-2023.csv'):\n",
    "\n",
    "        self.mt_start = mt_start\n",
    "        self.mt_end = mt_end\n",
    "        self.train_perc = train_perc\n",
    "        self.index_path = index_path\n",
    "        self.price_path = price_path\n",
    "        self.esg_path = esg_path\n",
    "        self.validation = validation\n",
    "        self.threshold = threshold\n",
    "        self.daily = daily\n",
    "\n",
    "    def count_train_test(self, train_df, test_df):\n",
    "        master_df = pd.DataFrame()\n",
    "\n",
    "        assets = train_df.Asset.unique().tolist()\n",
    "\n",
    "        for _, asset in enumerate(assets): \n",
    "            df_train = train_df[train_df.Asset == asset]\n",
    "            # df_valid = valid_df[valid_df.Asset == asset]\n",
    "            df_test = test_df[test_df.Asset == asset]\n",
    "\n",
    "            master_df.loc[_ , 'Asset'] = asset\n",
    "            master_df.loc[_ , 'Train Length'] = df_train.shape[0]\n",
    "            # master_df.loc[_ , 'Valid Length'] = df_valid.shape[0]\n",
    "            master_df.loc[_ , 'Test Length'] = df_test.shape[0]\n",
    "            master_df.loc[_ , 'Total Length'] = df_train.shape[0] + df_test.shape[0]\n",
    "\n",
    "        return master_df\n",
    "    \n",
    "    def min_data_threshold(self, df):\n",
    "        \n",
    "        threshold = self.threshold\n",
    "\n",
    "        if self.daily:\n",
    "            threshold = 360*2 # at least it has 2 years of datapoints.\n",
    "\n",
    "        return df[df['Total Length'] >= threshold]['Asset'].tolist()\n",
    "\n",
    "    def clean_count_missing_rows_assets(self, df):\n",
    "        master_df = pd.DataFrame()\n",
    "\n",
    "        for i, asset in enumerate(df.Asset.unique()):\n",
    "            df_temp = df[df.Asset == asset]\n",
    "            df_clean = df_temp.dropna()\n",
    "            \n",
    "            temp2_df = pd.DataFrame({ 'num_assets': asset,\n",
    "                            'missing_rows': df_temp.shape[0] - df_clean.shape[0],\n",
    "                            'perc_missing': (df_temp.shape[0] - df_clean.shape[0]) / df_temp.shape[0],\n",
    "                            'total_rows': df_temp.shape[0]\n",
    "                        }, index= [i])\n",
    "            \n",
    "            master_df = pd.concat([master_df, temp2_df])\n",
    "\n",
    "        return master_df\n",
    "\n",
    "    def clean_filna_assets_df(self, df):\n",
    "        '''\n",
    "        Version 1 of fill Null value, the first performance is using this function.\n",
    "        '''\n",
    "\n",
    "        Assets = df.Asset.unique()\n",
    "        master_df = pd.DataFrame()\n",
    "\n",
    "        for asset in Assets:\n",
    "            temp_df = df[df['Asset'] == asset]\n",
    "\n",
    "            # Select numerical columns\n",
    "            numerical_columns = temp_df.select_dtypes(include=[number]).columns\n",
    "            # Check for any missing values in these numerical columns\n",
    "            missing_numerical = [col for col in numerical_columns if temp_df[col].isna().any()]\n",
    "            \n",
    "            for col in missing_numerical:\n",
    "                mrows = temp_df[col].isna().sum() + 1\n",
    "                roll_mean = temp_df[col][::-1].rolling(window=mrows, min_periods=1).mean()\n",
    "                temp_df[col] = temp_df[col].fillna(roll_mean)\n",
    "                temp_df[col] = temp_df[col].fillna(method='ffill')\n",
    "\n",
    "            temp_df = temp_df.reset_index(drop=True)\n",
    "            master_df = pd.concat([master_df, temp_df])\n",
    "\n",
    "        return master_df\n",
    "\n",
    "    def monthly_last_trading_date(self):\n",
    "\n",
    "        date_list = []\n",
    "\n",
    "        df = pd.read_csv(self.index_path)\n",
    "        dt_trades = df.loc[:,['Date']]\n",
    "        dt_trades.Date = pd.to_datetime(dt_trades.Date)\n",
    "        dt_trades.loc[:, 'Month_Key'] = dt_trades.Date.apply(lambda x: x.strftime('%Y-%m-01'))\n",
    "        dt_trades.Month_Key = pd.to_datetime(dt_trades.Month_Key)\n",
    "        dt_trades = dt_trades[(dt_trades['Month_Key'] >= self.mt_start) & (dt_trades['Month_Key'] <= self.mt_end)]\n",
    "\n",
    "        for date in dt_trades.Month_Key.unique():\n",
    "            temp_df = dt_trades[dt_trades.Month_Key == date].copy()\n",
    "            temp_df = temp_df.sort_values(by= 'Date', ascending=True)\n",
    "            dt = temp_df.iloc[-1, 0]\n",
    "            date_list.append(dt)\n",
    "\n",
    "        self.date_list = date_list\n",
    "\n",
    "    def data_preprocessing_price(self):\n",
    "\n",
    "        select_cols = ['month_key', 'Date', 'Asset', 'Open', 'High', 'Low', 'Close', 'Return', 'V^CC', 'V^RS', 'V^YZ']\n",
    "        \n",
    "        price_df = pd.read_csv(self.price_path)\n",
    "        price_df = price_df.rename(columns={'Month':'month_key'})\n",
    "        price_df.Date = pd.to_datetime(price_df.Date)\n",
    "        price_df.month_key = pd.to_datetime(price_df.month_key)\n",
    "        price_df.Asset = price_df.Asset.astype(int)\n",
    "        price_df = price_df[select_cols]\n",
    "        price_df = price_df.dropna()\n",
    "\n",
    "        if self.daily:\n",
    "            price_df.loc[:, 'col_merge'] = price_df.Date.apply(lambda x: x - timedelta(days=1))\n",
    "            price_df.col_merge = pd.to_datetime(price_df.col_merge)\n",
    "        else:\n",
    "            price_df.loc[:, 'col_merge'] = price_df.month_key.apply(lambda x: x - timedelta(days=10))\n",
    "            price_df.loc[:, 'col_merge'] = price_df.col_merge.apply(lambda x: x.strftime('%Y-%m-01'))\n",
    "            price_df.col_merge = pd.to_datetime(price_df.col_merge)\n",
    "            price_df = price_df[price_df.Date.isin(self.date_list)].reset_index(drop=True)\n",
    "\n",
    "        self.price_df = price_df\n",
    "\n",
    "\n",
    "    def data_preprocessing_esg(self):\n",
    "\n",
    "        esg_df = pd.read_csv(self.esg_path)\n",
    "\n",
    "        # set-up df\n",
    "        esg_df.Asset = esg_df.Asset.astype(int)\n",
    "        esg_df.Date = pd.to_datetime(esg_df.Date)\n",
    "        esg_df = esg_df.drop(['windowTimestamp'], axis=1)\n",
    "\n",
    "        if not self.daily:\n",
    "            # set-up month_key column\n",
    "            esg_df = esg_df[esg_df.Date.isin(self.date_list)].reset_index(drop=True)\n",
    "\n",
    "        esg_df['month_key'] = esg_df.Date.apply(lambda x: x.strftime('%Y-%m-01'))\n",
    "        esg_df.month_key = pd.to_datetime(esg_df.month_key)\n",
    "\n",
    "        self.esg_df = esg_df\n",
    "\n",
    "    def func_train_test_split(self):\n",
    "        '''\n",
    "        '''\n",
    "        \n",
    "        threshold = self.threshold\n",
    "        validation = self.validation\n",
    "        train_rows = self.train_perc\n",
    "        df = self.clean_df\n",
    "        \n",
    "        lag_1, lag_2, lag_3 = 1, 3, 12\n",
    "        if self.daily:\n",
    "            lag_1, lag_2, lag_3 = 1, 7, 30\n",
    "        \n",
    "        df.index = df.col_merge\n",
    "\n",
    "        train_df, valid_df, test_df = pd.DataFrame(), pd.DataFrame(), pd.DataFrame()\n",
    "        asset_lists = df.Asset.unique()\n",
    "\n",
    "        for asset in asset_lists:\n",
    "            # subset dataframe\n",
    "            temp_df = df[df['Asset'] == asset].copy()\n",
    "\n",
    "            # parameters\n",
    "            rows = temp_df.shape[0]\n",
    "            train_len = ceil(rows*train_rows)\n",
    "\n",
    "            # setting up volatility lag to a dataframe\n",
    "            vol_df = pd.DataFrame({\n",
    "            'vol_series_daily' : temp_df['V^YZ'].shift(lag_1),\n",
    "            'vol_series_weekly' : temp_df['V^YZ'].rolling(lag_2).mean().shift(1),\n",
    "            'vol_series_monthly' : temp_df['V^YZ'].rolling(lag_3).mean().shift(1)\n",
    "            })\n",
    "\n",
    "            temp_df = pd.merge(temp_df, vol_df, how = 'left', left_index=True, right_index=True)\n",
    "\n",
    "            # split the subset into train_df\n",
    "            train_df = pd.concat([temp_df.iloc[:train_len], train_df])\n",
    "            test_df = pd.concat([temp_df.iloc[train_len:], test_df])\n",
    "\n",
    "            if validation:\n",
    "                # if yes validation has 20% of the portion.\n",
    "                valid_len = int(rows*.2)\n",
    "\n",
    "                valid_df = pd.concat([temp_df.iloc[train_len:(train_len+valid_len)], valid_df])\n",
    "                valid_df = pd.concat([temp_df.iloc[(train_len+valid_len):], valid_df])\n",
    "\n",
    "        \n",
    "        master_df = self.count_train_test(train_df, test_df) # count the total rows of each assets\n",
    "        used_assets = self.min_data_threshold(master_df)     # filter out assets that has least data points\n",
    "\n",
    "        train_df = train_df[train_df.Asset.isin(used_assets)]\n",
    "        # valid_df = valid_df[valid_df.Asset.isin(used_assets)]\n",
    "        test_df = test_df[test_df.Asset.isin(used_assets)]\n",
    "\n",
    "        return train_df, valid_df, test_df\n",
    "\n",
    "    def merge_data(self):\n",
    "        '''\n",
    "        '''\n",
    "        self.monthly_last_trading_date()\n",
    "        self.data_preprocessing_price()\n",
    "        self.data_preprocessing_esg()\n",
    "\n",
    "        if not self.daily:\n",
    "            merge_df = pd.merge(self.price_df, self.esg_df, how = 'left', left_on = ['col_merge', 'Asset'],\n",
    "                                    right_on = ['month_key', 'Asset'])\n",
    "            \n",
    "            # output column arrangement\n",
    "            merge_df.drop(['month_key_x', 'month_key_y', 'Date_y'], axis = 1, inplace = True)\n",
    "            merge_df = merge_df.rename(columns={\n",
    "                            'Date_x': 'date_key',\n",
    "                            })\n",
    "            \n",
    "        else:\n",
    "            merge_df = pd.merge(self.price_df, self.esg_df, how = 'left', left_on = ['col_merge', 'Asset'],\n",
    "                        right_on = ['Date', 'Asset'])\n",
    "            merge_df.drop(['month_key_x', 'month_key_y', 'Date_y'], axis = 1, inplace = True)\n",
    "            merge_df = merge_df.rename(columns={\n",
    "                            'Date_x': 'date_key',\n",
    "                            })\n",
    "\n",
    "        self.merge_df = merge_df\n",
    "\n",
    "        return self.merge_df\n",
    "    \n",
    "    def cleansing_final1(self, fillna = None):\n",
    "        '''\n",
    "        The excluded columns: ResourceUse, HumanRights, CSRStrategy, and Emissions were selected\n",
    "        Based on columns that mostly contribute null to the FTSE assets.\n",
    "        '''\n",
    "        validation = self.validation\n",
    "\n",
    "        self.merge_data()\n",
    "\n",
    "        #filter exclude columns\n",
    "        clean_df = self.merge_df.drop(['ResourceUse', 'HumanRights', 'CSRStrategy', 'Emissions'], axis=1)\n",
    "\n",
    "        #count how many missing values and total observation\n",
    "        #exclude missing value that more than 50% and obs less than 24\n",
    "        cnt_miss_rws = self.clean_count_missing_rows_assets(clean_df)\n",
    "        exc = cnt_miss_rws[(cnt_miss_rws.perc_missing > 0.5) | (cnt_miss_rws.total_rows <= 24)].num_assets.tolist()\n",
    "        clean_df = clean_df[~(clean_df.Asset.isin(exc))]\n",
    "\n",
    "        # fill null value with Original filling method\n",
    "        if fillna:\n",
    "            clean_df = self.clean_filna_assets_df(clean_df)\n",
    "\n",
    "        self.clean_df = clean_df\n",
    "\n",
    "        train_df, valid_df, test_df = self.func_train_test_split()\n",
    "        \n",
    "        return clean_df, train_df, valid_df, test_df"
   ]
  },
  {
   "cell_type": "code",
   "execution_count": 7,
   "id": "5ba3300c",
   "metadata": {
    "ExecuteTime": {
     "end_time": "2023-07-22T20:58:15.242117Z",
     "start_time": "2023-07-22T20:58:15.239161Z"
    }
   },
   "outputs": [],
   "source": [
    "dataprocessing = Data_Processing('2006-01-01', '2022-12-01', daily= False)"
   ]
  },
  {
   "cell_type": "code",
   "execution_count": 3,
   "id": "ca26f444",
   "metadata": {
    "ExecuteTime": {
     "end_time": "2023-07-22T20:46:30.961523Z",
     "start_time": "2023-07-22T20:46:26.800112Z"
    }
   },
   "outputs": [],
   "source": [
    "clean_df, train_df, valid_df, test_df = dataprocessing.cleansing_final1(fillna = True)"
   ]
  },
  {
   "cell_type": "code",
   "execution_count": 4,
   "id": "8a65a3c6",
   "metadata": {
    "ExecuteTime": {
     "end_time": "2023-07-22T20:46:30.966602Z",
     "start_time": "2023-07-22T20:46:30.963152Z"
    }
   },
   "outputs": [
    {
     "data": {
      "text/plain": [
       "(17427, 24)"
      ]
     },
     "execution_count": 4,
     "metadata": {},
     "output_type": "execute_result"
    }
   ],
   "source": [
    "clean_df.shape"
   ]
  },
  {
   "cell_type": "code",
   "execution_count": 5,
   "id": "3883e5d1",
   "metadata": {
    "ExecuteTime": {
     "end_time": "2023-07-22T20:46:30.970891Z",
     "start_time": "2023-07-22T20:46:30.967227Z"
    }
   },
   "outputs": [
    {
     "data": {
      "text/plain": [
       "date_key                   0\n",
       "Asset                      0\n",
       "Open                       0\n",
       "High                       0\n",
       "Low                        0\n",
       "Close                      0\n",
       "Return                     0\n",
       "V^CC                       0\n",
       "V^RS                       0\n",
       "V^YZ                       0\n",
       "col_merge                  0\n",
       "buzz                       0\n",
       "ESG                        0\n",
       "ESGCombined                0\n",
       "ESGControversies           0\n",
       "EnvironmentalPillar        0\n",
       "GovernancePillar           0\n",
       "SocialPillar               0\n",
       "Community                  0\n",
       "EnvironmentalInnovation    0\n",
       "Management                 0\n",
       "ProductResponsibility      0\n",
       "Shareholders               0\n",
       "Workforce                  0\n",
       "dtype: int64"
      ]
     },
     "execution_count": 5,
     "metadata": {},
     "output_type": "execute_result"
    }
   ],
   "source": [
    "clean_df.isnull().sum()"
   ]
  },
  {
   "cell_type": "markdown",
   "id": "f74ebbbf",
   "metadata": {},
   "source": [
    "---"
   ]
  },
  {
   "cell_type": "code",
   "execution_count": 8,
   "id": "7268f355",
   "metadata": {
    "ExecuteTime": {
     "end_time": "2023-07-22T20:58:17.733434Z",
     "start_time": "2023-07-22T20:58:17.729151Z"
    }
   },
   "outputs": [],
   "source": [
    "dataprocessing = Data_Processing('2006-01-01', '2022-12-01', daily= True)"
   ]
  },
  {
   "cell_type": "code",
   "execution_count": 9,
   "id": "a8c24c54",
   "metadata": {
    "ExecuteTime": {
     "end_time": "2023-07-22T20:58:25.033345Z",
     "start_time": "2023-07-22T20:58:18.175892Z"
    }
   },
   "outputs": [],
   "source": [
    "clean_df, train_df, valid_df, test_df = dataprocessing.cleansing_final1(fillna = True)"
   ]
  },
  {
   "cell_type": "code",
   "execution_count": 10,
   "id": "15df1140",
   "metadata": {
    "ExecuteTime": {
     "end_time": "2023-07-22T20:58:29.535358Z",
     "start_time": "2023-07-22T20:58:29.523786Z"
    }
   },
   "outputs": [
    {
     "data": {
      "text/plain": [
       "(380897, 24)"
      ]
     },
     "execution_count": 10,
     "metadata": {},
     "output_type": "execute_result"
    }
   ],
   "source": [
    "clean_df.shape"
   ]
  },
  {
   "cell_type": "code",
   "execution_count": 11,
   "id": "d8b866f3",
   "metadata": {
    "ExecuteTime": {
     "end_time": "2023-07-22T20:58:30.100878Z",
     "start_time": "2023-07-22T20:58:30.061122Z"
    }
   },
   "outputs": [
    {
     "data": {
      "text/plain": [
       "date_key                   0\n",
       "Asset                      0\n",
       "Open                       0\n",
       "High                       0\n",
       "Low                        0\n",
       "Close                      0\n",
       "Return                     0\n",
       "V^CC                       0\n",
       "V^RS                       0\n",
       "V^YZ                       0\n",
       "col_merge                  0\n",
       "buzz                       0\n",
       "ESG                        0\n",
       "ESGCombined                0\n",
       "ESGControversies           0\n",
       "EnvironmentalPillar        0\n",
       "GovernancePillar           0\n",
       "SocialPillar               0\n",
       "Community                  0\n",
       "EnvironmentalInnovation    0\n",
       "Management                 0\n",
       "ProductResponsibility      0\n",
       "Shareholders               0\n",
       "Workforce                  0\n",
       "dtype: int64"
      ]
     },
     "execution_count": 11,
     "metadata": {},
     "output_type": "execute_result"
    }
   ],
   "source": [
    "clean_df.isnull().sum()"
   ]
  },
  {
   "cell_type": "code",
   "execution_count": 12,
   "id": "fbcf78db",
   "metadata": {
    "ExecuteTime": {
     "end_time": "2023-07-22T20:58:30.767942Z",
     "start_time": "2023-07-22T20:58:30.754894Z"
    }
   },
   "outputs": [
    {
     "data": {
      "text/plain": [
       "182"
      ]
     },
     "execution_count": 12,
     "metadata": {},
     "output_type": "execute_result"
    }
   ],
   "source": [
    "len(clean_df.Asset.unique())"
   ]
  },
  {
   "cell_type": "code",
   "execution_count": 13,
   "id": "1a7799da",
   "metadata": {
    "ExecuteTime": {
     "end_time": "2023-07-22T20:58:31.633855Z",
     "start_time": "2023-07-22T20:58:31.625789Z"
    }
   },
   "outputs": [
    {
     "data": {
      "text/plain": [
       "133"
      ]
     },
     "execution_count": 13,
     "metadata": {},
     "output_type": "execute_result"
    }
   ],
   "source": [
    "len(train_df.Asset.unique())"
   ]
  },
  {
   "cell_type": "markdown",
   "id": "b3e1c6d6",
   "metadata": {},
   "source": [
    "---"
   ]
  },
  {
   "cell_type": "code",
   "execution_count": 14,
   "id": "6c47c845",
   "metadata": {
    "ExecuteTime": {
     "end_time": "2023-07-22T20:58:33.681798Z",
     "start_time": "2023-07-22T20:58:33.661333Z"
    }
   },
   "outputs": [],
   "source": [
    "import sys, os\n",
    "sys.path.append('../python')\n",
    "from util import *"
   ]
  },
  {
   "cell_type": "code",
   "execution_count": 17,
   "id": "fd8b5fa2",
   "metadata": {
    "ExecuteTime": {
     "end_time": "2023-07-22T20:40:27.195783Z",
     "start_time": "2023-07-22T20:38:09.499216Z"
    }
   },
   "outputs": [
    {
     "name": "stdout",
     "output_type": "stream",
     "text": [
      "Execute Training and Walk Forward Testing for (M&G PLC-5021764927) for 247 times..\n",
      "------------------------------ 0.08417701721191406 seconds | MAE: 0.084 ------------------------------\n",
      "Execute Training and Walk Forward Testing for (Aveva Group Ltd-4295895969) for 252 times..\n",
      "------------------------------ 0.2542426586151123 seconds | MAE: 0.217 ------------------------------\n",
      "Execute Training and Walk Forward Testing for (JD Sports Fashion PLC-4295894669) for 277 times..\n",
      "------------------------------ 0.25112485885620117 seconds | MAE: 0.043 ------------------------------\n",
      "Execute Training and Walk Forward Testing for (Phoenix Group Holdings PLC-5066589306) for 296 times..\n",
      "------------------------------ 0.7904052734375 seconds | MAE: 0.021 ------------------------------\n",
      "Execute Training and Walk Forward Testing for (Spirax-Sarco Engineering PLC-4295894930) for 314 times..\n",
      "------------------------------ 0.2811417579650879 seconds | MAE: 0.017 ------------------------------\n",
      "Execute Training and Walk Forward Testing for (Entain PLC-5001428097) for 250 times..\n",
      "------------------------------ 0.14760208129882812 seconds | MAE: 0.029 ------------------------------\n",
      "Execute Training and Walk Forward Testing for (Ocado Group PLC-5000799571) for 353 times..\n",
      "------------------------------ 0.3549971580505371 seconds | MAE: 0.165 ------------------------------\n",
      "Execute Training and Walk Forward Testing for (Rightmove PLC-4295899077) for 353 times..\n",
      "------------------------------ 0.28322625160217285 seconds | MAE: 0.020 ------------------------------\n",
      "Execute Training and Walk Forward Testing for (Halma PLC-4295895428) for 390 times..\n",
      "------------------------------ 0.4010131359100342 seconds | MAE: 0.021 ------------------------------\n",
      "Execute Training and Walk Forward Testing for (DS Smith PLC-4295894074) for 390 times..\n",
      "------------------------------ 0.3243892192840576 seconds | MAE: 0.027 ------------------------------\n",
      "Execute Training and Walk Forward Testing for (Scottish Mortgage Investment Trust PLC-4295895352) for 447 times..\n",
      "------------------------------ 0.5084278583526611 seconds | MAE: 0.060 ------------------------------\n",
      "Execute Training and Walk Forward Testing for (Smurfit Kappa Group PLC-4295874981) for 469 times..\n",
      "------------------------------ 0.5999033451080322 seconds | MAE: 0.034 ------------------------------\n",
      "Execute Training and Walk Forward Testing for (Micro Focus International Ltd-4295897861) for 208 times..\n",
      "------------------------------ 0.10324788093566895 seconds | MAE: 0.028 ------------------------------\n",
      "Execute Training and Walk Forward Testing for (Informa PLC-5044095778) for 523 times..\n",
      "------------------------------ 0.8688559532165527 seconds | MAE: 0.020 ------------------------------\n",
      "Execute Training and Walk Forward Testing for (Flutter Entertainment PLC-4295874940) for 523 times..\n",
      "------------------------------ 0.3942129611968994 seconds | MAE: 0.035 ------------------------------\n",
      "Execute Training and Walk Forward Testing for (DCC PLC-4295874865) for 542 times..\n",
      "------------------------------ 0.519230842590332 seconds | MAE: 0.008 ------------------------------\n",
      "Execute Training and Walk Forward Testing for (Berkeley Group Holdings PLC-4295893899) for 477 times..\n",
      "------------------------------ 0.35770606994628906 seconds | MAE: 0.026 ------------------------------\n",
      "Execute Training and Walk Forward Testing for (Hikma Pharmaceuticals PLC-4295897408) for 370 times..\n",
      "------------------------------ 0.20720791816711426 seconds | MAE: 0.031 ------------------------------\n",
      "Execute Training and Walk Forward Testing for (TUI AG-4295869210) for 378 times..\n",
      "------------------------------ 0.30673885345458984 seconds | MAE: 0.051 ------------------------------\n",
      "Execute Training and Walk Forward Testing for (Direct Line Insurance Group PLC-4298449570) for 360 times..\n",
      "------------------------------ 0.20312809944152832 seconds | MAE: 0.013 ------------------------------\n",
      "Execute Training and Walk Forward Testing for (International Distributions Services PLC-5040257207) for 386 times..\n",
      "------------------------------ 0.5033788681030273 seconds | MAE: 0.066 ------------------------------\n",
      "Execute Training and Walk Forward Testing for (Ashtead Group PLC-4295898044) for 693 times..\n",
      "------------------------------ 0.7202260494232178 seconds | MAE: 0.028 ------------------------------\n",
      "Execute Training and Walk Forward Testing for (Coca Cola HBC AG-5036383104) for 713 times..\n",
      "------------------------------ 0.9406509399414062 seconds | MAE: 0.043 ------------------------------\n",
      "Execute Training and Walk Forward Testing for (Frasers Group PLC-4295898967) for 211 times..\n",
      "------------------------------ 0.08489394187927246 seconds | MAE: 0.117 ------------------------------\n",
      "Execute Training and Walk Forward Testing for (Mondi PLC-4295898932) for 713 times..\n",
      "------------------------------ 0.6472361087799072 seconds | MAE: 0.032 ------------------------------\n",
      "Execute Training and Walk Forward Testing for (Travis Perkins PLC-4295894092) for 247 times..\n",
      "------------------------------ 0.1039590835571289 seconds | MAE: 0.917 ------------------------------\n",
      "Execute Training and Walk Forward Testing for (Easyjet PLC-4295895815) for 482 times..\n",
      "------------------------------ 0.41260790824890137 seconds | MAE: 0.425 ------------------------------\n",
      "Execute Training and Walk Forward Testing for (Melrose Industries PLC-5047641169) for 488 times..\n",
      "------------------------------ 0.36819887161254883 seconds | MAE: 0.046 ------------------------------\n",
      "Execute Training and Walk Forward Testing for (Babcock International Group PLC-4295894176) for 398 times..\n",
      "------------------------------ 0.2674870491027832 seconds | MAE: 0.073 ------------------------------\n",
      "Execute Training and Walk Forward Testing for (Croda International PLC-4295894667) for 603 times..\n",
      "------------------------------ 0.5674922466278076 seconds | MAE: 0.022 ------------------------------\n",
      "Execute Training and Walk Forward Testing for (Abrdn Holdings Ltd-4295894349) for 284 times..\n",
      "------------------------------ 0.14101004600524902 seconds | MAE: 0.033 ------------------------------\n",
      "Execute Training and Walk Forward Testing for (EVRAZ plc-5036227579) for 400 times..\n",
      "------------------------------ 0.3469398021697998 seconds | MAE: 0.096 ------------------------------\n",
      "Execute Training and Walk Forward Testing for (Polymetal International PLC-5036206981) for 285 times..\n",
      "------------------------------ 0.17141175270080566 seconds | MAE: 0.120 ------------------------------\n",
      "Execute Training and Walk Forward Testing for (Meggitt Ltd-4295895717) for 411 times..\n",
      "------------------------------ 0.33475470542907715 seconds | MAE: 0.426 ------------------------------\n",
      "Execute Training and Walk Forward Testing for (Glencore PLC-5034844193) for 887 times..\n",
      "------------------------------ 0.8488030433654785 seconds | MAE: 0.109 ------------------------------\n",
      "Execute Training and Walk Forward Testing for (Hargreaves Lansdown PLC-4295894303) for 902 times..\n",
      "------------------------------ 1.0319297313690186 seconds | MAE: 0.135 ------------------------------\n",
      "Execute Training and Walk Forward Testing for (International Consolidated Airlines Group SA-5001229906) for 910 times..\n",
      "------------------------------ 1.1177990436553955 seconds | MAE: 0.390 ------------------------------\n",
      "Execute Training and Walk Forward Testing for (IMI PLC-4295894784) for 283 times..\n",
      "------------------------------ 0.1737499237060547 seconds | MAE: 0.040 ------------------------------\n",
      "Execute Training and Walk Forward Testing for (Weir Group PLC-4295895858) for 410 times..\n",
      "------------------------------ 0.37808728218078613 seconds | MAE: 0.025 ------------------------------\n",
      "Execute Training and Walk Forward Testing for (GKN Ltd-4295894743) for 555 times..\n",
      "------------------------------ 0.6122350692749023 seconds | MAE: 0.046 ------------------------------\n",
      "Execute Training and Walk Forward Testing for (SVF Holdco (UK) Ltd-4295895971) for 480 times..\n",
      "------------------------------ 0.46633195877075195 seconds | MAE: 0.253 ------------------------------\n",
      "Execute Training and Walk Forward Testing for (Aggreko Ltd-4295894819) for 396 times..\n",
      "------------------------------ 0.3011958599090576 seconds | MAE: 0.015 ------------------------------\n",
      "Execute Training and Walk Forward Testing for (Burberry Group PLC-4295897734) for 1016 times..\n"
     ]
    },
    {
     "name": "stdout",
     "output_type": "stream",
     "text": [
      "------------------------------ 1.2379069328308105 seconds | MAE: 0.067 ------------------------------\n",
      "Execute Training and Walk Forward Testing for (Intertek Group PLC-4295896316) for 1044 times..\n",
      "------------------------------ 1.2049610614776611 seconds | MAE: 0.079 ------------------------------\n",
      "Execute Training and Walk Forward Testing for (Serco Group PLC-4295898751) for 340 times..\n",
      "------------------------------ 0.1823430061340332 seconds | MAE: 0.017 ------------------------------\n",
      "Execute Training and Walk Forward Testing for (Barrick Gold (Holdings) Ltd-4295896108) for 739 times..\n",
      "------------------------------ 0.7018280029296875 seconds | MAE: 0.052 ------------------------------\n",
      "Execute Training and Walk Forward Testing for (Fresnillo PLC-4298007715) for 1037 times..\n",
      "------------------------------ 1.2236406803131104 seconds | MAE: 0.053 ------------------------------\n",
      "Execute Training and Walk Forward Testing for (Inmarsat Group Holdings Ltd-4295897579) for 295 times..\n",
      "------------------------------ 0.18756794929504395 seconds | MAE: 0.059 ------------------------------\n",
      "Execute Training and Walk Forward Testing for (Autonomy Corp Ltd-4295896428) for 215 times..\n",
      "------------------------------ 0.10544633865356445 seconds | MAE: 0.966 ------------------------------\n",
      "Execute Training and Walk Forward Testing for (Petrofac Ltd-4295894827) for 446 times..\n",
      "------------------------------ 0.3663318157196045 seconds | MAE: 0.047 ------------------------------\n",
      "Execute Training and Walk Forward Testing for (Bunzl plc-4295894970) for 1077 times..\n",
      "------------------------------ 1.2461681365966797 seconds | MAE: 0.092 ------------------------------\n",
      "Execute Training and Walk Forward Testing for (Alliance Trust PLC-4295895691) for 214 times..\n",
      "------------------------------ 0.08109903335571289 seconds | MAE: 0.045 ------------------------------\n",
      "Execute Training and Walk Forward Testing for (London Stock Exchange Group PLC-4298007752) for 903 times..\n",
      "------------------------------ 1.0478389263153076 seconds | MAE: 0.068 ------------------------------\n",
      "Execute Training and Walk Forward Testing for (Admiral Group PLC-4295897802) for 1148 times..\n",
      "------------------------------ 1.3921000957489014 seconds | MAE: 0.048 ------------------------------\n",
      "Execute Training and Walk Forward Testing for (Tui Travel Ltd-4295897780) for 387 times..\n",
      "------------------------------ 0.233381986618042 seconds | MAE: 0.087 ------------------------------\n",
      "Execute Training and Walk Forward Testing for (Amec Foster Wheeler Ltd-4295894471) for 454 times..\n",
      "------------------------------ 0.3468039035797119 seconds | MAE: 0.055 ------------------------------\n",
      "Execute Training and Walk Forward Testing for (G4S Ltd-4295893850) for 654 times..\n",
      "------------------------------ 0.5312530994415283 seconds | MAE: 0.020 ------------------------------\n",
      "Execute Training and Walk Forward Testing for (Currys PLC-5000683618) for 237 times..\n",
      "------------------------------ 0.10226202011108398 seconds | MAE: 2.082 ------------------------------\n",
      "Execute Training and Walk Forward Testing for (Tullow Oil PLC-4295894926) for 549 times..\n",
      "------------------------------ 0.41004514694213867 seconds | MAE: 0.088 ------------------------------\n",
      "Execute Training and Walk Forward Testing for (Taylor Wimpey PLC-4295894483) for 647 times..\n",
      "------------------------------ 0.6555688381195068 seconds | MAE: 0.026 ------------------------------\n",
      "Execute Training and Walk Forward Testing for (Barratt Developments P L C-4295894951) for 676 times..\n",
      "------------------------------ 1.1333041191101074 seconds | MAE: 0.026 ------------------------------\n",
      "Execute Training and Walk Forward Testing for (Whitbread PLC-4295894799) for 1195 times..\n",
      "------------------------------ 2.214081048965454 seconds | MAE: 0.156 ------------------------------\n",
      "Execute Training and Walk Forward Testing for (Experian PLC-4295894507) for 1236 times..\n",
      "------------------------------ 1.9182848930358887 seconds | MAE: 0.132 ------------------------------\n",
      "Execute Training and Walk Forward Testing for (Abrdn PLC-4295897744) for 1215 times..\n",
      "------------------------------ 1.7547659873962402 seconds | MAE: 0.113 ------------------------------\n",
      "Execute Training and Walk Forward Testing for (SEGRO PLC-4295895174) for 576 times..\n",
      "------------------------------ 0.499021053314209 seconds | MAE: 0.032 ------------------------------\n",
      "Execute Training and Walk Forward Testing for (NEX Group Ltd-5052540916) for 455 times..\n",
      "------------------------------ 0.3781430721282959 seconds | MAE: 0.090 ------------------------------\n",
      "Execute Training and Walk Forward Testing for (Sibanye Uk Ltd-4295895061) for 371 times..\n",
      "------------------------------ 0.40787410736083984 seconds | MAE: 0.141 ------------------------------\n",
      "Execute Training and Walk Forward Testing for (Aviva PLC-8589934340) for 1294 times..\n",
      "------------------------------ 1.881201982498169 seconds | MAE: 0.090 ------------------------------\n",
      "Execute Training and Walk Forward Testing for (Barclays PLC-8589934333) for 1294 times..\n",
      "------------------------------ 1.7199828624725342 seconds | MAE: 0.218 ------------------------------\n",
      "Execute Training and Walk Forward Testing for (HSBC Holdings PLC-8589934275) for 1294 times..\n",
      "------------------------------ 1.8336420059204102 seconds | MAE: 0.038 ------------------------------\n",
      "Execute Training and Walk Forward Testing for (Lloyds Banking Group PLC-8589934254) for 1294 times..\n",
      "------------------------------ 1.793578863143921 seconds | MAE: 0.136 ------------------------------\n",
      "Execute Training and Walk Forward Testing for (Prudential PLC-8589934227) for 1294 times..\n",
      "------------------------------ 1.682922124862671 seconds | MAE: 0.142 ------------------------------\n",
      "Execute Training and Walk Forward Testing for (Natwest Group PLC-8589934212) for 1294 times..\n",
      "------------------------------ 1.6640689373016357 seconds | MAE: 0.141 ------------------------------\n",
      "Execute Training and Walk Forward Testing for (Man Group PLC-5067937815) for 467 times..\n",
      "------------------------------ 0.3364710807800293 seconds | MAE: 0.099 ------------------------------\n",
      "Execute Training and Walk Forward Testing for (WPP PLC-5037958512) for 1294 times..\n",
      "------------------------------ 1.737483024597168 seconds | MAE: 0.081 ------------------------------\n",
      "Execute Training and Walk Forward Testing for (Rolls-Royce Holdings PLC-5033562382) for 1294 times..\n",
      "------------------------------ 1.5954649448394775 seconds | MAE: 0.581 ------------------------------\n",
      "Execute Training and Walk Forward Testing for (United Utilities Group PLC-5000039682) for 1294 times..\n",
      "------------------------------ 2.177161931991577 seconds | MAE: 0.038 ------------------------------\n",
      "Execute Training and Walk Forward Testing for (Xstrata Ltd-5000006235) for 536 times..\n",
      "------------------------------ 0.43268775939941406 seconds | MAE: 0.158 ------------------------------\n",
      "Execute Training and Walk Forward Testing for (BAE Systems PLC-5000001291) for 1294 times..\n",
      "------------------------------ 1.7060840129852295 seconds | MAE: 0.040 ------------------------------\n",
      "Execute Training and Walk Forward Testing for (Sage Group PLC-4295898763) for 1294 times..\n",
      "------------------------------ 1.6845521926879883 seconds | MAE: 0.049 ------------------------------\n",
      "Execute Training and Walk Forward Testing for (Antofagasta PLC-4295898060) for 1294 times..\n",
      "------------------------------ 1.724168062210083 seconds | MAE: 0.060 ------------------------------\n",
      "Execute Training and Walk Forward Testing for (ITV PLC-4295897705) for 961 times..\n",
      "------------------------------ 1.0243730545043945 seconds | MAE: 0.176 ------------------------------\n",
      "Execute Training and Walk Forward Testing for (WM Morrison Supermarkets Ltd-4295897683) for 1103 times..\n",
      "------------------------------ 1.2486028671264648 seconds | MAE: 0.041 ------------------------------\n",
      "Execute Training and Walk Forward Testing for (Sky Ltd-4295897467) for 947 times..\n",
      "------------------------------ 0.9931199550628662 seconds | MAE: 0.073 ------------------------------\n",
      "Execute Training and Walk Forward Testing for (Vodafone Group PLC-4295896661) for 1294 times..\n",
      "------------------------------ 1.7302749156951904 seconds | MAE: 0.063 ------------------------------\n",
      "Execute Training and Walk Forward Testing for (Severn Trent PLC-4295896619) for 1294 times..\n"
     ]
    },
    {
     "name": "stdout",
     "output_type": "stream",
     "text": [
      "------------------------------ 1.963789701461792 seconds | MAE: 0.033 ------------------------------\n",
      "Execute Training and Walk Forward Testing for (Anglo American PLC-4295896494) for 1294 times..\n",
      "------------------------------ 1.7047269344329834 seconds | MAE: 0.104 ------------------------------\n",
      "Execute Training and Walk Forward Testing for (Abi Sab Group Holding Ltd-4295896447) for 796 times..\n",
      "------------------------------ 0.7659730911254883 seconds | MAE: 0.042 ------------------------------\n",
      "Execute Training and Walk Forward Testing for (Kingfisher PLC-4295895853) for 1266 times..\n",
      "------------------------------ 3.2445688247680664 seconds | MAE: 0.113 ------------------------------\n",
      "Execute Training and Walk Forward Testing for (3i Group PLC-4295895807) for 1050 times..\n",
      "------------------------------ 1.2981350421905518 seconds | MAE: 0.108 ------------------------------\n",
      "Execute Training and Walk Forward Testing for (GSK plc-4295895781) for 1294 times..\n",
      "------------------------------ 1.78556227684021 seconds | MAE: 0.032 ------------------------------\n",
      "Execute Training and Walk Forward Testing for (Next PLC-4295895761) for 1294 times..\n",
      "------------------------------ 1.8158190250396729 seconds | MAE: 0.111 ------------------------------\n",
      "Execute Training and Walk Forward Testing for (HBOS Plc-4295895499) for 208 times..\n",
      "------------------------------ 0.08055591583251953 seconds | MAE: 6.112 ------------------------------\n",
      "Execute Training and Walk Forward Testing for (BT Group PLC-4295895409) for 1294 times..\n",
      "------------------------------ 1.6901369094848633 seconds | MAE: 0.056 ------------------------------\n",
      "Execute Training and Walk Forward Testing for (Compass Group PLC-4295895403) for 1294 times..\n",
      "------------------------------ 1.9227521419525146 seconds | MAE: 0.161 ------------------------------\n",
      "Execute Training and Walk Forward Testing for (Tesco PLC-4295895258) for 1294 times..\n",
      "------------------------------ 1.8675031661987305 seconds | MAE: 0.034 ------------------------------\n",
      "Execute Training and Walk Forward Testing for (RSA Insurance Group Ltd-4295895232) for 1143 times..\n",
      "------------------------------ 1.5902771949768066 seconds | MAE: 0.141 ------------------------------\n",
      "Execute Training and Walk Forward Testing for (Standard Chartered PLC-4295895205) for 1294 times..\n",
      "------------------------------ 1.7756850719451904 seconds | MAE: 0.064 ------------------------------\n",
      "Execute Training and Walk Forward Testing for (Smith & Nephew PLC-4295895197) for 1294 times..\n",
      "------------------------------ 1.8233320713043213 seconds | MAE: 0.057 ------------------------------\n",
      "Execute Training and Walk Forward Testing for (Smiths Group PLC-4295895196) for 1266 times..\n",
      "------------------------------ 2.061640977859497 seconds | MAE: 0.082 ------------------------------\n",
      "Execute Training and Walk Forward Testing for (Schroders PLC-4295895179) for 1247 times..\n",
      "------------------------------ 2.018570899963379 seconds | MAE: 0.170 ------------------------------\n",
      "Execute Training and Walk Forward Testing for (J Sainsbury PLC-4295895145) for 1294 times..\n",
      "------------------------------ 1.9188480377197266 seconds | MAE: 0.045 ------------------------------\n",
      "Execute Training and Walk Forward Testing for (Hammerson PLC-4295895059) for 903 times..\n",
      "------------------------------ 0.986224889755249 seconds | MAE: 0.176 ------------------------------\n",
      "Execute Training and Walk Forward Testing for (Legal & General Group PLC-4295895043) for 1294 times..\n",
      "------------------------------ 1.7954421043395996 seconds | MAE: 0.176 ------------------------------\n",
      "Execute Training and Walk Forward Testing for (British Airways PLC-4295894987) for 360 times..\n",
      "------------------------------ 0.20761895179748535 seconds | MAE: 0.061 ------------------------------\n",
      "Execute Training and Walk Forward Testing for (BG Group Ltd-4295894972) for 745 times..\n",
      "------------------------------ 0.9197721481323242 seconds | MAE: 0.133 ------------------------------\n",
      "Execute Training and Walk Forward Testing for (Associated British Foods PLC-4295894968) for 1294 times..\n",
      "------------------------------ 1.763038158416748 seconds | MAE: 0.060 ------------------------------\n",
      "Execute Training and Walk Forward Testing for (British Land Company PLC-4295894958) for 1294 times..\n",
      "------------------------------ 1.7704980373382568 seconds | MAE: 0.082 ------------------------------\n",
      "Execute Training and Walk Forward Testing for (BHP Group (UK) Ltd-4295894852) for 1194 times..\n",
      "------------------------------ 1.6156270503997803 seconds | MAE: 0.089 ------------------------------\n",
      "Execute Training and Walk Forward Testing for (Pearson PLC-4295894824) for 1294 times..\n",
      "------------------------------ 1.7336688041687012 seconds | MAE: 0.077 ------------------------------\n",
      "Execute Training and Walk Forward Testing for (Diageo PLC-4295894791) for 1294 times..\n",
      "------------------------------ 1.8721590042114258 seconds | MAE: 0.043 ------------------------------\n",
      "Execute Training and Walk Forward Testing for (Johnson Matthey PLC-4295894789) for 1203 times..\n",
      "------------------------------ 1.4848318099975586 seconds | MAE: 0.056 ------------------------------\n",
      "Execute Training and Walk Forward Testing for (Rio Tinto PLC-4295894786) for 1294 times..\n",
      "------------------------------ 1.7767219543457031 seconds | MAE: 0.079 ------------------------------\n",
      "Execute Training and Walk Forward Testing for (British American Tobacco PLC-4295894777) for 1294 times..\n",
      "------------------------------ 1.7721202373504639 seconds | MAE: 0.065 ------------------------------\n",
      "Execute Training and Walk Forward Testing for (Unilever PLC-4295894770) for 1294 times..\n",
      "------------------------------ 2.444941997528076 seconds | MAE: 0.026 ------------------------------\n",
      "Execute Training and Walk Forward Testing for (Relx PLC-4295894769) for 1294 times..\n",
      "------------------------------ 1.6357390880584717 seconds | MAE: 0.028 ------------------------------\n",
      "Execute Training and Walk Forward Testing for (InterContinental Hotels Group PLC-4295894762) for 1294 times..\n",
      "------------------------------ 2.0714809894561768 seconds | MAE: 0.149 ------------------------------\n",
      "Execute Training and Walk Forward Testing for (Tate & Lyle PLC-4295894759) for 345 times..\n",
      "------------------------------ 0.18718290328979492 seconds | MAE: 0.029 ------------------------------\n",
      "Execute Training and Walk Forward Testing for (Cadbury Ltd-4295894757) for 290 times..\n",
      "------------------------------ 0.15625619888305664 seconds | MAE: 0.160 ------------------------------\n",
      "Execute Training and Walk Forward Testing for (Reckitt Benckiser Group PLC-4295894756) for 1294 times..\n",
      "------------------------------ 1.7437341213226318 seconds | MAE: 0.024 ------------------------------\n",
      "Execute Training and Walk Forward Testing for (Rexam Ltd-4295894753) for 653 times..\n",
      "------------------------------ 0.7792680263519287 seconds | MAE: 0.044 ------------------------------\n",
      "Execute Training and Walk Forward Testing for (BP PLC-4295894740) for 1294 times..\n",
      "------------------------------ 1.8225152492523193 seconds | MAE: 0.152 ------------------------------\n",
      "Execute Training and Walk Forward Testing for (Centrica PLC-4295894725) for 1133 times..\n",
      "------------------------------ 1.404299020767212 seconds | MAE: 0.213 ------------------------------\n",
      "Execute Training and Walk Forward Testing for (Shire Ltd-4295894723) for 960 times..\n",
      "------------------------------ 1.0288238525390625 seconds | MAE: 0.248 ------------------------------\n",
      "Execute Training and Walk Forward Testing for (Imperial Brands PLC-4295894647) for 1294 times..\n",
      "------------------------------ 1.7231991291046143 seconds | MAE: 0.045 ------------------------------\n",
      "Execute Training and Walk Forward Testing for (Rentokil Initial PLC-4295894497) for 535 times..\n",
      "------------------------------ 0.7294418811798096 seconds | MAE: 0.017 ------------------------------\n",
      "Execute Training and Walk Forward Testing for (National Grid PLC-4295894468) for 1294 times..\n",
      "------------------------------ 1.7113001346588135 seconds | MAE: 0.035 ------------------------------\n",
      "Execute Training and Walk Forward Testing for (Home Retail Group Ltd-4295894369) for 278 times..\n",
      "------------------------------ 0.12787199020385742 seconds | MAE: 0.031 ------------------------------\n",
      "Execute Training and Walk Forward Testing for (AstraZeneca PLC-4295894341) for 1294 times..\n"
     ]
    },
    {
     "name": "stdout",
     "output_type": "stream",
     "text": [
      "------------------------------ 1.829042911529541 seconds | MAE: 0.053 ------------------------------\n",
      "Execute Training and Walk Forward Testing for (SSE PLC-4295894191) for 1294 times..\n",
      "------------------------------ 1.9699039459228516 seconds | MAE: 0.083 ------------------------------\n",
      "Execute Training and Walk Forward Testing for (Capricorn Energy PLC-4295894168) for 381 times..\n",
      "------------------------------ 0.34438514709472656 seconds | MAE: 0.104 ------------------------------\n",
      "Execute Training and Walk Forward Testing for (Persimmon PLC-4295894068) for 906 times..\n",
      "------------------------------ 0.9800660610198975 seconds | MAE: 0.111 ------------------------------\n",
      "Execute Training and Walk Forward Testing for (Shell PLC-4295885039) for 1294 times..\n",
      "------------------------------ 2.1541571617126465 seconds | MAE: 0.132 ------------------------------\n"
     ]
    }
   ],
   "source": [
    "# You can left the 'features' null when running GARCH.\n",
    "run_algorithms = Run_Algorithms(train_df, test_df, algorithms='EN', features='m1', sample= False, plot_export= False, res_export= False)\n",
    "\n",
    "mresults_EN_m1 = run_algorithms.compile_train_test()"
   ]
  },
  {
   "cell_type": "code",
   "execution_count": 19,
   "id": "5ff9d26f",
   "metadata": {
    "ExecuteTime": {
     "end_time": "2023-07-22T20:41:30.693988Z",
     "start_time": "2023-07-22T20:41:30.687954Z"
    }
   },
   "outputs": [
    {
     "data": {
      "text/plain": [
       "0.16179244084370759"
      ]
     },
     "execution_count": 19,
     "metadata": {},
     "output_type": "execute_result"
    }
   ],
   "source": [
    "np.mean(mresults_EN_m1['MSE^3'])"
   ]
  },
  {
   "cell_type": "code",
   "execution_count": 17,
   "id": "82a6d3f5",
   "metadata": {
    "ExecuteTime": {
     "end_time": "2023-07-22T22:36:13.467943Z",
     "start_time": "2023-07-22T22:36:08.766322Z"
    }
   },
   "outputs": [],
   "source": [
    "train_df.to_csv('../../../../../../../Downloads/train_df.csv')\n",
    "test_df.to_csv('../../../../../../../Downloads/test_df.csv')"
   ]
  },
  {
   "cell_type": "code",
   "execution_count": 67,
   "id": "6f1371cd",
   "metadata": {
    "ExecuteTime": {
     "end_time": "2023-07-22T20:58:29.535358Z",
     "start_time": "2023-07-22T20:58:29.523786Z"
    }
   },
   "outputs": [
    {
     "data": {
      "text/plain": [
       "(17427, 24)"
      ]
     },
     "execution_count": 67,
     "metadata": {},
     "output_type": "execute_result"
    }
   ],
   "source": [
    "clean_df.shape"
   ]
  },
  {
   "cell_type": "code",
   "execution_count": 21,
   "id": "7d462364",
   "metadata": {
    "ExecuteTime": {
     "end_time": "2023-07-22T20:58:30.100878Z",
     "start_time": "2023-07-22T20:58:30.061122Z"
    }
   },
   "outputs": [
    {
     "name": "stdout",
     "output_type": "stream",
     "text": [
      "Execute Training and Walk Forward Testing for (Natwest Group PLC-8589934212) for 1294 times..\n",
      "------------------------------ 3.6663548946380615 seconds | MAE: 0.141 ------------------------------\n",
      "Execute Training and Walk Forward Testing for (Lloyds Banking Group PLC-8589934254) for 1294 times..\n",
      "------------------------------ 2.1470208168029785 seconds | MAE: 0.136 ------------------------------\n"
     ]
    }
   ],
   "source": [
    "# You can left the 'features' null when running GARCH.\n",
    "run_algorithms = Run_Algorithms(train_df, test_df, algorithms='EN', features='m1', sample= True, plot_export= True, res_export= False)\n",
    "\n",
    "mresults_EN_m1 = run_algorithms.compile_train_test()"
   ]
  },
  {
   "cell_type": "code",
   "execution_count": 15,
   "id": "9165d936",
   "metadata": {
    "ExecuteTime": {
     "end_time": "2023-07-22T21:17:12.167942Z",
     "start_time": "2023-07-22T20:58:41.954321Z"
    }
   },
   "outputs": [
    {
     "name": "stdout",
     "output_type": "stream",
     "text": [
      "Execute Training and Walk Forward Testing for (Natwest Group PLC-8589934212) for 1294 times..\n",
      "------------------------------ 546.5475289821625 seconds | MAE: 0.001 ------------------------------\n",
      "Execute Training and Walk Forward Testing for (Lloyds Banking Group PLC-8589934254) for 1294 times..\n",
      "------------------------------ 562.8922989368439 seconds | MAE: 0.003 ------------------------------\n"
     ]
    }
   ],
   "source": [
    "# You can left the 'features' null when running GARCH.\n",
    "run_algorithms = Run_Algorithms(train_df, test_df, algorithms='RF', features='m1', sample= True, plot_export= True, res_export= False)\n",
    "\n",
    "mresults_EN_m1 = run_algorithms.compile_train_test()"
   ]
  }
 ],
 "metadata": {
  "kernelspec": {
   "display_name": "Python 3 (ipykernel)",
   "language": "python",
   "name": "python3"
  },
  "language_info": {
   "codemirror_mode": {
    "name": "ipython",
    "version": 3
   },
   "file_extension": ".py",
   "mimetype": "text/x-python",
   "name": "python",
   "nbconvert_exporter": "python",
   "pygments_lexer": "ipython3",
   "version": "3.11.3"
  },
  "toc": {
   "base_numbering": 1,
   "nav_menu": {},
   "number_sections": true,
   "sideBar": true,
   "skip_h1_title": false,
   "title_cell": "Table of Contents",
   "title_sidebar": "Contents",
   "toc_cell": true,
   "toc_position": {},
   "toc_section_display": true,
   "toc_window_display": false
  }
 },
 "nbformat": 4,
 "nbformat_minor": 5
}
