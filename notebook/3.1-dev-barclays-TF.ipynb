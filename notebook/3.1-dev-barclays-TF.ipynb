{
 "cells": [
  {
   "cell_type": "code",
   "execution_count": 1,
   "id": "e2a7859e-e8ce-4cdc-8a59-070bd1ac9a45",
   "metadata": {},
   "outputs": [],
   "source": [
    "# Method #4 LSTM Model\n",
    "from keras.callbacks import EarlyStopping\n",
    "from keras.layers import Dropout\n",
    "from keras.layers.regularization.gaussian_noise import GaussianNoise\n",
    "from keras.optimizers import rmsprop_v2\n",
    "\n",
    "from tensorflow.keras import backend as K\n",
    "from tensorflow.keras import optimizers\n",
    "from tensorflow.keras.callbacks import *\n",
    "from tensorflow.keras.layers import Dense, LSTM, SimpleRNN\n",
    "from tensorflow.keras.models import Sequential\n",
    "from tensorflow.keras.preprocessing.sequence import TimeseriesGenerator\n",
    "from tensorflow.python import keras\n",
    "\n",
    "# Method #5 TFT Model\n",
    "\n",
    "from IPython.display import display, HTML\n",
    "from sklearn.metrics import mean_squared_error\n",
    "import matplotlib.pyplot as plt\n",
    "import numpy as np\n",
    "import pandas as pd\n",
    "import random as rd\n",
    "import warnings\n",
    "\n",
    "# display(HTML(\"<style>.container { width:80% !important; }</style>\"))\n",
    "warnings.filterwarnings('ignore')\n",
    "pd.set_option('display.max_columns', 100)"
   ]
  },
  {
   "cell_type": "code",
   "execution_count": 2,
   "id": "28e6451d-e9c3-470b-8641-d86b9553084e",
   "metadata": {},
   "outputs": [],
   "source": [
    "# lookback window 5 and train 5 batch\n",
    "lags = 7\n",
    "batch_size = 15\n",
    "\n",
    "early_stop = EarlyStopping(monitor='val_loss', patience=5, verbose=1)\n",
    "\n",
    "def create_rnn_model(hu=32, lags=lags, layer='SimpleRNN',\n",
    "                           features=1, output_size = 1, algorithm='estimation'):\n",
    "    \n",
    "    model = Sequential()\n",
    "    if layer == 'SimpleRNN':\n",
    "        model.add(SimpleRNN(hu, activation='relu',\n",
    "                            input_shape=(lags, features)))\n",
    "    else:\n",
    "        model.add(LSTM(hu, activation='relu',\n",
    "                       input_shape=(lags, features)))\n",
    "    if algorithm == 'estimation':\n",
    "        model.add(Dense(output_size, activation='linear'))\n",
    "        model.compile(optimizer='adam', loss='mse', metrics=['mae'])\n",
    "    else:\n",
    "        model.add(Dense(output_size, activation='sigmoid'))\n",
    "        model.compile(optimizer='adam', loss='binary_crossentropy',\n",
    "                      metrics=['accuracy'])\n",
    "    return model"
   ]
  },
  {
   "cell_type": "code",
   "execution_count": 3,
   "id": "ef3237d6-af07-4194-9360-afd270448e5f",
   "metadata": {},
   "outputs": [],
   "source": [
    "base_FTSE_df = pd.read_csv('../Data/1.3-FTSE_Monthly_ESG_Volatility_Final.csv')\n",
    "base_FTSE_df = base_FTSE_df.rename(columns={'Date_x':'date_key'})\n",
    "\n",
    "base_FTSE_df.Date = pd.to_datetime(base_FTSE_df.date_key)\n",
    "base_FTSE_df.Asset = base_FTSE_df.Asset.astype(int)\n",
    "base_FTSE_df.index = base_FTSE_df.date_key"
   ]
  },
  {
   "cell_type": "code",
   "execution_count": null,
   "id": "5d7b9ee4-ad0e-4291-8477-1ba60ab86e92",
   "metadata": {},
   "outputs": [],
   "source": []
  },
  {
   "cell_type": "code",
   "execution_count": 16,
   "id": "bf19276b-99d6-4093-bf7d-cd5b2d646434",
   "metadata": {},
   "outputs": [],
   "source": [
    "from sklearn.model_selection import train_test_split"
   ]
  },
  {
   "cell_type": "code",
   "execution_count": 22,
   "id": "7c8842d0-0182-4659-b4f0-229bd1d6d838",
   "metadata": {},
   "outputs": [],
   "source": [
    "def func_train_test_split(df):\n",
    "    \n",
    "    train_df, test_df = pd.DataFrame(), pd.DataFrame()\n",
    "    list_assets = df.Asset.unique()\n",
    "    \n",
    "    for asset in list_assets:\n",
    "        temp_df = df[df['Asset'] == asset].copy()\n",
    "        rows = temp_df.shape[0]\n",
    "        train_len = int(rows*0.80)\n",
    "        \n",
    "        stocks_mean = np.mean(train_df, axis=0)\n",
    "        stocks_std = np.std(train_df, axis=0)\n",
    "\n",
    "        train_std_df = (train_df - stocks_mean)/stocks_std # for training data\n",
    "        test_std_df = (test_df - stocks_mean)/stocks_std # for test data\n",
    "\n",
    "        \n",
    "        train_df = pd.concat([temp_df.iloc[:train_len], train_df])\n",
    "        test_df = pd.concat([temp_df.iloc[train_len:], test_df])\n",
    "        \n",
    "    return train_df, test_df"
   ]
  },
  {
   "cell_type": "code",
   "execution_count": 23,
   "id": "3ad0cf3e-f755-4c8f-a77f-4993c6594b5c",
   "metadata": {},
   "outputs": [],
   "source": [
    "train_df, test_df = func_train_test_split(base_FTSE_df)"
   ]
  },
  {
   "cell_type": "code",
   "execution_count": 25,
   "id": "3993ac58-1c44-428d-a400-1510ef6172c6",
   "metadata": {},
   "outputs": [
    {
     "data": {
      "text/plain": [
       "(15322, 28)"
      ]
     },
     "execution_count": 25,
     "metadata": {},
     "output_type": "execute_result"
    }
   ],
   "source": [
    "train_df.shape"
   ]
  },
  {
   "cell_type": "code",
   "execution_count": 26,
   "id": "4939ee9d-32a1-4762-a8dd-60317674f01d",
   "metadata": {},
   "outputs": [
    {
     "data": {
      "text/plain": [
       "(3937, 28)"
      ]
     },
     "execution_count": 26,
     "metadata": {},
     "output_type": "execute_result"
    }
   ],
   "source": [
    "test_df.shape"
   ]
  },
  {
   "cell_type": "code",
   "execution_count": null,
   "id": "97c8cdcb-54b4-4b08-9e74-1e5ada1b7381",
   "metadata": {},
   "outputs": [],
   "source": []
  },
  {
   "cell_type": "code",
   "execution_count": null,
   "id": "b6e948ed-479b-49a5-86c2-05089e3f15b3",
   "metadata": {},
   "outputs": [],
   "source": []
  },
  {
   "cell_type": "code",
   "execution_count": 28,
   "id": "86f2e261-093b-4fe1-aa14-94672927a7b4",
   "metadata": {},
   "outputs": [],
   "source": [
    "import math"
   ]
  },
  {
   "cell_type": "code",
   "execution_count": 29,
   "id": "0f304006-24fe-4b8d-a891-0910df75759f",
   "metadata": {},
   "outputs": [],
   "source": [
    "train_len = math.ceil(base_FTSE_df.shape[0] * 0.7)\n",
    "valid_len = math.ceil(base_FTSE_df.shape[0] * 0.20)\n",
    "test_len = int(base_FTSE_df.shape[0] * 0.10)\n",
    "\n",
    "assert(train_len+valid_len+test_len == base_FTSE_df.shape[0])"
   ]
  },
  {
   "cell_type": "code",
   "execution_count": 12,
   "id": "a49b7d61-809e-4cfe-a2e5-803c62094321",
   "metadata": {},
   "outputs": [],
   "source": [
    "train_df = base_FTSE_df.iloc[:train_len]\n",
    "valid_df = base_FTSE_df.iloc[train_len:(train_len+valid_len)]\n",
    "test_df = base_FTSE_df.iloc[(train_len+valid_len):]"
   ]
  },
  {
   "cell_type": "code",
   "execution_count": null,
   "id": "874f233b-076b-4807-b53b-28dabfd3cfc1",
   "metadata": {},
   "outputs": [],
   "source": [
    "#### Standardise Features: Open, High, Low, Adj Close, Return, volatility.\n",
    "stocks_mean = np.mean(train_df, axis=0)\n",
    "stocks_std = np.std(train_df, axis=0)\n",
    "\n",
    "train_std_df = (train_df - stocks_mean)/stocks_std # for training data\n",
    "test_std_df = (test_df - stocks_mean)/stocks_std # for test data\n",
    "\n",
    "ori_df_std = pd.concat([train_std_df,test_std_df])"
   ]
  },
  {
   "cell_type": "code",
   "execution_count": null,
   "id": "9555f93e-b7e1-4e86-beb3-1da6cb5f88f0",
   "metadata": {},
   "outputs": [],
   "source": []
  },
  {
   "cell_type": "code",
   "execution_count": null,
   "id": "7718f1b2-c88c-4043-99f9-ba4637dfc9b0",
   "metadata": {},
   "outputs": [],
   "source": []
  },
  {
   "cell_type": "code",
   "execution_count": null,
   "id": "3a388386-b97e-4b08-8dfb-8832ba921d80",
   "metadata": {},
   "outputs": [],
   "source": [
    "split = int(stock_NVDA.shape[0] * 0.8)\n",
    "\n",
    "# (𝑂𝑡, 𝐻𝑡, 𝐿𝑡, 𝐶𝑙𝑜𝑠𝑒𝑡, 𝐴𝑑𝑗𝐶𝑙𝑜𝑠𝑒𝑡, 𝑟𝑡 ,𝑉𝑂𝐿𝑡)T\n",
    "train_df = stock_NVDA.iloc[:split].drop(['Date','Firm', 'Volume'], axis=1)\n",
    "test_df  = stock_NVDA.iloc[split:].drop(['Date','Firm', 'Volume'], axis=1)\n",
    "\n",
    "train_df = train_df[train_df.volatility.notnull()]\n",
    "test_df = test_df[test_df.volatility.notnull()]\n",
    "\n",
    "# validation\n",
    "split = int(train_df.shape[0] * 0.85)\n",
    "train_viz = train_df.iloc[:split].copy()\n",
    "valid_viz = train_df.iloc[split:].copy()\n",
    "\n",
    "ori_df = pd.concat([train_df,test_df])\n",
    "ori_df = ori_df[ori_df['volatility'].notnull()]"
   ]
  },
  {
   "cell_type": "code",
   "execution_count": null,
   "id": "704a5b36-88f3-44bb-8e72-0ebfeac61741",
   "metadata": {},
   "outputs": [],
   "source": []
  },
  {
   "cell_type": "code",
   "execution_count": null,
   "id": "611cbbbe-af88-4c43-9b06-24d916accad4",
   "metadata": {},
   "outputs": [],
   "source": []
  },
  {
   "cell_type": "code",
   "execution_count": 4,
   "id": "f78c41a1-4e37-49dc-9798-02ecf852b2a9",
   "metadata": {},
   "outputs": [
    {
     "ename": "NameError",
     "evalue": "name 'pd' is not defined",
     "output_type": "error",
     "traceback": [
      "\u001b[0;31m---------------------------------------------------------------------------\u001b[0m",
      "\u001b[0;31mNameError\u001b[0m                                 Traceback (most recent call last)",
      "Cell \u001b[0;32mIn [4], line 1\u001b[0m\n\u001b[0;32m----> 1\u001b[0m base_FTSE_df \u001b[38;5;241m=\u001b[39m \u001b[43mpd\u001b[49m\u001b[38;5;241m.\u001b[39mread_csv(\u001b[38;5;124m'\u001b[39m\u001b[38;5;124m../Data/1.3-FTSE_Monthly_ESG_Volatility_Final.csv\u001b[39m\u001b[38;5;124m'\u001b[39m)\n\u001b[1;32m      2\u001b[0m base_FTSE_df \u001b[38;5;241m=\u001b[39m base_FTSE_df\u001b[38;5;241m.\u001b[39mrename(columns\u001b[38;5;241m=\u001b[39m{\u001b[38;5;124m'\u001b[39m\u001b[38;5;124mDate_x\u001b[39m\u001b[38;5;124m'\u001b[39m:\u001b[38;5;124m'\u001b[39m\u001b[38;5;124mdate_key\u001b[39m\u001b[38;5;124m'\u001b[39m})\n\u001b[1;32m      4\u001b[0m base_FTSE_df\u001b[38;5;241m.\u001b[39mDate \u001b[38;5;241m=\u001b[39m pd\u001b[38;5;241m.\u001b[39mto_datetime(base_FTSE_df\u001b[38;5;241m.\u001b[39mdate_key)\n",
      "\u001b[0;31mNameError\u001b[0m: name 'pd' is not defined"
     ]
    }
   ],
   "source": [
    "base_FTSE_df = pd.read_csv('../Data/1.3-FTSE_Monthly_ESG_Volatility_Final.csv')\n",
    "base_FTSE_df = base_FTSE_df.rename(columns={'Date_x':'date_key'})\n",
    "\n",
    "base_FTSE_df.Date = pd.to_datetime(base_FTSE_df.date_key)\n",
    "base_FTSE_df.Asset = base_FTSE_df.Asset.astype(int)\n",
    "base_FTSE_df.index = base_FTSE_df.date_key"
   ]
  },
  {
   "cell_type": "markdown",
   "id": "850492ff-e724-44e3-ac59-593b2eee7921",
   "metadata": {},
   "source": [
    "---"
   ]
  },
  {
   "cell_type": "markdown",
   "id": "548b1d72-8fd1-4de5-bde3-3b4da608320a",
   "metadata": {},
   "source": [
    "# Incorrect Rolling Dataframe"
   ]
  },
  {
   "cell_type": "code",
   "execution_count": 18,
   "id": "5550c858-a854-476c-b6ce-589bd8f3dd34",
   "metadata": {},
   "outputs": [],
   "source": [
    "def func_m1_volatility(df):\n",
    "    master_df = pd.DataFrame()\n",
    "    \n",
    "    for asset in df.Asset.unique():\n",
    "        \n",
    "        temp_df = df[df.Asset == asset]\n",
    "\n",
    "        vol_series = temp_df['V^YZ']\n",
    "        vol_series_daily = vol_series.shift(1)\n",
    "        vol_series_weekly = vol_series.rolling(5).mean().shift(1)\n",
    "        vol_series_monthly = vol_series.rolling(22).mean().shift(1)\n",
    "\n",
    "        temp_df = pd.DataFrame({\n",
    "            'asset':asset,\n",
    "            'vol': vol_series,\n",
    "            'vol_lag_daily': vol_series_daily,\n",
    "            'vol_lag_weekly': vol_series_weekly,\n",
    "            'vol_lag_monthly': vol_series_monthly\n",
    "            }\n",
    "        ).dropna()\n",
    "        master_df = pd.concat([master_df, temp_df])\n",
    "\n",
    "    return master_df"
   ]
  },
  {
   "cell_type": "code",
   "execution_count": 20,
   "id": "ce563fa1-e755-4b18-bc35-07808db7ba8d",
   "metadata": {},
   "outputs": [],
   "source": [
    "m1_df = func_m1_volatility(base_FTSE_df)"
   ]
  }
 ],
 "metadata": {
  "kernelspec": {
   "display_name": "Python 3 (ipykernel)",
   "language": "python",
   "name": "python3"
  },
  "language_info": {
   "codemirror_mode": {
    "name": "ipython",
    "version": 3
   },
   "file_extension": ".py",
   "mimetype": "text/x-python",
   "name": "python",
   "nbconvert_exporter": "python",
   "pygments_lexer": "ipython3",
   "version": "3.9.16"
  }
 },
 "nbformat": 4,
 "nbformat_minor": 5
}
