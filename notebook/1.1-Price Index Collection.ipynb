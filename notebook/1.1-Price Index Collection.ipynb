{
 "cells": [
  {
   "cell_type": "markdown",
   "id": "ce15f65c",
   "metadata": {
    "toc": true
   },
   "source": [
    "<h1>Table of Contents<span class=\"tocSkip\"></span></h1>\n",
    "<div class=\"toc\"><ul class=\"toc-item\"></ul></div>"
   ]
  },
  {
   "cell_type": "code",
   "execution_count": 1,
   "id": "afc4b7d3",
   "metadata": {
    "ExecuteTime": {
     "end_time": "2023-07-06T18:03:41.531907Z",
     "start_time": "2023-07-06T18:03:41.224065Z"
    }
   },
   "outputs": [],
   "source": [
    "import yfinance as yf\n",
    "import time\n",
    "import pandas as pd"
   ]
  },
  {
   "cell_type": "code",
   "execution_count": 8,
   "id": "66362047",
   "metadata": {
    "ExecuteTime": {
     "end_time": "2023-07-06T18:36:40.641475Z",
     "start_time": "2023-07-06T18:36:40.138311Z"
    }
   },
   "outputs": [
    {
     "name": "stdout",
     "output_type": "stream",
     "text": [
      "total days:  6327\n"
     ]
    },
    {
     "name": "stderr",
     "output_type": "stream",
     "text": [
      "/var/folders/hf/0mp7k_vd30z8kr8nkwwh037m0000gn/T/ipykernel_76561/1602028283.py:22: FutureWarning: The frame.append method is deprecated and will be removed from pandas in a future version. Use pandas.concat instead.\n",
      "  price_stocks_df = price_stocks_df.append(stock,sort=False)\n"
     ]
    },
    {
     "name": "stdout",
     "output_type": "stream",
     "text": [
      "\n",
      "total time:  0.008190584182739259  minutes\n"
     ]
    },
    {
     "name": "stderr",
     "output_type": "stream",
     "text": [
      "/var/folders/hf/0mp7k_vd30z8kr8nkwwh037m0000gn/T/ipykernel_76561/1602028283.py:22: FutureWarning: The frame.append method is deprecated and will be removed from pandas in a future version. Use pandas.concat instead.\n",
      "  price_stocks_df = price_stocks_df.append(stock,sort=False)\n"
     ]
    }
   ],
   "source": [
    "tickers = ['^FTSE', '^GSPC']\n",
    "t0 = time.time()\n",
    "start = pd.to_datetime('20060101',format='%Y%m%d')\n",
    "end = pd.to_datetime('20230429',format='%Y%m%d')\n",
    "days = (end-start).days\n",
    "print('total days: ', days)\n",
    "\n",
    "# create empty dataframe\n",
    "price_stocks_df = pd.DataFrame()\n",
    "delisted_stock = []\n",
    "\n",
    "# iterate over each symbol\n",
    "for i in tickers:\n",
    "    # print( str(top50_firms.index(i)) + str(' : ') + i, sep=',', end=',', flush=True)\n",
    "    try:\n",
    "        stock = []\n",
    "        stock = yf.download(i, start=start, end=end, progress=False)\n",
    "        if len(stock)==0:\n",
    "            delisted_stock.append(i)\n",
    "        else:\n",
    "            stock['Name']=i\n",
    "            price_stocks_df = price_stocks_df.append(stock,sort=False)\n",
    "    except Exception:\n",
    "        None\n",
    "        \n",
    "t1 = time.time()\n",
    "total = t1-t0\n",
    "print('\\ntotal time: ', total/60, ' minutes')"
   ]
  },
  {
   "cell_type": "code",
   "execution_count": 10,
   "id": "c8cd3d6f",
   "metadata": {
    "ExecuteTime": {
     "end_time": "2023-07-06T18:36:48.532863Z",
     "start_time": "2023-07-06T18:36:48.463667Z"
    }
   },
   "outputs": [],
   "source": [
    "price_stocks_df.to_csv('../data/1.0-indexes_price.csv')"
   ]
  },
  {
   "cell_type": "code",
   "execution_count": 17,
   "id": "516bcfeb",
   "metadata": {
    "ExecuteTime": {
     "end_time": "2023-07-06T18:44:23.247166Z",
     "start_time": "2023-07-06T18:44:23.225598Z"
    }
   },
   "outputs": [
    {
     "data": {
      "text/html": [
       "<div>\n",
       "<style scoped>\n",
       "    .dataframe tbody tr th:only-of-type {\n",
       "        vertical-align: middle;\n",
       "    }\n",
       "\n",
       "    .dataframe tbody tr th {\n",
       "        vertical-align: top;\n",
       "    }\n",
       "\n",
       "    .dataframe thead th {\n",
       "        text-align: right;\n",
       "    }\n",
       "</style>\n",
       "<table border=\"1\" class=\"dataframe\">\n",
       "  <thead>\n",
       "    <tr style=\"text-align: right;\">\n",
       "      <th></th>\n",
       "      <th>Open</th>\n",
       "      <th>High</th>\n",
       "      <th>Low</th>\n",
       "      <th>Close</th>\n",
       "      <th>Adj Close</th>\n",
       "      <th>Volume</th>\n",
       "      <th>Name</th>\n",
       "    </tr>\n",
       "    <tr>\n",
       "      <th>Date</th>\n",
       "      <th></th>\n",
       "      <th></th>\n",
       "      <th></th>\n",
       "      <th></th>\n",
       "      <th></th>\n",
       "      <th></th>\n",
       "      <th></th>\n",
       "    </tr>\n",
       "  </thead>\n",
       "  <tbody>\n",
       "    <tr>\n",
       "      <th>2006-04-12</th>\n",
       "      <td>6016.500000</td>\n",
       "      <td>6020.000000</td>\n",
       "      <td>5974.500000</td>\n",
       "      <td>6000.799805</td>\n",
       "      <td>6000.799805</td>\n",
       "      <td>1851945400</td>\n",
       "      <td>^FTSE</td>\n",
       "    </tr>\n",
       "    <tr>\n",
       "      <th>2006-04-13</th>\n",
       "      <td>6000.799805</td>\n",
       "      <td>6033.700195</td>\n",
       "      <td>5987.200195</td>\n",
       "      <td>6029.399902</td>\n",
       "      <td>6029.399902</td>\n",
       "      <td>1300431500</td>\n",
       "      <td>^FTSE</td>\n",
       "    </tr>\n",
       "    <tr>\n",
       "      <th>2006-04-18</th>\n",
       "      <td>6029.399902</td>\n",
       "      <td>6056.100098</td>\n",
       "      <td>6026.100098</td>\n",
       "      <td>6044.100098</td>\n",
       "      <td>6044.100098</td>\n",
       "      <td>1389246900</td>\n",
       "      <td>^FTSE</td>\n",
       "    </tr>\n",
       "    <tr>\n",
       "      <th>2006-04-19</th>\n",
       "      <td>6044.100098</td>\n",
       "      <td>6100.600098</td>\n",
       "      <td>6044.100098</td>\n",
       "      <td>6089.799805</td>\n",
       "      <td>6089.799805</td>\n",
       "      <td>1703340700</td>\n",
       "      <td>^FTSE</td>\n",
       "    </tr>\n",
       "    <tr>\n",
       "      <th>2006-04-20</th>\n",
       "      <td>6089.799805</td>\n",
       "      <td>6113.399902</td>\n",
       "      <td>6074.200195</td>\n",
       "      <td>6081.399902</td>\n",
       "      <td>6081.399902</td>\n",
       "      <td>2029861700</td>\n",
       "      <td>^FTSE</td>\n",
       "    </tr>\n",
       "    <tr>\n",
       "      <th>...</th>\n",
       "      <td>...</td>\n",
       "      <td>...</td>\n",
       "      <td>...</td>\n",
       "      <td>...</td>\n",
       "      <td>...</td>\n",
       "      <td>...</td>\n",
       "      <td>...</td>\n",
       "    </tr>\n",
       "    <tr>\n",
       "      <th>2023-04-24</th>\n",
       "      <td>7914.100098</td>\n",
       "      <td>7927.100098</td>\n",
       "      <td>7877.600098</td>\n",
       "      <td>7912.200195</td>\n",
       "      <td>7912.200195</td>\n",
       "      <td>724845900</td>\n",
       "      <td>^FTSE</td>\n",
       "    </tr>\n",
       "    <tr>\n",
       "      <th>2023-04-25</th>\n",
       "      <td>7912.200195</td>\n",
       "      <td>7912.500000</td>\n",
       "      <td>7863.899902</td>\n",
       "      <td>7891.100098</td>\n",
       "      <td>7891.100098</td>\n",
       "      <td>657900800</td>\n",
       "      <td>^FTSE</td>\n",
       "    </tr>\n",
       "    <tr>\n",
       "      <th>2023-04-26</th>\n",
       "      <td>7891.100098</td>\n",
       "      <td>7894.000000</td>\n",
       "      <td>7825.899902</td>\n",
       "      <td>7852.600098</td>\n",
       "      <td>7852.600098</td>\n",
       "      <td>902747300</td>\n",
       "      <td>^FTSE</td>\n",
       "    </tr>\n",
       "    <tr>\n",
       "      <th>2023-04-27</th>\n",
       "      <td>7852.600098</td>\n",
       "      <td>7865.700195</td>\n",
       "      <td>7816.799805</td>\n",
       "      <td>7831.600098</td>\n",
       "      <td>7831.600098</td>\n",
       "      <td>669734300</td>\n",
       "      <td>^FTSE</td>\n",
       "    </tr>\n",
       "    <tr>\n",
       "      <th>2023-04-28</th>\n",
       "      <td>7831.600098</td>\n",
       "      <td>7870.600098</td>\n",
       "      <td>7791.600098</td>\n",
       "      <td>7870.600098</td>\n",
       "      <td>7870.600098</td>\n",
       "      <td>945273500</td>\n",
       "      <td>^FTSE</td>\n",
       "    </tr>\n",
       "  </tbody>\n",
       "</table>\n",
       "<p>4304 rows × 7 columns</p>\n",
       "</div>"
      ],
      "text/plain": [
       "                   Open         High          Low        Close    Adj Close  \\\n",
       "Date                                                                          \n",
       "2006-04-12  6016.500000  6020.000000  5974.500000  6000.799805  6000.799805   \n",
       "2006-04-13  6000.799805  6033.700195  5987.200195  6029.399902  6029.399902   \n",
       "2006-04-18  6029.399902  6056.100098  6026.100098  6044.100098  6044.100098   \n",
       "2006-04-19  6044.100098  6100.600098  6044.100098  6089.799805  6089.799805   \n",
       "2006-04-20  6089.799805  6113.399902  6074.200195  6081.399902  6081.399902   \n",
       "...                 ...          ...          ...          ...          ...   \n",
       "2023-04-24  7914.100098  7927.100098  7877.600098  7912.200195  7912.200195   \n",
       "2023-04-25  7912.200195  7912.500000  7863.899902  7891.100098  7891.100098   \n",
       "2023-04-26  7891.100098  7894.000000  7825.899902  7852.600098  7852.600098   \n",
       "2023-04-27  7852.600098  7865.700195  7816.799805  7831.600098  7831.600098   \n",
       "2023-04-28  7831.600098  7870.600098  7791.600098  7870.600098  7870.600098   \n",
       "\n",
       "                Volume   Name  \n",
       "Date                           \n",
       "2006-04-12  1851945400  ^FTSE  \n",
       "2006-04-13  1300431500  ^FTSE  \n",
       "2006-04-18  1389246900  ^FTSE  \n",
       "2006-04-19  1703340700  ^FTSE  \n",
       "2006-04-20  2029861700  ^FTSE  \n",
       "...                ...    ...  \n",
       "2023-04-24   724845900  ^FTSE  \n",
       "2023-04-25   657900800  ^FTSE  \n",
       "2023-04-26   902747300  ^FTSE  \n",
       "2023-04-27   669734300  ^FTSE  \n",
       "2023-04-28   945273500  ^FTSE  \n",
       "\n",
       "[4304 rows x 7 columns]"
      ]
     },
     "execution_count": 17,
     "metadata": {},
     "output_type": "execute_result"
    }
   ],
   "source": [
    "price_stocks_df[(price_stocks_df['Name'] == '^FTSE') & (price_stocks_df.index >= '2006-04-12')]"
   ]
  },
  {
   "cell_type": "code",
   "execution_count": null,
   "id": "f2b8e1a0",
   "metadata": {},
   "outputs": [],
   "source": []
  },
  {
   "cell_type": "code",
   "execution_count": 11,
   "id": "912dacd3",
   "metadata": {
    "ExecuteTime": {
     "end_time": "2023-07-06T18:37:45.418063Z",
     "start_time": "2023-07-06T18:37:45.399142Z"
    }
   },
   "outputs": [
    {
     "data": {
      "text/html": [
       "<div>\n",
       "<style scoped>\n",
       "    .dataframe tbody tr th:only-of-type {\n",
       "        vertical-align: middle;\n",
       "    }\n",
       "\n",
       "    .dataframe tbody tr th {\n",
       "        vertical-align: top;\n",
       "    }\n",
       "\n",
       "    .dataframe thead th {\n",
       "        text-align: right;\n",
       "    }\n",
       "</style>\n",
       "<table border=\"1\" class=\"dataframe\">\n",
       "  <thead>\n",
       "    <tr style=\"text-align: right;\">\n",
       "      <th></th>\n",
       "      <th>Open</th>\n",
       "      <th>High</th>\n",
       "      <th>Low</th>\n",
       "      <th>Close</th>\n",
       "      <th>Adj Close</th>\n",
       "      <th>Volume</th>\n",
       "      <th>Name</th>\n",
       "    </tr>\n",
       "    <tr>\n",
       "      <th>Date</th>\n",
       "      <th></th>\n",
       "      <th></th>\n",
       "      <th></th>\n",
       "      <th></th>\n",
       "      <th></th>\n",
       "      <th></th>\n",
       "      <th></th>\n",
       "    </tr>\n",
       "  </thead>\n",
       "  <tbody>\n",
       "    <tr>\n",
       "      <th>2023-04-24</th>\n",
       "      <td>4132.069824</td>\n",
       "      <td>4142.410156</td>\n",
       "      <td>4117.770020</td>\n",
       "      <td>4137.040039</td>\n",
       "      <td>4137.040039</td>\n",
       "      <td>3290940000</td>\n",
       "      <td>^GSPC</td>\n",
       "    </tr>\n",
       "    <tr>\n",
       "      <th>2023-04-25</th>\n",
       "      <td>4126.430176</td>\n",
       "      <td>4126.430176</td>\n",
       "      <td>4071.379883</td>\n",
       "      <td>4071.629883</td>\n",
       "      <td>4071.629883</td>\n",
       "      <td>3978640000</td>\n",
       "      <td>^GSPC</td>\n",
       "    </tr>\n",
       "    <tr>\n",
       "      <th>2023-04-26</th>\n",
       "      <td>4087.780029</td>\n",
       "      <td>4089.669922</td>\n",
       "      <td>4049.350098</td>\n",
       "      <td>4055.989990</td>\n",
       "      <td>4055.989990</td>\n",
       "      <td>3837030000</td>\n",
       "      <td>^GSPC</td>\n",
       "    </tr>\n",
       "    <tr>\n",
       "      <th>2023-04-27</th>\n",
       "      <td>4075.290039</td>\n",
       "      <td>4138.240234</td>\n",
       "      <td>4075.290039</td>\n",
       "      <td>4135.350098</td>\n",
       "      <td>4135.350098</td>\n",
       "      <td>3750550000</td>\n",
       "      <td>^GSPC</td>\n",
       "    </tr>\n",
       "    <tr>\n",
       "      <th>2023-04-28</th>\n",
       "      <td>4129.629883</td>\n",
       "      <td>4170.060059</td>\n",
       "      <td>4127.180176</td>\n",
       "      <td>4169.479980</td>\n",
       "      <td>4169.479980</td>\n",
       "      <td>4087800000</td>\n",
       "      <td>^GSPC</td>\n",
       "    </tr>\n",
       "  </tbody>\n",
       "</table>\n",
       "</div>"
      ],
      "text/plain": [
       "                   Open         High          Low        Close    Adj Close  \\\n",
       "Date                                                                          \n",
       "2023-04-24  4132.069824  4142.410156  4117.770020  4137.040039  4137.040039   \n",
       "2023-04-25  4126.430176  4126.430176  4071.379883  4071.629883  4071.629883   \n",
       "2023-04-26  4087.780029  4089.669922  4049.350098  4055.989990  4055.989990   \n",
       "2023-04-27  4075.290039  4138.240234  4075.290039  4135.350098  4135.350098   \n",
       "2023-04-28  4129.629883  4170.060059  4127.180176  4169.479980  4169.479980   \n",
       "\n",
       "                Volume   Name  \n",
       "Date                           \n",
       "2023-04-24  3290940000  ^GSPC  \n",
       "2023-04-25  3978640000  ^GSPC  \n",
       "2023-04-26  3837030000  ^GSPC  \n",
       "2023-04-27  3750550000  ^GSPC  \n",
       "2023-04-28  4087800000  ^GSPC  "
      ]
     },
     "execution_count": 11,
     "metadata": {},
     "output_type": "execute_result"
    }
   ],
   "source": [
    "price_stocks_df.tail()"
   ]
  }
 ],
 "metadata": {
  "kernelspec": {
   "display_name": "Python 3 (ipykernel)",
   "language": "python",
   "name": "python3"
  },
  "language_info": {
   "codemirror_mode": {
    "name": "ipython",
    "version": 3
   },
   "file_extension": ".py",
   "mimetype": "text/x-python",
   "name": "python",
   "nbconvert_exporter": "python",
   "pygments_lexer": "ipython3",
   "version": "3.11.3"
  },
  "toc": {
   "base_numbering": 1,
   "nav_menu": {},
   "number_sections": true,
   "sideBar": true,
   "skip_h1_title": false,
   "title_cell": "Table of Contents",
   "title_sidebar": "Contents",
   "toc_cell": true,
   "toc_position": {},
   "toc_section_display": true,
   "toc_window_display": false
  }
 },
 "nbformat": 4,
 "nbformat_minor": 5
}
