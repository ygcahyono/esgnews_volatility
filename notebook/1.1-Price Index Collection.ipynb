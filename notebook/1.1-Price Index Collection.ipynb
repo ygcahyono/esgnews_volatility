{
 "cells": [
  {
   "cell_type": "markdown",
   "id": "ce15f65c",
   "metadata": {
    "toc": true
   },
   "source": [
    "<h1>Table of Contents<span class=\"tocSkip\"></span></h1>\n",
    "<div class=\"toc\"><ul class=\"toc-item\"></ul></div>"
   ]
  },
  {
   "cell_type": "code",
   "execution_count": 1,
   "id": "afc4b7d3",
   "metadata": {
    "ExecuteTime": {
     "end_time": "2023-07-06T13:00:12.324810Z",
     "start_time": "2023-07-06T13:00:11.840585Z"
    }
   },
   "outputs": [],
   "source": [
    "import yfinance as yf\n",
    "import time\n",
    "import pandas as pd"
   ]
  },
  {
   "cell_type": "code",
   "execution_count": 2,
   "id": "66362047",
   "metadata": {
    "ExecuteTime": {
     "end_time": "2023-07-06T13:00:12.804064Z",
     "start_time": "2023-07-06T13:00:12.325890Z"
    }
   },
   "outputs": [
    {
     "name": "stdout",
     "output_type": "stream",
     "text": [
      "total days:  6267\n"
     ]
    },
    {
     "name": "stderr",
     "output_type": "stream",
     "text": [
      "/var/folders/hf/0mp7k_vd30z8kr8nkwwh037m0000gn/T/ipykernel_70866/2949894979.py:22: FutureWarning: The frame.append method is deprecated and will be removed from pandas in a future version. Use pandas.concat instead.\n",
      "  price_stocks_df = price_stocks_df.append(stock,sort=False)\n"
     ]
    },
    {
     "name": "stdout",
     "output_type": "stream",
     "text": [
      "\n",
      "total time:  0.007917499542236328  minutes\n"
     ]
    },
    {
     "name": "stderr",
     "output_type": "stream",
     "text": [
      "/var/folders/hf/0mp7k_vd30z8kr8nkwwh037m0000gn/T/ipykernel_70866/2949894979.py:22: FutureWarning: The frame.append method is deprecated and will be removed from pandas in a future version. Use pandas.concat instead.\n",
      "  price_stocks_df = price_stocks_df.append(stock,sort=False)\n"
     ]
    }
   ],
   "source": [
    "tickers = ['^FTSE', '^GSPC']\n",
    "t0 = time.time()\n",
    "start = pd.to_datetime('20060101',format='%Y%m%d')\n",
    "end = pd.to_datetime('20230228',format='%Y%m%d')\n",
    "days = (end-start).days\n",
    "print('total days: ', days)\n",
    "\n",
    "# create empty dataframe\n",
    "price_stocks_df = pd.DataFrame()\n",
    "delisted_stock = []\n",
    "\n",
    "# iterate over each symbol\n",
    "for i in tickers:\n",
    "    # print( str(top50_firms.index(i)) + str(' : ') + i, sep=',', end=',', flush=True)\n",
    "    try:\n",
    "        stock = []\n",
    "        stock = yf.download(i, start=start, end=end, progress=False)\n",
    "        if len(stock)==0:\n",
    "            delisted_stock.append(i)\n",
    "        else:\n",
    "            stock['Name']=i\n",
    "            price_stocks_df = price_stocks_df.append(stock,sort=False)\n",
    "    except Exception:\n",
    "        None\n",
    "        \n",
    "t1 = time.time()\n",
    "total = t1-t0\n",
    "print('\\ntotal time: ', total/60, ' minutes')"
   ]
  },
  {
   "cell_type": "code",
   "execution_count": 4,
   "id": "1fef9d00",
   "metadata": {
    "ExecuteTime": {
     "end_time": "2023-07-06T13:00:20.019253Z",
     "start_time": "2023-07-06T13:00:19.998633Z"
    }
   },
   "outputs": [
    {
     "data": {
      "text/html": [
       "<div>\n",
       "<style scoped>\n",
       "    .dataframe tbody tr th:only-of-type {\n",
       "        vertical-align: middle;\n",
       "    }\n",
       "\n",
       "    .dataframe tbody tr th {\n",
       "        vertical-align: top;\n",
       "    }\n",
       "\n",
       "    .dataframe thead th {\n",
       "        text-align: right;\n",
       "    }\n",
       "</style>\n",
       "<table border=\"1\" class=\"dataframe\">\n",
       "  <thead>\n",
       "    <tr style=\"text-align: right;\">\n",
       "      <th></th>\n",
       "      <th>Open</th>\n",
       "      <th>High</th>\n",
       "      <th>Low</th>\n",
       "      <th>Close</th>\n",
       "      <th>Adj Close</th>\n",
       "      <th>Volume</th>\n",
       "      <th>Name</th>\n",
       "    </tr>\n",
       "    <tr>\n",
       "      <th>Date</th>\n",
       "      <th></th>\n",
       "      <th></th>\n",
       "      <th></th>\n",
       "      <th></th>\n",
       "      <th></th>\n",
       "      <th></th>\n",
       "      <th></th>\n",
       "    </tr>\n",
       "  </thead>\n",
       "  <tbody>\n",
       "    <tr>\n",
       "      <th>2006-01-03</th>\n",
       "      <td>5618.799805</td>\n",
       "      <td>5682.200195</td>\n",
       "      <td>5618.799805</td>\n",
       "      <td>5681.500000</td>\n",
       "      <td>5681.500000</td>\n",
       "      <td>1838004900</td>\n",
       "      <td>^FTSE</td>\n",
       "    </tr>\n",
       "    <tr>\n",
       "      <th>2006-01-04</th>\n",
       "      <td>5681.500000</td>\n",
       "      <td>5716.399902</td>\n",
       "      <td>5681.500000</td>\n",
       "      <td>5714.600098</td>\n",
       "      <td>5714.600098</td>\n",
       "      <td>2005345100</td>\n",
       "      <td>^FTSE</td>\n",
       "    </tr>\n",
       "    <tr>\n",
       "      <th>2006-01-05</th>\n",
       "      <td>5714.600098</td>\n",
       "      <td>5722.399902</td>\n",
       "      <td>5686.399902</td>\n",
       "      <td>5691.200195</td>\n",
       "      <td>5691.200195</td>\n",
       "      <td>1862546800</td>\n",
       "      <td>^FTSE</td>\n",
       "    </tr>\n",
       "    <tr>\n",
       "      <th>2006-01-06</th>\n",
       "      <td>5691.200195</td>\n",
       "      <td>5731.799805</td>\n",
       "      <td>5691.200195</td>\n",
       "      <td>5731.799805</td>\n",
       "      <td>5731.799805</td>\n",
       "      <td>1894952000</td>\n",
       "      <td>^FTSE</td>\n",
       "    </tr>\n",
       "    <tr>\n",
       "      <th>2006-01-09</th>\n",
       "      <td>5731.799805</td>\n",
       "      <td>5750.299805</td>\n",
       "      <td>5725.899902</td>\n",
       "      <td>5731.500000</td>\n",
       "      <td>5731.500000</td>\n",
       "      <td>1690826300</td>\n",
       "      <td>^FTSE</td>\n",
       "    </tr>\n",
       "    <tr>\n",
       "      <th>...</th>\n",
       "      <td>...</td>\n",
       "      <td>...</td>\n",
       "      <td>...</td>\n",
       "      <td>...</td>\n",
       "      <td>...</td>\n",
       "      <td>...</td>\n",
       "      <td>...</td>\n",
       "    </tr>\n",
       "    <tr>\n",
       "      <th>2023-02-21</th>\n",
       "      <td>4052.350098</td>\n",
       "      <td>4052.350098</td>\n",
       "      <td>3995.189941</td>\n",
       "      <td>3997.340088</td>\n",
       "      <td>3997.340088</td>\n",
       "      <td>4121590000</td>\n",
       "      <td>^GSPC</td>\n",
       "    </tr>\n",
       "    <tr>\n",
       "      <th>2023-02-22</th>\n",
       "      <td>4001.830078</td>\n",
       "      <td>4017.370117</td>\n",
       "      <td>3976.899902</td>\n",
       "      <td>3991.050049</td>\n",
       "      <td>3991.050049</td>\n",
       "      <td>4079320000</td>\n",
       "      <td>^GSPC</td>\n",
       "    </tr>\n",
       "    <tr>\n",
       "      <th>2023-02-23</th>\n",
       "      <td>4018.600098</td>\n",
       "      <td>4028.300049</td>\n",
       "      <td>3969.189941</td>\n",
       "      <td>4012.320068</td>\n",
       "      <td>4012.320068</td>\n",
       "      <td>3952940000</td>\n",
       "      <td>^GSPC</td>\n",
       "    </tr>\n",
       "    <tr>\n",
       "      <th>2023-02-24</th>\n",
       "      <td>3973.239990</td>\n",
       "      <td>3978.250000</td>\n",
       "      <td>3943.080078</td>\n",
       "      <td>3970.040039</td>\n",
       "      <td>3970.040039</td>\n",
       "      <td>3877700000</td>\n",
       "      <td>^GSPC</td>\n",
       "    </tr>\n",
       "    <tr>\n",
       "      <th>2023-02-27</th>\n",
       "      <td>3992.360107</td>\n",
       "      <td>4018.050049</td>\n",
       "      <td>3973.550049</td>\n",
       "      <td>3982.239990</td>\n",
       "      <td>3982.239990</td>\n",
       "      <td>3836950000</td>\n",
       "      <td>^GSPC</td>\n",
       "    </tr>\n",
       "  </tbody>\n",
       "</table>\n",
       "<p>8650 rows × 7 columns</p>\n",
       "</div>"
      ],
      "text/plain": [
       "                   Open         High          Low        Close    Adj Close  \\\n",
       "Date                                                                          \n",
       "2006-01-03  5618.799805  5682.200195  5618.799805  5681.500000  5681.500000   \n",
       "2006-01-04  5681.500000  5716.399902  5681.500000  5714.600098  5714.600098   \n",
       "2006-01-05  5714.600098  5722.399902  5686.399902  5691.200195  5691.200195   \n",
       "2006-01-06  5691.200195  5731.799805  5691.200195  5731.799805  5731.799805   \n",
       "2006-01-09  5731.799805  5750.299805  5725.899902  5731.500000  5731.500000   \n",
       "...                 ...          ...          ...          ...          ...   \n",
       "2023-02-21  4052.350098  4052.350098  3995.189941  3997.340088  3997.340088   \n",
       "2023-02-22  4001.830078  4017.370117  3976.899902  3991.050049  3991.050049   \n",
       "2023-02-23  4018.600098  4028.300049  3969.189941  4012.320068  4012.320068   \n",
       "2023-02-24  3973.239990  3978.250000  3943.080078  3970.040039  3970.040039   \n",
       "2023-02-27  3992.360107  4018.050049  3973.550049  3982.239990  3982.239990   \n",
       "\n",
       "                Volume   Name  \n",
       "Date                           \n",
       "2006-01-03  1838004900  ^FTSE  \n",
       "2006-01-04  2005345100  ^FTSE  \n",
       "2006-01-05  1862546800  ^FTSE  \n",
       "2006-01-06  1894952000  ^FTSE  \n",
       "2006-01-09  1690826300  ^FTSE  \n",
       "...                ...    ...  \n",
       "2023-02-21  4121590000  ^GSPC  \n",
       "2023-02-22  4079320000  ^GSPC  \n",
       "2023-02-23  3952940000  ^GSPC  \n",
       "2023-02-24  3877700000  ^GSPC  \n",
       "2023-02-27  3836950000  ^GSPC  \n",
       "\n",
       "[8650 rows x 7 columns]"
      ]
     },
     "execution_count": 4,
     "metadata": {},
     "output_type": "execute_result"
    }
   ],
   "source": [
    "price_stocks_df.to_csv('%%file')"
   ]
  }
 ],
 "metadata": {
  "kernelspec": {
   "display_name": "Python 3 (ipykernel)",
   "language": "python",
   "name": "python3"
  },
  "language_info": {
   "codemirror_mode": {
    "name": "ipython",
    "version": 3
   },
   "file_extension": ".py",
   "mimetype": "text/x-python",
   "name": "python",
   "nbconvert_exporter": "python",
   "pygments_lexer": "ipython3",
   "version": "3.11.3"
  },
  "toc": {
   "base_numbering": 1,
   "nav_menu": {},
   "number_sections": true,
   "sideBar": true,
   "skip_h1_title": false,
   "title_cell": "Table of Contents",
   "title_sidebar": "Contents",
   "toc_cell": true,
   "toc_position": {},
   "toc_section_display": true,
   "toc_window_display": false
  }
 },
 "nbformat": 4,
 "nbformat_minor": 5
}
