{
 "cells": [
  {
   "cell_type": "code",
   "execution_count": 8,
   "id": "b42c0b98-14fa-4269-93ff-a8c7d3551656",
   "metadata": {},
   "outputs": [],
   "source": [
    "import os\n",
    "import glob\n",
    "import pickle\n",
    "from datetime import datetime\n",
    "from pathlib import Path\n",
    "from tqdm import tqdm\n",
    "import numpy as np\n",
    "import pandas as pd\n",
    "import pandas.api.types as ptypes\n",
    "import matplotlib.pyplot as plt\n",
    "from sklearn.preprocessing import QuantileTransformer, LabelEncoder, StandardScaler, MinMaxScaler"
   ]
  },
  {
   "cell_type": "code",
   "execution_count": 19,
   "id": "a715c1ab-256e-476b-bbb0-f279c1622b05",
   "metadata": {},
   "outputs": [],
   "source": [
    "data_path = os.path.abspath('../Data/')\n",
    "# set parent directory as the output path\n",
    "output_path = Path(data_path).parent.absolute()"
   ]
  },
  {
   "cell_type": "code",
   "execution_count": 10,
   "id": "00bc9909-e2d8-4fb4-aec8-bfc3c01b6ce2",
   "metadata": {},
   "outputs": [],
   "source": [
    "# No records will be considered outside these bounds\n",
    "start_date = datetime(2013, 7, 1)\n",
    "end_date = datetime(2017, 4, 1)\n",
    "\n",
    "# Where training period ends and the validation period begins\n",
    "validation_bound = datetime(2016, 7, 1)"
   ]
  },
  {
   "cell_type": "code",
   "execution_count": 11,
   "id": "6618d30a-87ac-4205-ba20-b0b19abe0d36",
   "metadata": {},
   "outputs": [],
   "source": [
    "history_len = 90  # historical scope in time-steps\n",
    "future_len = 30  # futuristic scope in time-steps"
   ]
  },
  {
   "cell_type": "code",
   "execution_count": 12,
   "id": "145770bc-1cad-4e75-af6e-4c7e08e6ae6e",
   "metadata": {},
   "outputs": [],
   "source": [
    "samp_interval = 5  # time-steps"
   ]
  },
  {
   "cell_type": "code",
   "execution_count": 13,
   "id": "d7a5df8e-2f39-4435-878a-7ac6acb436dc",
   "metadata": {},
   "outputs": [],
   "source": [
    "# These are the variables that are known in advance, and will compose the futuristic time-series\n",
    "known_attrs = ['onpromotion',\n",
    "               'day_of_week',\n",
    "               'day_of_month',\n",
    "               'month',\n",
    "               'national_holiday',\n",
    "               'regional_holiday',\n",
    "               'local_holiday',\n",
    "               'open'\n",
    "               ]\n",
    "\n",
    "# The following set of variables will be considered as static, i.e. containing non-temporal information\n",
    "# every attribute which is not listed here will be considered as temporal.\n",
    "static_attrs = ['item_nbr',\n",
    "                'store_nbr',\n",
    "                'city',\n",
    "                'state',\n",
    "                'store_type',\n",
    "                'store_cluster',\n",
    "                'item_family',\n",
    "                'item_class',\n",
    "                'perishable',\n",
    "                ]\n",
    "\n",
    "# The following set of variables will be considered as categorical.\n",
    "# The rest of the variables (which are not listed below) will be considered as numeric.\n",
    "categorical_attrs = ['item_nbr',\n",
    "                     'store_nbr',\n",
    "                     'city',\n",
    "                     'state',\n",
    "                     'store_type',\n",
    "                     'store_cluster',\n",
    "                     'item_family',\n",
    "                     'item_class',\n",
    "                     'perishable',\n",
    "                     'onpromotion',\n",
    "                     'open',\n",
    "                     'day_of_week',\n",
    "                     'month',\n",
    "                     'national_holiday',\n",
    "                     'regional_holiday',\n",
    "                     'local_holiday',\n",
    "                     ]"
   ]
  },
  {
   "cell_type": "code",
   "execution_count": 14,
   "id": "ccce3106-a15d-4a71-830b-e4e75eaaabbf",
   "metadata": {},
   "outputs": [],
   "source": [
    "target_signal = 'log_sales'"
   ]
  },
  {
   "cell_type": "code",
   "execution_count": 15,
   "id": "c275599a-0fd3-4d2c-af9a-616c5e3bea33",
   "metadata": {},
   "outputs": [],
   "source": [
    "# these will not be included as part of the input data which will end up feeding the model\n",
    "meta_attrs = ['date', 'combination_id', 'temporal_id', 'unit_sales']"
   ]
  },
  {
   "cell_type": "code",
   "execution_count": 20,
   "id": "813e8585-6d5e-48bd-bed8-4ffee87678e8",
   "metadata": {},
   "outputs": [
    {
     "name": "stdout",
     "output_type": "stream",
     "text": [
      "['sample_submission.csv', 'transactions.csv', 'oil.csv', 'test.csv', 'items.csv', 'train.csv', 'holidays_events.csv', 'stores.csv']\n"
     ]
    }
   ],
   "source": [
    "file_names = [os.path.basename(f) for f in glob.glob(os.path.join(data_path, '*.{}'.format('csv')))]\n",
    "print(file_names)"
   ]
  },
  {
   "cell_type": "code",
   "execution_count": 21,
   "id": "e2a7bebe-570e-45ba-9b59-b467c162dfd7",
   "metadata": {},
   "outputs": [],
   "source": [
    "transactions_df = pd.read_csv(os.path.join(data_path, 'transactions.csv'), parse_dates=['date'],\n",
    "                              infer_datetime_format=True)\n",
    "items_df = pd.read_csv(os.path.join(data_path, 'items.csv'), index_col='item_nbr')\n",
    "oil_df = pd.read_csv(os.path.join(data_path, 'oil.csv'), parse_dates=['date'], infer_datetime_format=True,\n",
    "                     index_col='date')\n",
    "holiday_df = pd.read_csv(os.path.join(data_path, 'holidays_events.csv'), parse_dates=['date'],\n",
    "                         infer_datetime_format=True,\n",
    "                         dtype={'transferred': bool})\n",
    "stores_df = pd.read_csv(os.path.join(data_path, 'stores.csv'), index_col='store_nbr')\n",
    "\n",
    "data_df = pd.read_csv(os.path.join(data_path, 'train.csv'),\n",
    "                      dtype={'onpromotion': object},\n",
    "                      index_col='id',\n",
    "                      parse_dates=['date'], infer_datetime_format=True)\n",
    "# we will not use the test data in this demonstration -\n",
    "# the entire dataset will be created using the 'train.csv' file.\n",
    "test_df = pd.read_csv(os.path.join(data_path, 'test.csv'),\n",
    "                      index_col='id',\n",
    "                      parse_dates=['date'], infer_datetime_format=True)"
   ]
  },
  {
   "cell_type": "code",
   "execution_count": 22,
   "id": "fa6175bd-0357-411b-a382-0905da1fa7a0",
   "metadata": {},
   "outputs": [],
   "source": [
    "if ptypes.is_object_dtype(data_df['onpromotion']):\n",
    "    data_df['onpromotion'] = data_df['onpromotion'] == 'True'"
   ]
  },
  {
   "cell_type": "code",
   "execution_count": 23,
   "id": "511b4a96-bb71-40cb-a68f-d3ef7362be9f",
   "metadata": {},
   "outputs": [],
   "source": [
    "stores_df.rename(columns={'type': 'store_type', 'cluster': 'store_cluster'}, inplace=True)\n",
    "items_df.rename(columns={'class': 'item_class', 'family': 'item_family'}, inplace=True)\n",
    "oil_df.rename(columns={'dcoilwtico': 'oil_price'}, inplace=True)\n",
    "holiday_df.rename(columns={'type': 'holiday_type'}, inplace=True)"
   ]
  },
  {
   "cell_type": "code",
   "execution_count": 24,
   "id": "8accb96b-0373-4370-8d96-71437fd64f52",
   "metadata": {},
   "outputs": [],
   "source": [
    "# Lose the null records on the raw dataframe representing oil prices\n",
    "oil_df = oil_df.loc[~oil_df.oil_price.isna()]\n",
    "oil_df = oil_df.resample('1d').ffill().reset_index()"
   ]
  },
  {
   "cell_type": "code",
   "execution_count": 25,
   "id": "38a9edfb-c7b8-4df2-92de-c3d7f77fa270",
   "metadata": {},
   "outputs": [],
   "source": [
    "data_df = data_df.loc[(data_df['date'] >= start_date) & (data_df['date'] <= end_date)]"
   ]
  },
  {
   "cell_type": "code",
   "execution_count": 26,
   "id": "d8398159-15fa-4a7f-85e6-72a30899d03f",
   "metadata": {},
   "outputs": [],
   "source": [
    "data_df = data_df.assign(combination_id=data_df['store_nbr'].apply(str) + '_' + data_df['item_nbr'].apply(str))\n",
    "# another index can be used to identify the unique combination of (store,product,date)\n",
    "data_df = data_df.assign(temporal_id=data_df['combination_id'] + '_' + data_df['date'].dt.strftime('%Y-%m-%d'))"
   ]
  },
  {
   "cell_type": "code",
   "execution_count": 27,
   "id": "b39f2003-e16e-4183-b575-07089f93cda6",
   "metadata": {},
   "outputs": [],
   "source": [
    "# for each combination, we calculate the minimal unit_sales value\n",
    "min_sales = data_df.groupby('combination_id', as_index=False)['unit_sales'].min()\n",
    "# keep only combination with non-negative sales.\n",
    "data_df = data_df.loc[data_df['combination_id'].isin(min_sales.loc[min_sales.unit_sales >= 0, 'combination_id'])]"
   ]
  },
  {
   "cell_type": "code",
   "execution_count": 28,
   "id": "d437d079-d5e3-443c-a9a8-c5ff0169a74b",
   "metadata": {},
   "outputs": [],
   "source": [
    "# mark all the existing records as days in which the relevant stores were open\n",
    "data_df = data_df.assign(open=1)"
   ]
  },
  {
   "cell_type": "code",
   "execution_count": null,
   "id": "eea6b49c-50bd-416e-bf1f-1c1b416daf7f",
   "metadata": {},
   "outputs": [
    {
     "name": "stderr",
     "output_type": "stream",
     "text": [
      " 95%|█████████▍| 152143/160686 [09:34<00:31, 275.43it/s]"
     ]
    }
   ],
   "source": [
    "sequence_per_combination = []  # a list to contain all the resampled sequences\n",
    "\n",
    "# for each combination\n",
    "for comb_id, comb_df in tqdm(data_df.groupby('combination_id')):\n",
    "    resamp_seq = comb_df.copy()\n",
    "    resamp_seq = resamp_seq.set_index('date').resample('1d').last().reset_index()\n",
    "\n",
    "    resamp_seq['log_sales'] = np.log10(1 + resamp_seq['unit_sales'])\n",
    "    # newly generated records are assumed to be days in which the store was not open\n",
    "    resamp_seq['open'] = resamp_seq['open'].fillna(0)\n",
    "    # pad with the corresponding information according to the previously available record\n",
    "    for col in ['store_nbr', 'item_nbr', 'onpromotion']:\n",
    "        resamp_seq[col] = resamp_seq[col].fillna(method='ffill')\n",
    "\n",
    "    sequence_per_combination.append(resamp_seq)\n",
    "\n",
    "# combine all the resampled sequences\n",
    "data_df = pd.concat(sequence_per_combination, axis=0)"
   ]
  },
  {
   "cell_type": "code",
   "execution_count": 2,
   "id": "c8f65022-1b8c-4a90-a927-ad016c274939",
   "metadata": {},
   "outputs": [
    {
     "ename": "NameError",
     "evalue": "name 'data_df' is not defined",
     "output_type": "error",
     "traceback": [
      "\u001b[0;31m---------------------------------------------------------------------------\u001b[0m",
      "\u001b[0;31mNameError\u001b[0m                                 Traceback (most recent call last)",
      "Cell \u001b[0;32mIn [2], line 1\u001b[0m\n\u001b[0;32m----> 1\u001b[0m data_df \u001b[38;5;241m=\u001b[39m \u001b[43mdata_df\u001b[49m\u001b[38;5;241m.\u001b[39mmerge(transactions_df, how\u001b[38;5;241m=\u001b[39m\u001b[38;5;124m'\u001b[39m\u001b[38;5;124mleft\u001b[39m\u001b[38;5;124m'\u001b[39m, on\u001b[38;5;241m=\u001b[39m[\u001b[38;5;124m'\u001b[39m\u001b[38;5;124mdate\u001b[39m\u001b[38;5;124m'\u001b[39m, \u001b[38;5;124m'\u001b[39m\u001b[38;5;124mstore_nbr\u001b[39m\u001b[38;5;124m'\u001b[39m])\n\u001b[1;32m      2\u001b[0m data_df[\u001b[38;5;124m'\u001b[39m\u001b[38;5;124mtransactions\u001b[39m\u001b[38;5;124m'\u001b[39m] \u001b[38;5;241m=\u001b[39m data_df[\u001b[38;5;124m'\u001b[39m\u001b[38;5;124mtransactions\u001b[39m\u001b[38;5;124m'\u001b[39m]\u001b[38;5;241m.\u001b[39mfillna(\u001b[38;5;241m-\u001b[39m\u001b[38;5;241m1\u001b[39m)\n\u001b[1;32m      4\u001b[0m data_df \u001b[38;5;241m=\u001b[39m data_df\u001b[38;5;241m.\u001b[39mmerge(oil_df, on\u001b[38;5;241m=\u001b[39m\u001b[38;5;124m'\u001b[39m\u001b[38;5;124mdate\u001b[39m\u001b[38;5;124m'\u001b[39m, how\u001b[38;5;241m=\u001b[39m\u001b[38;5;124m'\u001b[39m\u001b[38;5;124mleft\u001b[39m\u001b[38;5;124m'\u001b[39m)\n",
      "\u001b[0;31mNameError\u001b[0m: name 'data_df' is not defined"
     ]
    }
   ],
   "source": [
    "data_df = data_df.merge(transactions_df, how='left', on=['date', 'store_nbr'])\n",
    "data_df['transactions'] = data_df['transactions'].fillna(-1)\n",
    "\n",
    "data_df = data_df.merge(oil_df, on='date', how='left')"
   ]
  },
  {
   "cell_type": "code",
   "execution_count": null,
   "id": "a491d3b9-f16b-45b0-8d28-aaf2edbca663",
   "metadata": {},
   "outputs": [],
   "source": [
    "all_cols = list(data_df.columns)\n",
    "feature_cols = [col for col in all_cols if col not in meta_attrs]"
   ]
  }
 ],
 "metadata": {
  "kernelspec": {
   "display_name": "Python 3 (ipykernel)",
   "language": "python",
   "name": "python3"
  },
  "language_info": {
   "codemirror_mode": {
    "name": "ipython",
    "version": 3
   },
   "file_extension": ".py",
   "mimetype": "text/x-python",
   "name": "python",
   "nbconvert_exporter": "python",
   "pygments_lexer": "ipython3",
   "version": "3.9.16"
  }
 },
 "nbformat": 4,
 "nbformat_minor": 5
}
