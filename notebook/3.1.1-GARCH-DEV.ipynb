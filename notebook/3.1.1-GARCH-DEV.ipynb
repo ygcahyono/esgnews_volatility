{
 "cells": [
  {
   "cell_type": "markdown",
   "id": "2d6526b6",
   "metadata": {
    "toc": true
   },
   "source": [
    "<h1>Table of Contents<span class=\"tocSkip\"></span></h1>\n",
    "<div class=\"toc\"><ul class=\"toc-item\"><li><span><a href=\"#Import-Packages\" data-toc-modified-id=\"Import-Packages-1\"><span class=\"toc-item-num\">1&nbsp;&nbsp;</span>Import Packages</a></span></li><li><span><a href=\"#Data-Processing\" data-toc-modified-id=\"Data-Processing-2\"><span class=\"toc-item-num\">2&nbsp;&nbsp;</span>Data Processing</a></span></li><li><span><a href=\"#Modeling\" data-toc-modified-id=\"Modeling-3\"><span class=\"toc-item-num\">3&nbsp;&nbsp;</span>Modeling</a></span></li><li><span><a href=\"#Results\" data-toc-modified-id=\"Results-4\"><span class=\"toc-item-num\">4&nbsp;&nbsp;</span>Results</a></span><ul class=\"toc-item\"><li><span><a href=\"#24MONTH-NO-CAP\" data-toc-modified-id=\"24MONTH-NO-CAP-4.1\"><span class=\"toc-item-num\">4.1&nbsp;&nbsp;</span>24MONTH NO CAP</a></span></li><li><span><a href=\"#24MONTH-WITH-CAP\" data-toc-modified-id=\"24MONTH-WITH-CAP-4.2\"><span class=\"toc-item-num\">4.2&nbsp;&nbsp;</span>24MONTH WITH CAP</a></span></li><li><span><a href=\"#36MONTH-NO-CAP\" data-toc-modified-id=\"36MONTH-NO-CAP-4.3\"><span class=\"toc-item-num\">4.3&nbsp;&nbsp;</span>36MONTH NO CAP</a></span></li><li><span><a href=\"#36MONTH-WITH-CAP\" data-toc-modified-id=\"36MONTH-WITH-CAP-4.4\"><span class=\"toc-item-num\">4.4&nbsp;&nbsp;</span>36MONTH WITH CAP</a></span></li></ul></li><li><span><a href=\"#Test-Result-Predictions\" data-toc-modified-id=\"Test-Result-Predictions-5\"><span class=\"toc-item-num\">5&nbsp;&nbsp;</span>Test Result Predictions</a></span></li></ul></div>"
   ]
  },
  {
   "cell_type": "markdown",
   "id": "0652ecb2-8ac7-4c69-a698-a77e471e5502",
   "metadata": {},
   "source": [
    "# Import Packages"
   ]
  },
  {
   "cell_type": "code",
   "execution_count": 4,
   "id": "bebbbe7d",
   "metadata": {
    "ExecuteTime": {
     "end_time": "2023-07-20T00:52:10.387099Z",
     "start_time": "2023-07-20T00:52:10.383373Z"
    }
   },
   "outputs": [],
   "source": [
    "from arch import arch_model"
   ]
  },
  {
   "cell_type": "code",
   "execution_count": 1,
   "id": "f44af4a6-5474-4528-a0a2-ed823c877f6e",
   "metadata": {
    "ExecuteTime": {
     "end_time": "2023-07-20T00:48:04.586448Z",
     "start_time": "2023-07-20T00:48:03.345182Z"
    }
   },
   "outputs": [],
   "source": [
    "# Method #1 GARCH Model\n",
    "\n",
    "import sys, os\n",
    "sys.path.append('../python/')\n",
    "\n",
    "from arch import arch_model\n",
    "from statsmodels.graphics.tsaplots import plot_acf, plot_pacf\n",
    "\n",
    "from IPython.display import display, HTML\n",
    "from sklearn.metrics import mean_squared_error\n",
    "from set_params import func_garch_train_test_split, count_train_test\n",
    "import matplotlib.pyplot as plt\n",
    "import numpy as np\n",
    "import pandas as pd\n",
    "import random as rd\n",
    "import warnings\n",
    "\n",
    "def calculate_iqr(values):\n",
    "    # Calculate Q1\n",
    "    Q1 = np.percentile(values, 25)\n",
    "    # Calculate Q3\n",
    "    Q3 = np.percentile(values, 75)\n",
    "    # Calculate IQR\n",
    "    IQR = Q3 - Q1\n",
    "    return IQR\n",
    "\n",
    "def detect_outliers_iqr(values):\n",
    "    # Calculate the IQR of the values\n",
    "    IQR = calculate_iqr(values)\n",
    "    # Calculate Q1 and Q3\n",
    "    Q1 = np.percentile(values, 25)\n",
    "    Q3 = np.percentile(values, 75)\n",
    "    # Define the lower and upper bound for outliers\n",
    "    lower_bound = Q1 - 1.5 * IQR\n",
    "    upper_bound = Q3 + 1.5 * IQR\n",
    "    # Return a boolean array: True if the value is an outlier, False otherwise\n",
    "    return lower_bound, upper_bound\n",
    "\n",
    "\n",
    "# display(HTML(\"<style>.container { width:80% !important; }</style>\"))\n",
    "warnings.filterwarnings('ignore')\n",
    "pd.set_option('display.max_columns', 100)"
   ]
  },
  {
   "cell_type": "markdown",
   "id": "e0684850-8979-4cc6-ae09-bc114096fde4",
   "metadata": {},
   "source": [
    "# Data Processing"
   ]
  },
  {
   "cell_type": "code",
   "execution_count": 3,
   "id": "83501690-64ad-4987-8469-8107934f04eb",
   "metadata": {
    "ExecuteTime": {
     "end_time": "2023-07-19T20:12:44.798548Z",
     "start_time": "2023-07-19T20:12:44.753853Z"
    }
   },
   "outputs": [],
   "source": [
    "base_FTSE_df = pd.read_csv('../data/1.3-FTSE_Monthly_ESG_Volatility_Final_v2.csv')\n",
    "base_FTSE_df = base_FTSE_df.rename(columns={'Date_x':'date_key'})"
   ]
  },
  {
   "cell_type": "code",
   "execution_count": 4,
   "id": "8af45494-a4de-40fb-9475-d005085c89b5",
   "metadata": {
    "ExecuteTime": {
     "end_time": "2023-07-19T20:12:46.251585Z",
     "start_time": "2023-07-19T20:12:46.010803Z"
    }
   },
   "outputs": [],
   "source": [
    "train_df, valid_df, test_df = func_garch_train_test_split(validation = False, \n",
    "                                                    threshold = 24)"
   ]
  },
  {
   "cell_type": "code",
   "execution_count": 5,
   "id": "78960690-1d3f-4008-a540-a6c3883720e8",
   "metadata": {
    "ExecuteTime": {
     "end_time": "2023-07-19T20:12:46.308247Z",
     "start_time": "2023-07-19T20:12:46.252865Z"
    }
   },
   "outputs": [],
   "source": [
    "count_rows_df = count_train_test(train_df, test_df)"
   ]
  },
  {
   "cell_type": "code",
   "execution_count": 6,
   "id": "7802e445-abc9-4f78-8b19-82567edb589c",
   "metadata": {
    "ExecuteTime": {
     "end_time": "2023-07-19T20:12:46.598325Z",
     "start_time": "2023-07-19T20:12:46.362298Z"
    }
   },
   "outputs": [],
   "source": [
    "coverage_df = pd.read_csv('../data/coverage_dataframe.csv')\n",
    "coverage_df.PermID = coverage_df.PermID.astype(int)\n",
    "coverage_df = coverage_df[['PermID', 'Name']]\n",
    "coverage_df = coverage_df.rename(columns={'PermID':'Asset'})"
   ]
  },
  {
   "cell_type": "code",
   "execution_count": 7,
   "id": "ce1faf47-43e7-45f7-bb67-15f08ea161e7",
   "metadata": {
    "ExecuteTime": {
     "end_time": "2023-07-19T20:12:46.611722Z",
     "start_time": "2023-07-19T20:12:46.599538Z"
    }
   },
   "outputs": [],
   "source": [
    "train_df = pd.merge(train_df, coverage_df, how = 'left', on = 'Asset')\n",
    "train_df.index = train_df.month_key"
   ]
  },
  {
   "cell_type": "code",
   "execution_count": 8,
   "id": "ff9e703f-56c7-4972-9a33-3faa2685702a",
   "metadata": {
    "ExecuteTime": {
     "end_time": "2023-07-19T20:12:46.765180Z",
     "start_time": "2023-07-19T20:12:46.751347Z"
    }
   },
   "outputs": [
    {
     "data": {
      "text/html": [
       "<div>\n",
       "<style scoped>\n",
       "    .dataframe tbody tr th:only-of-type {\n",
       "        vertical-align: middle;\n",
       "    }\n",
       "\n",
       "    .dataframe tbody tr th {\n",
       "        vertical-align: top;\n",
       "    }\n",
       "\n",
       "    .dataframe thead th {\n",
       "        text-align: right;\n",
       "    }\n",
       "</style>\n",
       "<table border=\"1\" class=\"dataframe\">\n",
       "  <thead>\n",
       "    <tr style=\"text-align: right;\">\n",
       "      <th></th>\n",
       "      <th>Unnamed: 0</th>\n",
       "      <th>date_key</th>\n",
       "      <th>Asset</th>\n",
       "      <th>Open</th>\n",
       "      <th>High</th>\n",
       "      <th>Low</th>\n",
       "      <th>Close</th>\n",
       "      <th>Return</th>\n",
       "      <th>V^CC</th>\n",
       "      <th>V^RS</th>\n",
       "      <th>V^YZ</th>\n",
       "      <th>month_key</th>\n",
       "      <th>buzz</th>\n",
       "      <th>ESG</th>\n",
       "      <th>ESGCombined</th>\n",
       "      <th>ESGControversies</th>\n",
       "      <th>EnvironmentalPillar</th>\n",
       "      <th>GovernancePillar</th>\n",
       "      <th>SocialPillar</th>\n",
       "      <th>Community</th>\n",
       "      <th>EnvironmentalInnovation</th>\n",
       "      <th>Management</th>\n",
       "      <th>ProductResponsibility</th>\n",
       "      <th>Shareholders</th>\n",
       "      <th>Workforce</th>\n",
       "      <th>Name</th>\n",
       "    </tr>\n",
       "    <tr>\n",
       "      <th>month_key</th>\n",
       "      <th></th>\n",
       "      <th></th>\n",
       "      <th></th>\n",
       "      <th></th>\n",
       "      <th></th>\n",
       "      <th></th>\n",
       "      <th></th>\n",
       "      <th></th>\n",
       "      <th></th>\n",
       "      <th></th>\n",
       "      <th></th>\n",
       "      <th></th>\n",
       "      <th></th>\n",
       "      <th></th>\n",
       "      <th></th>\n",
       "      <th></th>\n",
       "      <th></th>\n",
       "      <th></th>\n",
       "      <th></th>\n",
       "      <th></th>\n",
       "      <th></th>\n",
       "      <th></th>\n",
       "      <th></th>\n",
       "      <th></th>\n",
       "      <th></th>\n",
       "      <th></th>\n",
       "    </tr>\n",
       "  </thead>\n",
       "  <tbody>\n",
       "    <tr>\n",
       "      <th>2020-09-01</th>\n",
       "      <td>0</td>\n",
       "      <td>2020-10-30</td>\n",
       "      <td>5042941681</td>\n",
       "      <td>4.933999</td>\n",
       "      <td>4.935000</td>\n",
       "      <td>4.830999</td>\n",
       "      <td>4.847998</td>\n",
       "      <td>-0.018027</td>\n",
       "      <td>0.015260</td>\n",
       "      <td>0.014832</td>\n",
       "      <td>0.016693</td>\n",
       "      <td>2020-09-01</td>\n",
       "      <td>4108.0</td>\n",
       "      <td>75.0</td>\n",
       "      <td>75.0</td>\n",
       "      <td>75.0</td>\n",
       "      <td>64.0</td>\n",
       "      <td>71.0</td>\n",
       "      <td>91.0</td>\n",
       "      <td>100.0</td>\n",
       "      <td>69.0</td>\n",
       "      <td>91.0</td>\n",
       "      <td>97.0</td>\n",
       "      <td>3.0</td>\n",
       "      <td>81.0</td>\n",
       "      <td>B&amp;M European Value Retail SA</td>\n",
       "    </tr>\n",
       "    <tr>\n",
       "      <th>2020-10-01</th>\n",
       "      <td>1</td>\n",
       "      <td>2020-11-30</td>\n",
       "      <td>5042941681</td>\n",
       "      <td>4.742000</td>\n",
       "      <td>4.824998</td>\n",
       "      <td>4.737000</td>\n",
       "      <td>4.778999</td>\n",
       "      <td>0.006105</td>\n",
       "      <td>0.028225</td>\n",
       "      <td>0.025393</td>\n",
       "      <td>0.027841</td>\n",
       "      <td>2020-10-01</td>\n",
       "      <td>4090.5</td>\n",
       "      <td>71.0</td>\n",
       "      <td>71.0</td>\n",
       "      <td>71.0</td>\n",
       "      <td>55.0</td>\n",
       "      <td>69.0</td>\n",
       "      <td>89.0</td>\n",
       "      <td>100.0</td>\n",
       "      <td>66.0</td>\n",
       "      <td>88.0</td>\n",
       "      <td>98.0</td>\n",
       "      <td>4.0</td>\n",
       "      <td>74.0</td>\n",
       "      <td>B&amp;M European Value Retail SA</td>\n",
       "    </tr>\n",
       "  </tbody>\n",
       "</table>\n",
       "</div>"
      ],
      "text/plain": [
       "            Unnamed: 0   date_key       Asset      Open      High       Low  \\\n",
       "month_key                                                                     \n",
       "2020-09-01           0 2020-10-30  5042941681  4.933999  4.935000  4.830999   \n",
       "2020-10-01           1 2020-11-30  5042941681  4.742000  4.824998  4.737000   \n",
       "\n",
       "               Close    Return      V^CC      V^RS      V^YZ  month_key  \\\n",
       "month_key                                                                 \n",
       "2020-09-01  4.847998 -0.018027  0.015260  0.014832  0.016693 2020-09-01   \n",
       "2020-10-01  4.778999  0.006105  0.028225  0.025393  0.027841 2020-10-01   \n",
       "\n",
       "              buzz   ESG  ESGCombined  ESGControversies  EnvironmentalPillar  \\\n",
       "month_key                                                                      \n",
       "2020-09-01  4108.0  75.0         75.0              75.0                 64.0   \n",
       "2020-10-01  4090.5  71.0         71.0              71.0                 55.0   \n",
       "\n",
       "            GovernancePillar  SocialPillar  Community  \\\n",
       "month_key                                               \n",
       "2020-09-01              71.0          91.0      100.0   \n",
       "2020-10-01              69.0          89.0      100.0   \n",
       "\n",
       "            EnvironmentalInnovation  Management  ProductResponsibility  \\\n",
       "month_key                                                                \n",
       "2020-09-01                     69.0        91.0                   97.0   \n",
       "2020-10-01                     66.0        88.0                   98.0   \n",
       "\n",
       "            Shareholders  Workforce                          Name  \n",
       "month_key                                                          \n",
       "2020-09-01           3.0       81.0  B&M European Value Retail SA  \n",
       "2020-10-01           4.0       74.0  B&M European Value Retail SA  "
      ]
     },
     "execution_count": 8,
     "metadata": {},
     "output_type": "execute_result"
    }
   ],
   "source": [
    "train_df.head(2)"
   ]
  },
  {
   "cell_type": "markdown",
   "id": "dc94d81f-1cbe-4b20-b1b5-e693a97b2f1c",
   "metadata": {},
   "source": [
    "# Modeling"
   ]
  },
  {
   "cell_type": "code",
   "execution_count": 9,
   "id": "385e1cd2-ef3c-4b3c-90b6-b8cf87bfaa85",
   "metadata": {
    "ExecuteTime": {
     "end_time": "2023-07-19T20:12:48.629485Z",
     "start_time": "2023-07-19T20:12:48.617010Z"
    }
   },
   "outputs": [],
   "source": [
    "def compile_train_test_garch(train_df, test_df, sample = True, cap = False, viz = False):\n",
    "    '''\n",
    "    '''\n",
    "\n",
    "    mresults = pd.DataFrame()\n",
    "    q, p = 1,1\n",
    "    \n",
    "    if sample:\n",
    "        # assets = [4295894970, 8589934212]\n",
    "        assets = [8589934212, 8589934254] # 3rd and 4th most volatile stocks in FTSE 2006 to 2022\n",
    "    else:\n",
    "        assets = train_df.Asset.unique().tolist()\n",
    "\n",
    "    for r, asset in enumerate(assets): \n",
    "        \n",
    "        rolling_predictions = []\n",
    "        test_size = test_df[test_df['Asset'] == asset].shape[0]\n",
    "        \n",
    "        y_volatility = train_df[train_df['Asset'] == asset]['V^YZ']\n",
    "        y_volatility.append(test_df[test_df['Asset'] == asset]['V^YZ'])\n",
    "        y_test = y_volatility[-test_size:]\n",
    "        name = train_df[train_df['Asset'] == asset].iloc[0,-1]\n",
    "        \n",
    "        for i in range(test_size):\n",
    "            # train data\n",
    "            y_train = y_volatility[:-(test_size-i)]\n",
    "            model = arch_model(y_train, p=p, q=q)\n",
    "            model_fit = model.fit(disp='off')\n",
    "            # test data\n",
    "            pred = model_fit.forecast(horizon=1)\n",
    "            pred = np.sqrt(pred.variance.values[-1,:][0])\n",
    "            \n",
    "            # capping the outliers\n",
    "            if cap:\n",
    "                lower_bound, upper_bound = detect_outliers_iqr(y_train)\n",
    "                if upper_bound < pred:\n",
    "                    pred = upper_bound\n",
    "            \n",
    "            rolling_predictions.append(pred)\n",
    "\n",
    "        indices = test_df[test_df.Asset == asset].index\n",
    "        rolling_predictions = pd.Series(rolling_predictions, index=indices)\n",
    "        # print(indices)\n",
    "        \n",
    "        mse_million = mean_squared_error(y_test,rolling_predictions)*10**3\n",
    "        mresult = pd.DataFrame({\n",
    "            'Asset': asset,\n",
    "            'Name': name,\n",
    "            'Model':'GARCH(1,1)',\n",
    "            'Test Size': test_size,\n",
    "            'MSE^3':mse_million\n",
    "                    }\n",
    "            , index=[r]\n",
    "        )\n",
    "        mresults = pd.concat([mresults, mresult])\n",
    "        \n",
    "        if viz:\n",
    "            plt.figure(figsize=(10,4))\n",
    "            true, = plt.plot(test_df[test_df.Asset == asset]['V^YZ'])\n",
    "            preds, = plt.plot(rolling_predictions)\n",
    "            plt.title(f'GARCH(1,1) {name}', fontsize=15)\n",
    "            plt.legend(['True Volatility', 'Predicted Volatility'], fontsize=9)\n",
    "            plt.xticks(rotation=45)\n",
    "            plt.savefig(f'../Outputs/Garch/{str(r+1).zfill(3)}_GARCH-{name}.png')\n",
    "            plt.close()\n",
    "        \n",
    "    return mresults"
   ]
  },
  {
   "cell_type": "code",
   "execution_count": 10,
   "id": "7597a61b-50a1-45c5-8b7f-c4b621f74293",
   "metadata": {
    "ExecuteTime": {
     "end_time": "2023-07-19T20:13:09.442727Z",
     "start_time": "2023-07-19T20:12:49.559612Z"
    }
   },
   "outputs": [
    {
     "name": "stderr",
     "output_type": "stream",
     "text": [
      "/Users/yogi/miniconda3/envs/nlp2/lib/python3.11/site-packages/arch/univariate/base.py:766: ConvergenceWarning: The optimizer returned code 8. The message is:\n",
      "Positive directional derivative for linesearch\n",
      "See scipy.optimize.fmin_slsqp for code meaning.\n",
      "\n",
      "  warnings.warn(\n",
      "/Users/yogi/miniconda3/envs/nlp2/lib/python3.11/site-packages/arch/univariate/base.py:766: ConvergenceWarning: The optimizer returned code 8. The message is:\n",
      "Positive directional derivative for linesearch\n",
      "See scipy.optimize.fmin_slsqp for code meaning.\n",
      "\n",
      "  warnings.warn(\n",
      "/Users/yogi/miniconda3/envs/nlp2/lib/python3.11/site-packages/arch/univariate/base.py:766: ConvergenceWarning: The optimizer returned code 4. The message is:\n",
      "Inequality constraints incompatible\n",
      "See scipy.optimize.fmin_slsqp for code meaning.\n",
      "\n",
      "  warnings.warn(\n",
      "/Users/yogi/miniconda3/envs/nlp2/lib/python3.11/site-packages/arch/univariate/base.py:766: ConvergenceWarning: The optimizer returned code 8. The message is:\n",
      "Positive directional derivative for linesearch\n",
      "See scipy.optimize.fmin_slsqp for code meaning.\n",
      "\n",
      "  warnings.warn(\n",
      "/Users/yogi/miniconda3/envs/nlp2/lib/python3.11/site-packages/arch/univariate/base.py:766: ConvergenceWarning: The optimizer returned code 4. The message is:\n",
      "Inequality constraints incompatible\n",
      "See scipy.optimize.fmin_slsqp for code meaning.\n",
      "\n",
      "  warnings.warn(\n",
      "/Users/yogi/miniconda3/envs/nlp2/lib/python3.11/site-packages/arch/univariate/base.py:766: ConvergenceWarning: The optimizer returned code 8. The message is:\n",
      "Positive directional derivative for linesearch\n",
      "See scipy.optimize.fmin_slsqp for code meaning.\n",
      "\n",
      "  warnings.warn(\n",
      "/Users/yogi/miniconda3/envs/nlp2/lib/python3.11/site-packages/arch/univariate/base.py:766: ConvergenceWarning: The optimizer returned code 8. The message is:\n",
      "Positive directional derivative for linesearch\n",
      "See scipy.optimize.fmin_slsqp for code meaning.\n",
      "\n",
      "  warnings.warn(\n",
      "/Users/yogi/miniconda3/envs/nlp2/lib/python3.11/site-packages/arch/univariate/base.py:766: ConvergenceWarning: The optimizer returned code 8. The message is:\n",
      "Positive directional derivative for linesearch\n",
      "See scipy.optimize.fmin_slsqp for code meaning.\n",
      "\n",
      "  warnings.warn(\n"
     ]
    }
   ],
   "source": [
    "mresults = compile_train_test_garch(train_df, test_df, sample=False, cap = False, viz = False)"
   ]
  },
  {
   "cell_type": "markdown",
   "id": "229cfd0c-1684-45d0-8710-4f6a28733888",
   "metadata": {},
   "source": [
    "---"
   ]
  },
  {
   "cell_type": "markdown",
   "id": "8f6f0fc2-4df4-4068-9786-6be2e8ffcef0",
   "metadata": {},
   "source": [
    "# Results"
   ]
  },
  {
   "cell_type": "markdown",
   "id": "3f0d2553-a31b-40ff-816c-ea048bb28141",
   "metadata": {},
   "source": [
    "## 24MONTH NO CAP"
   ]
  },
  {
   "cell_type": "code",
   "execution_count": 11,
   "id": "dea50c6e-bd84-463b-9ced-ae58be9af12e",
   "metadata": {},
   "outputs": [
    {
     "data": {
      "text/html": [
       "<div>\n",
       "<style scoped>\n",
       "    .dataframe tbody tr th:only-of-type {\n",
       "        vertical-align: middle;\n",
       "    }\n",
       "\n",
       "    .dataframe tbody tr th {\n",
       "        vertical-align: top;\n",
       "    }\n",
       "\n",
       "    .dataframe thead th {\n",
       "        text-align: right;\n",
       "    }\n",
       "</style>\n",
       "<table border=\"1\" class=\"dataframe\">\n",
       "  <thead>\n",
       "    <tr style=\"text-align: right;\">\n",
       "      <th></th>\n",
       "      <th>Asset</th>\n",
       "      <th>Name</th>\n",
       "      <th>Model</th>\n",
       "      <th>Test Size</th>\n",
       "      <th>MSE^3</th>\n",
       "    </tr>\n",
       "  </thead>\n",
       "  <tbody>\n",
       "    <tr>\n",
       "      <th>57</th>\n",
       "      <td>4295894970</td>\n",
       "      <td>Bunzl plc</td>\n",
       "      <td>GARCH(1,1)</td>\n",
       "      <td>50</td>\n",
       "      <td>81.957906</td>\n",
       "    </tr>\n",
       "    <tr>\n",
       "      <th>16</th>\n",
       "      <td>4295897861</td>\n",
       "      <td>Micro Focus International Ltd</td>\n",
       "      <td>GARCH(1,1)</td>\n",
       "      <td>10</td>\n",
       "      <td>2.096486</td>\n",
       "    </tr>\n",
       "    <tr>\n",
       "      <th>74</th>\n",
       "      <td>4295895061</td>\n",
       "      <td>Sibanye Uk Ltd</td>\n",
       "      <td>GARCH(1,1)</td>\n",
       "      <td>18</td>\n",
       "      <td>0.990881</td>\n",
       "    </tr>\n",
       "    <tr>\n",
       "      <th>37</th>\n",
       "      <td>5036227579</td>\n",
       "      <td>EVRAZ plc</td>\n",
       "      <td>GARCH(1,1)</td>\n",
       "      <td>19</td>\n",
       "      <td>0.950165</td>\n",
       "    </tr>\n",
       "    <tr>\n",
       "      <th>114</th>\n",
       "      <td>4295894987</td>\n",
       "      <td>British Airways PLC</td>\n",
       "      <td>GARCH(1,1)</td>\n",
       "      <td>17</td>\n",
       "      <td>0.801034</td>\n",
       "    </tr>\n",
       "  </tbody>\n",
       "</table>\n",
       "</div>"
      ],
      "text/plain": [
       "          Asset                           Name       Model  Test Size  \\\n",
       "57   4295894970                      Bunzl plc  GARCH(1,1)         50   \n",
       "16   4295897861  Micro Focus International Ltd  GARCH(1,1)         10   \n",
       "74   4295895061                 Sibanye Uk Ltd  GARCH(1,1)         18   \n",
       "37   5036227579                      EVRAZ plc  GARCH(1,1)         19   \n",
       "114  4295894987            British Airways PLC  GARCH(1,1)         17   \n",
       "\n",
       "         MSE^3  \n",
       "57   81.957906  \n",
       "16    2.096486  \n",
       "74    0.990881  \n",
       "37    0.950165  \n",
       "114   0.801034  "
      ]
     },
     "execution_count": 11,
     "metadata": {},
     "output_type": "execute_result"
    }
   ],
   "source": [
    "mresults.sort_values('MSE^3', ascending=False).head(5)"
   ]
  },
  {
   "cell_type": "code",
   "execution_count": 11,
   "id": "20c722bb",
   "metadata": {
    "ExecuteTime": {
     "end_time": "2023-07-19T20:13:09.448713Z",
     "start_time": "2023-07-19T20:13:09.444196Z"
    }
   },
   "outputs": [
    {
     "data": {
      "text/html": [
       "<div>\n",
       "<style scoped>\n",
       "    .dataframe tbody tr th:only-of-type {\n",
       "        vertical-align: middle;\n",
       "    }\n",
       "\n",
       "    .dataframe tbody tr th {\n",
       "        vertical-align: top;\n",
       "    }\n",
       "\n",
       "    .dataframe thead th {\n",
       "        text-align: right;\n",
       "    }\n",
       "</style>\n",
       "<table border=\"1\" class=\"dataframe\">\n",
       "  <thead>\n",
       "    <tr style=\"text-align: right;\">\n",
       "      <th></th>\n",
       "      <th>Asset</th>\n",
       "      <th>Name</th>\n",
       "      <th>Model</th>\n",
       "      <th>Test Size</th>\n",
       "      <th>MSE^3</th>\n",
       "    </tr>\n",
       "  </thead>\n",
       "  <tbody>\n",
       "    <tr>\n",
       "      <th>57</th>\n",
       "      <td>4295894970</td>\n",
       "      <td>Bunzl plc</td>\n",
       "      <td>GARCH(1,1)</td>\n",
       "      <td>50</td>\n",
       "      <td>566538.205193</td>\n",
       "    </tr>\n",
       "    <tr>\n",
       "      <th>16</th>\n",
       "      <td>4295897861</td>\n",
       "      <td>Micro Focus International Ltd</td>\n",
       "      <td>GARCH(1,1)</td>\n",
       "      <td>10</td>\n",
       "      <td>2.096690</td>\n",
       "    </tr>\n",
       "    <tr>\n",
       "      <th>74</th>\n",
       "      <td>4295895061</td>\n",
       "      <td>Sibanye Uk Ltd</td>\n",
       "      <td>GARCH(1,1)</td>\n",
       "      <td>18</td>\n",
       "      <td>1.030409</td>\n",
       "    </tr>\n",
       "    <tr>\n",
       "      <th>37</th>\n",
       "      <td>5036227579</td>\n",
       "      <td>EVRAZ plc</td>\n",
       "      <td>GARCH(1,1)</td>\n",
       "      <td>19</td>\n",
       "      <td>0.951982</td>\n",
       "    </tr>\n",
       "    <tr>\n",
       "      <th>114</th>\n",
       "      <td>4295894987</td>\n",
       "      <td>British Airways PLC</td>\n",
       "      <td>GARCH(1,1)</td>\n",
       "      <td>17</td>\n",
       "      <td>0.789621</td>\n",
       "    </tr>\n",
       "  </tbody>\n",
       "</table>\n",
       "</div>"
      ],
      "text/plain": [
       "          Asset                           Name       Model  Test Size  \\\n",
       "57   4295894970                      Bunzl plc  GARCH(1,1)         50   \n",
       "16   4295897861  Micro Focus International Ltd  GARCH(1,1)         10   \n",
       "74   4295895061                 Sibanye Uk Ltd  GARCH(1,1)         18   \n",
       "37   5036227579                      EVRAZ plc  GARCH(1,1)         19   \n",
       "114  4295894987            British Airways PLC  GARCH(1,1)         17   \n",
       "\n",
       "             MSE^3  \n",
       "57   566538.205193  \n",
       "16        2.096690  \n",
       "74        1.030409  \n",
       "37        0.951982  \n",
       "114       0.789621  "
      ]
     },
     "execution_count": 11,
     "metadata": {},
     "output_type": "execute_result"
    }
   ],
   "source": [
    "mresults.sort_values('MSE^3', ascending=False).head(5)"
   ]
  },
  {
   "cell_type": "code",
   "execution_count": 13,
   "id": "4ff12320-d5b9-467b-a8be-930e1b39e75e",
   "metadata": {},
   "outputs": [
    {
     "data": {
      "text/plain": [
       "0.7918882694578178"
      ]
     },
     "execution_count": 13,
     "metadata": {},
     "output_type": "execute_result"
    }
   ],
   "source": [
    "np.mean(mresults['MSE^3'])"
   ]
  },
  {
   "cell_type": "code",
   "execution_count": 12,
   "id": "5b1bf42a",
   "metadata": {
    "ExecuteTime": {
     "end_time": "2023-07-19T20:13:09.451384Z",
     "start_time": "2023-07-19T20:13:09.449462Z"
    }
   },
   "outputs": [
    {
     "data": {
      "text/plain": [
       "3934.5152731160906"
      ]
     },
     "execution_count": 12,
     "metadata": {},
     "output_type": "execute_result"
    }
   ],
   "source": [
    "np.mean(mresults['MSE^3'])"
   ]
  },
  {
   "cell_type": "markdown",
   "id": "3bb96abf-75a4-4ea3-91fa-409638e73f61",
   "metadata": {},
   "source": [
    "## 24MONTH WITH CAP"
   ]
  },
  {
   "cell_type": "code",
   "execution_count": 20,
   "id": "60756bac-0d41-46b4-876e-f4a7df6d4f7e",
   "metadata": {},
   "outputs": [
    {
     "data": {
      "text/html": [
       "<div>\n",
       "<style scoped>\n",
       "    .dataframe tbody tr th:only-of-type {\n",
       "        vertical-align: middle;\n",
       "    }\n",
       "\n",
       "    .dataframe tbody tr th {\n",
       "        vertical-align: top;\n",
       "    }\n",
       "\n",
       "    .dataframe thead th {\n",
       "        text-align: right;\n",
       "    }\n",
       "</style>\n",
       "<table border=\"1\" class=\"dataframe\">\n",
       "  <thead>\n",
       "    <tr style=\"text-align: right;\">\n",
       "      <th></th>\n",
       "      <th>Asset</th>\n",
       "      <th>Name</th>\n",
       "      <th>Model</th>\n",
       "      <th>Test Size</th>\n",
       "      <th>MSE^3</th>\n",
       "    </tr>\n",
       "  </thead>\n",
       "  <tbody>\n",
       "    <tr>\n",
       "      <th>18</th>\n",
       "      <td>4295897861</td>\n",
       "      <td>Micro Focus International Ltd</td>\n",
       "      <td>GARCH(1,1)</td>\n",
       "      <td>10</td>\n",
       "      <td>1.782181</td>\n",
       "    </tr>\n",
       "    <tr>\n",
       "      <th>79</th>\n",
       "      <td>4295895061</td>\n",
       "      <td>Sibanye Uk Ltd</td>\n",
       "      <td>GARCH(1,1)</td>\n",
       "      <td>18</td>\n",
       "      <td>1.020862</td>\n",
       "    </tr>\n",
       "    <tr>\n",
       "      <th>41</th>\n",
       "      <td>5036227579</td>\n",
       "      <td>EVRAZ plc</td>\n",
       "      <td>GARCH(1,1)</td>\n",
       "      <td>19</td>\n",
       "      <td>0.950165</td>\n",
       "    </tr>\n",
       "    <tr>\n",
       "      <th>128</th>\n",
       "      <td>4295894987</td>\n",
       "      <td>British Airways PLC</td>\n",
       "      <td>GARCH(1,1)</td>\n",
       "      <td>17</td>\n",
       "      <td>0.823081</td>\n",
       "    </tr>\n",
       "    <tr>\n",
       "      <th>31</th>\n",
       "      <td>4295898044</td>\n",
       "      <td>Ashtead Group PLC</td>\n",
       "      <td>GARCH(1,1)</td>\n",
       "      <td>32</td>\n",
       "      <td>0.758230</td>\n",
       "    </tr>\n",
       "  </tbody>\n",
       "</table>\n",
       "</div>"
      ],
      "text/plain": [
       "          Asset                           Name       Model  Test Size  \\\n",
       "18   4295897861  Micro Focus International Ltd  GARCH(1,1)         10   \n",
       "79   4295895061                 Sibanye Uk Ltd  GARCH(1,1)         18   \n",
       "41   5036227579                      EVRAZ plc  GARCH(1,1)         19   \n",
       "128  4295894987            British Airways PLC  GARCH(1,1)         17   \n",
       "31   4295898044              Ashtead Group PLC  GARCH(1,1)         32   \n",
       "\n",
       "        MSE^3  \n",
       "18   1.782181  \n",
       "79   1.020862  \n",
       "41   0.950165  \n",
       "128  0.823081  \n",
       "31   0.758230  "
      ]
     },
     "execution_count": 20,
     "metadata": {},
     "output_type": "execute_result"
    }
   ],
   "source": [
    "mresults.sort_values('MSE^3', ascending=False).head(5)"
   ]
  },
  {
   "cell_type": "code",
   "execution_count": 21,
   "id": "d0c88e22-0351-4839-8287-bb4110d40895",
   "metadata": {},
   "outputs": [
    {
     "data": {
      "text/plain": [
       "0.22413324492142586"
      ]
     },
     "execution_count": 21,
     "metadata": {},
     "output_type": "execute_result"
    }
   ],
   "source": [
    "np.mean(mresults['MSE^3'])"
   ]
  },
  {
   "cell_type": "markdown",
   "id": "92b92b2e-fa08-4f25-9567-9cc543e298f9",
   "metadata": {},
   "source": [
    "## 36MONTH NO CAP"
   ]
  },
  {
   "cell_type": "code",
   "execution_count": 37,
   "id": "bbc47808-a144-44bc-8f98-d52124cf80a5",
   "metadata": {},
   "outputs": [
    {
     "data": {
      "text/html": [
       "<div>\n",
       "<style scoped>\n",
       "    .dataframe tbody tr th:only-of-type {\n",
       "        vertical-align: middle;\n",
       "    }\n",
       "\n",
       "    .dataframe tbody tr th {\n",
       "        vertical-align: top;\n",
       "    }\n",
       "\n",
       "    .dataframe thead th {\n",
       "        text-align: right;\n",
       "    }\n",
       "</style>\n",
       "<table border=\"1\" class=\"dataframe\">\n",
       "  <thead>\n",
       "    <tr style=\"text-align: right;\">\n",
       "      <th></th>\n",
       "      <th>Asset</th>\n",
       "      <th>Name</th>\n",
       "      <th>Model</th>\n",
       "      <th>Test Size</th>\n",
       "      <th>MSE^3</th>\n",
       "    </tr>\n",
       "  </thead>\n",
       "  <tbody>\n",
       "    <tr>\n",
       "      <th>51</th>\n",
       "      <td>4295894970</td>\n",
       "      <td>Bunzl plc</td>\n",
       "      <td>GARCH(1,1)</td>\n",
       "      <td>51</td>\n",
       "      <td>80.352324</td>\n",
       "    </tr>\n",
       "    <tr>\n",
       "      <th>67</th>\n",
       "      <td>4295895061</td>\n",
       "      <td>Sibanye Uk Ltd</td>\n",
       "      <td>GARCH(1,1)</td>\n",
       "      <td>18</td>\n",
       "      <td>0.990881</td>\n",
       "    </tr>\n",
       "    <tr>\n",
       "      <th>31</th>\n",
       "      <td>5036227579</td>\n",
       "      <td>EVRAZ plc</td>\n",
       "      <td>GARCH(1,1)</td>\n",
       "      <td>19</td>\n",
       "      <td>0.950165</td>\n",
       "    </tr>\n",
       "    <tr>\n",
       "      <th>111</th>\n",
       "      <td>4295894987</td>\n",
       "      <td>British Airways PLC</td>\n",
       "      <td>GARCH(1,1)</td>\n",
       "      <td>17</td>\n",
       "      <td>0.823081</td>\n",
       "    </tr>\n",
       "    <tr>\n",
       "      <th>22</th>\n",
       "      <td>4295898044</td>\n",
       "      <td>Ashtead Group PLC</td>\n",
       "      <td>GARCH(1,1)</td>\n",
       "      <td>32</td>\n",
       "      <td>0.758230</td>\n",
       "    </tr>\n",
       "  </tbody>\n",
       "</table>\n",
       "</div>"
      ],
      "text/plain": [
       "          Asset                 Name       Model  Test Size      MSE^3\n",
       "51   4295894970            Bunzl plc  GARCH(1,1)         51  80.352324\n",
       "67   4295895061       Sibanye Uk Ltd  GARCH(1,1)         18   0.990881\n",
       "31   5036227579            EVRAZ plc  GARCH(1,1)         19   0.950165\n",
       "111  4295894987  British Airways PLC  GARCH(1,1)         17   0.823081\n",
       "22   4295898044    Ashtead Group PLC  GARCH(1,1)         32   0.758230"
      ]
     },
     "execution_count": 37,
     "metadata": {},
     "output_type": "execute_result"
    }
   ],
   "source": [
    "mresults.sort_values('MSE^3', ascending=False).head(5)"
   ]
  },
  {
   "cell_type": "code",
   "execution_count": 38,
   "id": "9980bc90-5045-41c6-a9d8-f97f3e46bc5e",
   "metadata": {},
   "outputs": [
    {
     "data": {
      "text/plain": [
       "0.7667764680687831"
      ]
     },
     "execution_count": 38,
     "metadata": {},
     "output_type": "execute_result"
    }
   ],
   "source": [
    "np.mean(mresults['MSE^3'])"
   ]
  },
  {
   "cell_type": "markdown",
   "id": "6e85899a-608e-4bf2-8e45-507c2650bc5d",
   "metadata": {},
   "source": [
    "## 36MONTH WITH CAP"
   ]
  },
  {
   "cell_type": "code",
   "execution_count": 33,
   "id": "6e6c931e-8100-4460-8189-253fb3c78f46",
   "metadata": {},
   "outputs": [
    {
     "data": {
      "text/html": [
       "<div>\n",
       "<style scoped>\n",
       "    .dataframe tbody tr th:only-of-type {\n",
       "        vertical-align: middle;\n",
       "    }\n",
       "\n",
       "    .dataframe tbody tr th {\n",
       "        vertical-align: top;\n",
       "    }\n",
       "\n",
       "    .dataframe thead th {\n",
       "        text-align: right;\n",
       "    }\n",
       "</style>\n",
       "<table border=\"1\" class=\"dataframe\">\n",
       "  <thead>\n",
       "    <tr style=\"text-align: right;\">\n",
       "      <th></th>\n",
       "      <th>Asset</th>\n",
       "      <th>Name</th>\n",
       "      <th>Model</th>\n",
       "      <th>Test Size</th>\n",
       "      <th>MSE^3</th>\n",
       "    </tr>\n",
       "  </thead>\n",
       "  <tbody>\n",
       "    <tr>\n",
       "      <th>67</th>\n",
       "      <td>4295895061</td>\n",
       "      <td>Sibanye Uk Ltd</td>\n",
       "      <td>GARCH(1,1)</td>\n",
       "      <td>18</td>\n",
       "      <td>1.020862</td>\n",
       "    </tr>\n",
       "    <tr>\n",
       "      <th>31</th>\n",
       "      <td>5036227579</td>\n",
       "      <td>EVRAZ plc</td>\n",
       "      <td>GARCH(1,1)</td>\n",
       "      <td>19</td>\n",
       "      <td>0.950165</td>\n",
       "    </tr>\n",
       "    <tr>\n",
       "      <th>111</th>\n",
       "      <td>4295894987</td>\n",
       "      <td>British Airways PLC</td>\n",
       "      <td>GARCH(1,1)</td>\n",
       "      <td>17</td>\n",
       "      <td>0.823081</td>\n",
       "    </tr>\n",
       "    <tr>\n",
       "      <th>22</th>\n",
       "      <td>4295898044</td>\n",
       "      <td>Ashtead Group PLC</td>\n",
       "      <td>GARCH(1,1)</td>\n",
       "      <td>32</td>\n",
       "      <td>0.758230</td>\n",
       "    </tr>\n",
       "    <tr>\n",
       "      <th>78</th>\n",
       "      <td>5000047647</td>\n",
       "      <td>Friends Life FPG Ltd</td>\n",
       "      <td>GARCH(1,1)</td>\n",
       "      <td>12</td>\n",
       "      <td>0.713776</td>\n",
       "    </tr>\n",
       "  </tbody>\n",
       "</table>\n",
       "</div>"
      ],
      "text/plain": [
       "          Asset                  Name       Model  Test Size     MSE^3\n",
       "67   4295895061        Sibanye Uk Ltd  GARCH(1,1)         18  1.020862\n",
       "31   5036227579             EVRAZ plc  GARCH(1,1)         19  0.950165\n",
       "111  4295894987   British Airways PLC  GARCH(1,1)         17  0.823081\n",
       "22   4295898044     Ashtead Group PLC  GARCH(1,1)         32  0.758230\n",
       "78   5000047647  Friends Life FPG Ltd  GARCH(1,1)         12  0.713776"
      ]
     },
     "execution_count": 33,
     "metadata": {},
     "output_type": "execute_result"
    }
   ],
   "source": [
    "mresults.sort_values('MSE^3', ascending=False).head(5)"
   ]
  },
  {
   "cell_type": "code",
   "execution_count": 34,
   "id": "b1a34a0c-f0fb-463b-b217-0f4dd5e47d8f",
   "metadata": {},
   "outputs": [
    {
     "data": {
      "text/plain": [
       "0.2017985825595635"
      ]
     },
     "execution_count": 34,
     "metadata": {},
     "output_type": "execute_result"
    }
   ],
   "source": [
    "np.mean(mresults['MSE^3'])"
   ]
  },
  {
   "cell_type": "markdown",
   "id": "454aa0b3-43e5-47aa-a365-d25073994471",
   "metadata": {},
   "source": [
    "---"
   ]
  },
  {
   "cell_type": "code",
   "execution_count": 39,
   "id": "0c1a35f1-5564-4ca3-ab32-e8b9ef6efa00",
   "metadata": {},
   "outputs": [],
   "source": [
    "threshold = str(36)\n",
    "CAP = 'NCAP'\n",
    "mresults.to_excel(f'../Results/1-GARCH-{threshold}MONTH-{CAP}.xlsx', index=None)"
   ]
  },
  {
   "cell_type": "markdown",
   "id": "53cd0cd0-bfec-463f-99b8-f8b2e47d51a0",
   "metadata": {},
   "source": [
    "---"
   ]
  },
  {
   "cell_type": "markdown",
   "id": "54eb2c3e-a006-4e69-9622-a11682a86aad",
   "metadata": {},
   "source": [
    "# Test Result Predictions"
   ]
  },
  {
   "cell_type": "code",
   "execution_count": 15,
   "id": "325fc6d6-b606-4671-a222-8f4649847dfc",
   "metadata": {},
   "outputs": [],
   "source": [
    "def compile_train_test_garch(train_df, test_df, sample = True, cap = False, viz = False):\n",
    "    '''\n",
    "    '''\n",
    "\n",
    "    mresults = pd.DataFrame()\n",
    "    predictions_df = pd.DataFrame()\n",
    "    q, p = 1,1\n",
    "    \n",
    "    if sample:\n",
    "        # assets = [4295894970, 8589934212]\n",
    "        assets = [8589934212, 8589934254] # 3rd and 4th most volatile stocks in FTSE 2006 to 2022\n",
    "    else:\n",
    "        assets = train_df.Asset.unique().tolist()\n",
    "\n",
    "    for r, asset in enumerate(assets): \n",
    "        \n",
    "        rolling_predictions = []\n",
    "        test_size = test_df[test_df['Asset'] == asset].shape[0]\n",
    "        \n",
    "        y_volatility = train_df[train_df['Asset'] == asset]['V^YZ']\n",
    "        y_volatility.append(test_df[test_df['Asset'] == asset]['V^YZ'])\n",
    "        y_test = y_volatility[-test_size:]\n",
    "        name = train_df[train_df['Asset'] == asset].iloc[0,-1]\n",
    "        \n",
    "        for i in range(test_size):\n",
    "            # train data\n",
    "            y_train = y_volatility[:-(test_size-i)]\n",
    "            model = arch_model(y_train, p=p, q=q)\n",
    "            model_fit = model.fit(disp='off')\n",
    "            # test data\n",
    "            pred = model_fit.forecast(horizon=1)\n",
    "            pred = np.sqrt(pred.variance.values[-1,:][0])\n",
    "            \n",
    "            # capping the outliers\n",
    "            if cap:\n",
    "                lower_bound, upper_bound = detect_outliers_iqr(y_train)\n",
    "                if upper_bound < pred:\n",
    "                    pred = upper_bound\n",
    "            \n",
    "            rolling_predictions.append(pred)\n",
    "\n",
    "        \n",
    "        prediction_df = pd.DataFrame({\n",
    "            'Asset':asset,\n",
    "            'Test Data': y_test,\n",
    "            'Predictions': rolling_predictions\n",
    "        }, index = y_test.index)\n",
    "        \n",
    "        \n",
    "        indices = test_df[test_df.Asset == asset].index\n",
    "        rolling_predictions = pd.Series(rolling_predictions, index=indices)\n",
    "        # print(indices)\n",
    "        \n",
    "        mse_million = mean_squared_error(y_test,rolling_predictions)*10**3\n",
    "        mresult = pd.DataFrame({\n",
    "            'Asset': asset,\n",
    "            'Name': name,\n",
    "            'Model':'GARCH(1,1)',\n",
    "            'Test Size': test_size,\n",
    "            'MSE^3':mse_million\n",
    "                    }\n",
    "            , index=[r]\n",
    "        )\n",
    "        \n",
    "        predictions_df = pd.concat([predictions_df, prediction_df])\n",
    "        mresults = pd.concat([mresults, mresult])\n",
    "        \n",
    "        if viz:\n",
    "            plt.figure(figsize=(10,4))\n",
    "            true, = plt.plot(test_df[test_df.Asset == asset]['V^YZ'])\n",
    "            preds, = plt.plot(rolling_predictions)\n",
    "            plt.title(f'GARCH(1,1) {name}', fontsize=15)\n",
    "            plt.legend(['True Volatility', 'Predicted Volatility'], fontsize=9)\n",
    "            plt.xticks(rotation=45)\n",
    "            plt.savefig(f'../Outputs/Garch/{str(r+1).zfill(3)}_GARCH-{name}.png')\n",
    "            plt.close()\n",
    "        \n",
    "    return mresults, predictions_df"
   ]
  },
  {
   "cell_type": "code",
   "execution_count": 16,
   "id": "37cfd924-f4c7-4283-8ecc-858754546d7a",
   "metadata": {},
   "outputs": [],
   "source": [
    "mresults, pred = compile_train_test_garch(train_df, test_df, sample=True, cap = False, viz = False)"
   ]
  },
  {
   "cell_type": "code",
   "execution_count": 20,
   "id": "ff37fb1e-2dcb-4f75-a0ae-f125fcd48e0c",
   "metadata": {},
   "outputs": [
    {
     "data": {
      "text/html": [
       "<div>\n",
       "<style scoped>\n",
       "    .dataframe tbody tr th:only-of-type {\n",
       "        vertical-align: middle;\n",
       "    }\n",
       "\n",
       "    .dataframe tbody tr th {\n",
       "        vertical-align: top;\n",
       "    }\n",
       "\n",
       "    .dataframe thead th {\n",
       "        text-align: right;\n",
       "    }\n",
       "</style>\n",
       "<table border=\"1\" class=\"dataframe\">\n",
       "  <thead>\n",
       "    <tr style=\"text-align: right;\">\n",
       "      <th></th>\n",
       "      <th>Asset</th>\n",
       "      <th>Name</th>\n",
       "      <th>Model</th>\n",
       "      <th>Test Size</th>\n",
       "      <th>MSE^3</th>\n",
       "    </tr>\n",
       "  </thead>\n",
       "  <tbody>\n",
       "    <tr>\n",
       "      <th>0</th>\n",
       "      <td>8589934212</td>\n",
       "      <td>Natwest Group PLC</td>\n",
       "      <td>GARCH(1,1)</td>\n",
       "      <td>60</td>\n",
       "      <td>0.246405</td>\n",
       "    </tr>\n",
       "    <tr>\n",
       "      <th>1</th>\n",
       "      <td>8589934254</td>\n",
       "      <td>Lloyds Banking Group PLC</td>\n",
       "      <td>GARCH(1,1)</td>\n",
       "      <td>60</td>\n",
       "      <td>0.150474</td>\n",
       "    </tr>\n",
       "  </tbody>\n",
       "</table>\n",
       "</div>"
      ],
      "text/plain": [
       "        Asset                      Name       Model  Test Size     MSE^3\n",
       "0  8589934212         Natwest Group PLC  GARCH(1,1)         60  0.246405\n",
       "1  8589934254  Lloyds Banking Group PLC  GARCH(1,1)         60  0.150474"
      ]
     },
     "execution_count": 20,
     "metadata": {},
     "output_type": "execute_result"
    }
   ],
   "source": [
    "mresults"
   ]
  },
  {
   "cell_type": "code",
   "execution_count": 18,
   "id": "33e12b5d-9136-422d-9189-ce4be99cc265",
   "metadata": {},
   "outputs": [],
   "source": [
    "pred.to_csv('../data/9-GARCH-SAMPLE-PREDICTION-RESULTS.csv')"
   ]
  }
 ],
 "metadata": {
  "kernelspec": {
   "display_name": "Python 3 (ipykernel)",
   "language": "python",
   "name": "python3"
  },
  "language_info": {
   "codemirror_mode": {
    "name": "ipython",
    "version": 3
   },
   "file_extension": ".py",
   "mimetype": "text/x-python",
   "name": "python",
   "nbconvert_exporter": "python",
   "pygments_lexer": "ipython3",
   "version": "3.11.3"
  },
  "toc": {
   "base_numbering": 1,
   "nav_menu": {},
   "number_sections": true,
   "sideBar": true,
   "skip_h1_title": false,
   "title_cell": "Table of Contents",
   "title_sidebar": "Contents",
   "toc_cell": true,
   "toc_position": {},
   "toc_section_display": true,
   "toc_window_display": false
  },
  "toc-autonumbering": true
 },
 "nbformat": 4,
 "nbformat_minor": 5
}
