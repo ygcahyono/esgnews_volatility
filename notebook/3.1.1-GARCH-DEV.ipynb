{
 "cells": [
  {
   "cell_type": "markdown",
   "id": "0652ecb2-8ac7-4c69-a698-a77e471e5502",
   "metadata": {},
   "source": [
    "# Import Packages"
   ]
  },
  {
   "cell_type": "code",
   "execution_count": 1,
   "id": "f44af4a6-5474-4528-a0a2-ed823c877f6e",
   "metadata": {},
   "outputs": [],
   "source": [
    "# Method #1 GARCH Model\n",
    "from arch import arch_model\n",
    "from statsmodels.graphics.tsaplots import plot_acf, plot_pacf\n",
    "\n",
    "from IPython.display import display, HTML\n",
    "from sklearn.metrics import mean_squared_error\n",
    "from set_params import func_garch_train_test_split, count_train_test\n",
    "import matplotlib.pyplot as plt\n",
    "import numpy as np\n",
    "import pandas as pd\n",
    "import random as rd\n",
    "import warnings\n",
    "\n",
    "def calculate_iqr(values):\n",
    "    # Calculate Q1\n",
    "    Q1 = np.percentile(values, 25)\n",
    "    # Calculate Q3\n",
    "    Q3 = np.percentile(values, 75)\n",
    "    # Calculate IQR\n",
    "    IQR = Q3 - Q1\n",
    "    return IQR\n",
    "\n",
    "def detect_outliers_iqr(values):\n",
    "    # Calculate the IQR of the values\n",
    "    IQR = calculate_iqr(values)\n",
    "    # Calculate Q1 and Q3\n",
    "    Q1 = np.percentile(values, 25)\n",
    "    Q3 = np.percentile(values, 75)\n",
    "    # Define the lower and upper bound for outliers\n",
    "    lower_bound = Q1 - 1.5 * IQR\n",
    "    upper_bound = Q3 + 1.5 * IQR\n",
    "    # Return a boolean array: True if the value is an outlier, False otherwise\n",
    "    return lower_bound, upper_bound\n",
    "\n",
    "\n",
    "# display(HTML(\"<style>.container { width:80% !important; }</style>\"))\n",
    "warnings.filterwarnings('ignore')\n",
    "pd.set_option('display.max_columns', 100)"
   ]
  },
  {
   "cell_type": "markdown",
   "id": "e0684850-8979-4cc6-ae09-bc114096fde4",
   "metadata": {},
   "source": [
    "# Data Processing"
   ]
  },
  {
   "cell_type": "code",
   "execution_count": 3,
   "id": "83501690-64ad-4987-8469-8107934f04eb",
   "metadata": {},
   "outputs": [],
   "source": [
    "base_FTSE_df = pd.read_csv('../data/1.3-FTSE_Monthly_ESG_Volatility_Final.csv')\n",
    "base_FTSE_df = base_FTSE_df.rename(columns={'Date_x':'date_key'})"
   ]
  },
  {
   "cell_type": "code",
   "execution_count": 5,
   "id": "8af45494-a4de-40fb-9475-d005085c89b5",
   "metadata": {},
   "outputs": [],
   "source": [
    "train_df, valid_df, test_df = func_garch_train_test_split(validation = False, \n",
    "                                                    threshold = 24)"
   ]
  },
  {
   "cell_type": "code",
   "execution_count": 24,
   "id": "78960690-1d3f-4008-a540-a6c3883720e8",
   "metadata": {},
   "outputs": [],
   "source": [
    "count_rows_df = count_train_test(train_df, test_df)"
   ]
  },
  {
   "cell_type": "code",
   "execution_count": 25,
   "id": "7802e445-abc9-4f78-8b19-82567edb589c",
   "metadata": {},
   "outputs": [],
   "source": [
    "coverage_df = pd.read_csv('../Data/coverage_dataframe.csv')\n",
    "coverage_df.PermID = coverage_df.PermID.astype(int)\n",
    "coverage_df = coverage_df[['PermID', 'Name']]\n",
    "coverage_df = coverage_df.rename(columns={'PermID':'Asset'})"
   ]
  },
  {
   "cell_type": "code",
   "execution_count": 26,
   "id": "ce1faf47-43e7-45f7-bb67-15f08ea161e7",
   "metadata": {},
   "outputs": [],
   "source": [
    "train_df = pd.merge(train_df, coverage_df, how = 'left', on = 'Asset')\n",
    "train_df.index = train_df.month_key"
   ]
  },
  {
   "cell_type": "code",
   "execution_count": 27,
   "id": "ff9e703f-56c7-4972-9a33-3faa2685702a",
   "metadata": {},
   "outputs": [
    {
     "data": {
      "text/html": [
       "<div>\n",
       "<style scoped>\n",
       "    .dataframe tbody tr th:only-of-type {\n",
       "        vertical-align: middle;\n",
       "    }\n",
       "\n",
       "    .dataframe tbody tr th {\n",
       "        vertical-align: top;\n",
       "    }\n",
       "\n",
       "    .dataframe thead th {\n",
       "        text-align: right;\n",
       "    }\n",
       "</style>\n",
       "<table border=\"1\" class=\"dataframe\">\n",
       "  <thead>\n",
       "    <tr style=\"text-align: right;\">\n",
       "      <th></th>\n",
       "      <th>date_key</th>\n",
       "      <th>month_key</th>\n",
       "      <th>Asset</th>\n",
       "      <th>Open</th>\n",
       "      <th>High</th>\n",
       "      <th>Low</th>\n",
       "      <th>Close</th>\n",
       "      <th>Return</th>\n",
       "      <th>buzz</th>\n",
       "      <th>ESG</th>\n",
       "      <th>ESGCombined</th>\n",
       "      <th>ESGControversies</th>\n",
       "      <th>EnvironmentalPillar</th>\n",
       "      <th>GovernancePillar</th>\n",
       "      <th>SocialPillar</th>\n",
       "      <th>CSRStrategy</th>\n",
       "      <th>Community</th>\n",
       "      <th>Emissions</th>\n",
       "      <th>EnvironmentalInnovation</th>\n",
       "      <th>HumanRights</th>\n",
       "      <th>Management</th>\n",
       "      <th>ProductResponsibility</th>\n",
       "      <th>ResourceUse</th>\n",
       "      <th>Shareholders</th>\n",
       "      <th>Workforce</th>\n",
       "      <th>V^CC</th>\n",
       "      <th>V^RS</th>\n",
       "      <th>V^YZ</th>\n",
       "      <th>Name</th>\n",
       "    </tr>\n",
       "    <tr>\n",
       "      <th>month_key</th>\n",
       "      <th></th>\n",
       "      <th></th>\n",
       "      <th></th>\n",
       "      <th></th>\n",
       "      <th></th>\n",
       "      <th></th>\n",
       "      <th></th>\n",
       "      <th></th>\n",
       "      <th></th>\n",
       "      <th></th>\n",
       "      <th></th>\n",
       "      <th></th>\n",
       "      <th></th>\n",
       "      <th></th>\n",
       "      <th></th>\n",
       "      <th></th>\n",
       "      <th></th>\n",
       "      <th></th>\n",
       "      <th></th>\n",
       "      <th></th>\n",
       "      <th></th>\n",
       "      <th></th>\n",
       "      <th></th>\n",
       "      <th></th>\n",
       "      <th></th>\n",
       "      <th></th>\n",
       "      <th></th>\n",
       "      <th></th>\n",
       "      <th></th>\n",
       "    </tr>\n",
       "  </thead>\n",
       "  <tbody>\n",
       "    <tr>\n",
       "      <th>2019-11-01</th>\n",
       "      <td>2019-12-31</td>\n",
       "      <td>2019-11-01</td>\n",
       "      <td>5021764927</td>\n",
       "      <td>2.396</td>\n",
       "      <td>2.40187</td>\n",
       "      <td>2.370</td>\n",
       "      <td>2.372000</td>\n",
       "      <td>-0.005034</td>\n",
       "      <td>6.0</td>\n",
       "      <td>36.0</td>\n",
       "      <td>32.0</td>\n",
       "      <td>28.0</td>\n",
       "      <td>74.0</td>\n",
       "      <td>41.0</td>\n",
       "      <td>34.0</td>\n",
       "      <td>67.0</td>\n",
       "      <td>12.0</td>\n",
       "      <td>67.0</td>\n",
       "      <td>86.0</td>\n",
       "      <td>60.0</td>\n",
       "      <td>3.0</td>\n",
       "      <td>58.0</td>\n",
       "      <td>70.0</td>\n",
       "      <td>41.0</td>\n",
       "      <td>51.0</td>\n",
       "      <td>0.019451</td>\n",
       "      <td>0.016788</td>\n",
       "      <td>0.020533</td>\n",
       "      <td>M&amp;G PLC</td>\n",
       "    </tr>\n",
       "    <tr>\n",
       "      <th>2019-12-01</th>\n",
       "      <td>2020-01-31</td>\n",
       "      <td>2019-12-01</td>\n",
       "      <td>5021764927</td>\n",
       "      <td>2.454</td>\n",
       "      <td>2.45400</td>\n",
       "      <td>2.372</td>\n",
       "      <td>2.402001</td>\n",
       "      <td>-0.009076</td>\n",
       "      <td>534.5</td>\n",
       "      <td>37.0</td>\n",
       "      <td>26.0</td>\n",
       "      <td>16.0</td>\n",
       "      <td>66.0</td>\n",
       "      <td>33.0</td>\n",
       "      <td>10.0</td>\n",
       "      <td>71.4</td>\n",
       "      <td>1.0</td>\n",
       "      <td>85.0</td>\n",
       "      <td>93.0</td>\n",
       "      <td>4.0</td>\n",
       "      <td>21.0</td>\n",
       "      <td>35.0</td>\n",
       "      <td>19.0</td>\n",
       "      <td>69.0</td>\n",
       "      <td>6.0</td>\n",
       "      <td>0.009869</td>\n",
       "      <td>0.013527</td>\n",
       "      <td>0.014436</td>\n",
       "      <td>M&amp;G PLC</td>\n",
       "    </tr>\n",
       "  </tbody>\n",
       "</table>\n",
       "</div>"
      ],
      "text/plain": [
       "             date_key  month_key       Asset   Open     High    Low     Close  \\\n",
       "month_key                                                                       \n",
       "2019-11-01 2019-12-31 2019-11-01  5021764927  2.396  2.40187  2.370  2.372000   \n",
       "2019-12-01 2020-01-31 2019-12-01  5021764927  2.454  2.45400  2.372  2.402001   \n",
       "\n",
       "              Return   buzz   ESG  ESGCombined  ESGControversies  \\\n",
       "month_key                                                          \n",
       "2019-11-01 -0.005034    6.0  36.0         32.0              28.0   \n",
       "2019-12-01 -0.009076  534.5  37.0         26.0              16.0   \n",
       "\n",
       "            EnvironmentalPillar  GovernancePillar  SocialPillar  CSRStrategy  \\\n",
       "month_key                                                                      \n",
       "2019-11-01                 74.0              41.0          34.0         67.0   \n",
       "2019-12-01                 66.0              33.0          10.0         71.4   \n",
       "\n",
       "            Community  Emissions  EnvironmentalInnovation  HumanRights  \\\n",
       "month_key                                                                \n",
       "2019-11-01       12.0       67.0                     86.0         60.0   \n",
       "2019-12-01        1.0       85.0                     93.0          4.0   \n",
       "\n",
       "            Management  ProductResponsibility  ResourceUse  Shareholders  \\\n",
       "month_key                                                                  \n",
       "2019-11-01         3.0                   58.0         70.0          41.0   \n",
       "2019-12-01        21.0                   35.0         19.0          69.0   \n",
       "\n",
       "            Workforce      V^CC      V^RS      V^YZ     Name  \n",
       "month_key                                                     \n",
       "2019-11-01       51.0  0.019451  0.016788  0.020533  M&G PLC  \n",
       "2019-12-01        6.0  0.009869  0.013527  0.014436  M&G PLC  "
      ]
     },
     "execution_count": 27,
     "metadata": {},
     "output_type": "execute_result"
    }
   ],
   "source": [
    "train_df.head(2)"
   ]
  },
  {
   "cell_type": "markdown",
   "id": "dc94d81f-1cbe-4b20-b1b5-e693a97b2f1c",
   "metadata": {},
   "source": [
    "# Modeling"
   ]
  },
  {
   "cell_type": "code",
   "execution_count": 28,
   "id": "385e1cd2-ef3c-4b3c-90b6-b8cf87bfaa85",
   "metadata": {},
   "outputs": [],
   "source": [
    "def compile_train_test_garch(train_df, test_df, sample = True, cap = False, viz = False):\n",
    "    '''\n",
    "    '''\n",
    "\n",
    "    mresults = pd.DataFrame()\n",
    "    q, p = 1,1\n",
    "    \n",
    "    if sample:\n",
    "        assets = [4295894970, 8589934212]\n",
    "    else:\n",
    "        assets = train_df.Asset.unique().tolist()\n",
    "\n",
    "    for r, asset in enumerate(assets): \n",
    "        \n",
    "        rolling_predictions = []\n",
    "        test_size = test_df[test_df['Asset'] == asset].shape[0]\n",
    "        \n",
    "        y_volatility = train_df[train_df['Asset'] == asset]['V^YZ']\n",
    "        y_volatility.append(test_df[test_df['Asset'] == asset]['V^YZ'])\n",
    "        y_test = y_volatility[-test_size:]\n",
    "        name = train_df[train_df['Asset'] == asset].iloc[0,-1]\n",
    "        \n",
    "        for i in range(test_size):\n",
    "            # train data\n",
    "            y_train = y_volatility[:-(test_size-i)]\n",
    "            model = arch_model(y_train, p=p, q=q)\n",
    "            model_fit = model.fit(disp='off')\n",
    "            # test data\n",
    "            pred = model_fit.forecast(horizon=1)\n",
    "            pred = np.sqrt(pred.variance.values[-1,:][0])\n",
    "            \n",
    "            # capping the outliers\n",
    "            if cap:\n",
    "                lower_bound, upper_bound = detect_outliers_iqr(y_train)\n",
    "                if upper_bound < pred:\n",
    "                    pred = upper_bound\n",
    "            \n",
    "            rolling_predictions.append(pred)\n",
    "\n",
    "        indices = test_df[test_df.Asset == asset].index\n",
    "        rolling_predictions = pd.Series(rolling_predictions, index=indices)\n",
    "        # print(indices)\n",
    "        \n",
    "        mse_million = mean_squared_error(y_test,rolling_predictions)*10**3\n",
    "        mresult = pd.DataFrame({\n",
    "            'Asset': asset,\n",
    "            'Name': name,\n",
    "            'Model':'GARCH(1,1)',\n",
    "            'Test Size': test_size,\n",
    "            'MSE^3':mse_million\n",
    "                    }\n",
    "            , index=[r]\n",
    "        )\n",
    "        mresults = pd.concat([mresults, mresult])\n",
    "        \n",
    "        if viz:\n",
    "            plt.figure(figsize=(10,4))\n",
    "            true, = plt.plot(test_df[test_df.Asset == asset]['V^YZ'])\n",
    "            preds, = plt.plot(rolling_predictions)\n",
    "            plt.title(f'GARCH(1,1) {name}', fontsize=15)\n",
    "            plt.legend(['True Volatility', 'Predicted Volatility'], fontsize=9)\n",
    "            plt.xticks(rotation=45)\n",
    "            plt.savefig(f'../Outputs/Garch/{str(r+1).zfill(3)}_GARCH-{name}.png')\n",
    "            plt.close()\n",
    "        \n",
    "    return mresults"
   ]
  },
  {
   "cell_type": "code",
   "execution_count": 36,
   "id": "7597a61b-50a1-45c5-8b7f-c4b621f74293",
   "metadata": {},
   "outputs": [
    {
     "name": "stderr",
     "output_type": "stream",
     "text": [
      "/usr/local/lib/python3.9/dist-packages/arch/univariate/base.py:766: ConvergenceWarning: The optimizer returned code 8. The message is:\n",
      "Positive directional derivative for linesearch\n",
      "See scipy.optimize.fmin_slsqp for code meaning.\n",
      "\n",
      "  warnings.warn(\n",
      "/usr/local/lib/python3.9/dist-packages/arch/univariate/base.py:766: ConvergenceWarning: The optimizer returned code 4. The message is:\n",
      "Inequality constraints incompatible\n",
      "See scipy.optimize.fmin_slsqp for code meaning.\n",
      "\n",
      "  warnings.warn(\n",
      "/usr/local/lib/python3.9/dist-packages/arch/univariate/base.py:766: ConvergenceWarning: The optimizer returned code 4. The message is:\n",
      "Inequality constraints incompatible\n",
      "See scipy.optimize.fmin_slsqp for code meaning.\n",
      "\n",
      "  warnings.warn(\n",
      "/usr/local/lib/python3.9/dist-packages/arch/univariate/base.py:766: ConvergenceWarning: The optimizer returned code 4. The message is:\n",
      "Inequality constraints incompatible\n",
      "See scipy.optimize.fmin_slsqp for code meaning.\n",
      "\n",
      "  warnings.warn(\n",
      "/usr/local/lib/python3.9/dist-packages/arch/univariate/base.py:766: ConvergenceWarning: The optimizer returned code 4. The message is:\n",
      "Inequality constraints incompatible\n",
      "See scipy.optimize.fmin_slsqp for code meaning.\n",
      "\n",
      "  warnings.warn(\n"
     ]
    }
   ],
   "source": [
    "mresults = compile_train_test_garch(train_df, test_df, sample=False, cap = False, viz = False)"
   ]
  },
  {
   "cell_type": "markdown",
   "id": "229cfd0c-1684-45d0-8710-4f6a28733888",
   "metadata": {},
   "source": [
    "---"
   ]
  },
  {
   "cell_type": "markdown",
   "id": "8f6f0fc2-4df4-4068-9786-6be2e8ffcef0",
   "metadata": {},
   "source": [
    "# Results"
   ]
  },
  {
   "cell_type": "markdown",
   "id": "3f0d2553-a31b-40ff-816c-ea048bb28141",
   "metadata": {},
   "source": [
    "## 24MONTH NO CAP"
   ]
  },
  {
   "cell_type": "code",
   "execution_count": 13,
   "id": "1475faa5-b6bb-4b2b-ae8f-ffae8464c873",
   "metadata": {},
   "outputs": [
    {
     "data": {
      "text/html": [
       "<div>\n",
       "<style scoped>\n",
       "    .dataframe tbody tr th:only-of-type {\n",
       "        vertical-align: middle;\n",
       "    }\n",
       "\n",
       "    .dataframe tbody tr th {\n",
       "        vertical-align: top;\n",
       "    }\n",
       "\n",
       "    .dataframe thead th {\n",
       "        text-align: right;\n",
       "    }\n",
       "</style>\n",
       "<table border=\"1\" class=\"dataframe\">\n",
       "  <thead>\n",
       "    <tr style=\"text-align: right;\">\n",
       "      <th></th>\n",
       "      <th>Asset</th>\n",
       "      <th>Name</th>\n",
       "      <th>Model</th>\n",
       "      <th>Test Size</th>\n",
       "      <th>MSE^3</th>\n",
       "    </tr>\n",
       "  </thead>\n",
       "  <tbody>\n",
       "    <tr>\n",
       "      <th>62</th>\n",
       "      <td>4295894970</td>\n",
       "      <td>Bunzl plc</td>\n",
       "      <td>GARCH(1,1)</td>\n",
       "      <td>51</td>\n",
       "      <td>80.352324</td>\n",
       "    </tr>\n",
       "    <tr>\n",
       "      <th>18</th>\n",
       "      <td>4295897861</td>\n",
       "      <td>Micro Focus International Ltd</td>\n",
       "      <td>GARCH(1,1)</td>\n",
       "      <td>10</td>\n",
       "      <td>2.096486</td>\n",
       "    </tr>\n",
       "    <tr>\n",
       "      <th>79</th>\n",
       "      <td>4295895061</td>\n",
       "      <td>Sibanye Uk Ltd</td>\n",
       "      <td>GARCH(1,1)</td>\n",
       "      <td>18</td>\n",
       "      <td>0.990881</td>\n",
       "    </tr>\n",
       "    <tr>\n",
       "      <th>41</th>\n",
       "      <td>5036227579</td>\n",
       "      <td>EVRAZ plc</td>\n",
       "      <td>GARCH(1,1)</td>\n",
       "      <td>19</td>\n",
       "      <td>0.950165</td>\n",
       "    </tr>\n",
       "    <tr>\n",
       "      <th>128</th>\n",
       "      <td>4295894987</td>\n",
       "      <td>British Airways PLC</td>\n",
       "      <td>GARCH(1,1)</td>\n",
       "      <td>17</td>\n",
       "      <td>0.823081</td>\n",
       "    </tr>\n",
       "  </tbody>\n",
       "</table>\n",
       "</div>"
      ],
      "text/plain": [
       "          Asset                           Name       Model  Test Size  \\\n",
       "62   4295894970                      Bunzl plc  GARCH(1,1)         51   \n",
       "18   4295897861  Micro Focus International Ltd  GARCH(1,1)         10   \n",
       "79   4295895061                 Sibanye Uk Ltd  GARCH(1,1)         18   \n",
       "41   5036227579                      EVRAZ plc  GARCH(1,1)         19   \n",
       "128  4295894987            British Airways PLC  GARCH(1,1)         17   \n",
       "\n",
       "         MSE^3  \n",
       "62   80.352324  \n",
       "18    2.096486  \n",
       "79    0.990881  \n",
       "41    0.950165  \n",
       "128   0.823081  "
      ]
     },
     "execution_count": 13,
     "metadata": {},
     "output_type": "execute_result"
    }
   ],
   "source": [
    "mresults.sort_values('MSE^3', ascending=False).head(5)"
   ]
  },
  {
   "cell_type": "code",
   "execution_count": 14,
   "id": "cceae5bd-2836-46bb-88f3-2cc6142638be",
   "metadata": {},
   "outputs": [
    {
     "data": {
      "text/plain": [
       "0.7277253901281328"
      ]
     },
     "execution_count": 14,
     "metadata": {},
     "output_type": "execute_result"
    }
   ],
   "source": [
    "np.mean(mresults['MSE^3'])"
   ]
  },
  {
   "cell_type": "markdown",
   "id": "3bb96abf-75a4-4ea3-91fa-409638e73f61",
   "metadata": {},
   "source": [
    "## 24MONTH WITH CAP"
   ]
  },
  {
   "cell_type": "code",
   "execution_count": 20,
   "id": "60756bac-0d41-46b4-876e-f4a7df6d4f7e",
   "metadata": {},
   "outputs": [
    {
     "data": {
      "text/html": [
       "<div>\n",
       "<style scoped>\n",
       "    .dataframe tbody tr th:only-of-type {\n",
       "        vertical-align: middle;\n",
       "    }\n",
       "\n",
       "    .dataframe tbody tr th {\n",
       "        vertical-align: top;\n",
       "    }\n",
       "\n",
       "    .dataframe thead th {\n",
       "        text-align: right;\n",
       "    }\n",
       "</style>\n",
       "<table border=\"1\" class=\"dataframe\">\n",
       "  <thead>\n",
       "    <tr style=\"text-align: right;\">\n",
       "      <th></th>\n",
       "      <th>Asset</th>\n",
       "      <th>Name</th>\n",
       "      <th>Model</th>\n",
       "      <th>Test Size</th>\n",
       "      <th>MSE^3</th>\n",
       "    </tr>\n",
       "  </thead>\n",
       "  <tbody>\n",
       "    <tr>\n",
       "      <th>18</th>\n",
       "      <td>4295897861</td>\n",
       "      <td>Micro Focus International Ltd</td>\n",
       "      <td>GARCH(1,1)</td>\n",
       "      <td>10</td>\n",
       "      <td>1.782181</td>\n",
       "    </tr>\n",
       "    <tr>\n",
       "      <th>79</th>\n",
       "      <td>4295895061</td>\n",
       "      <td>Sibanye Uk Ltd</td>\n",
       "      <td>GARCH(1,1)</td>\n",
       "      <td>18</td>\n",
       "      <td>1.020862</td>\n",
       "    </tr>\n",
       "    <tr>\n",
       "      <th>41</th>\n",
       "      <td>5036227579</td>\n",
       "      <td>EVRAZ plc</td>\n",
       "      <td>GARCH(1,1)</td>\n",
       "      <td>19</td>\n",
       "      <td>0.950165</td>\n",
       "    </tr>\n",
       "    <tr>\n",
       "      <th>128</th>\n",
       "      <td>4295894987</td>\n",
       "      <td>British Airways PLC</td>\n",
       "      <td>GARCH(1,1)</td>\n",
       "      <td>17</td>\n",
       "      <td>0.823081</td>\n",
       "    </tr>\n",
       "    <tr>\n",
       "      <th>31</th>\n",
       "      <td>4295898044</td>\n",
       "      <td>Ashtead Group PLC</td>\n",
       "      <td>GARCH(1,1)</td>\n",
       "      <td>32</td>\n",
       "      <td>0.758230</td>\n",
       "    </tr>\n",
       "  </tbody>\n",
       "</table>\n",
       "</div>"
      ],
      "text/plain": [
       "          Asset                           Name       Model  Test Size  \\\n",
       "18   4295897861  Micro Focus International Ltd  GARCH(1,1)         10   \n",
       "79   4295895061                 Sibanye Uk Ltd  GARCH(1,1)         18   \n",
       "41   5036227579                      EVRAZ plc  GARCH(1,1)         19   \n",
       "128  4295894987            British Airways PLC  GARCH(1,1)         17   \n",
       "31   4295898044              Ashtead Group PLC  GARCH(1,1)         32   \n",
       "\n",
       "        MSE^3  \n",
       "18   1.782181  \n",
       "79   1.020862  \n",
       "41   0.950165  \n",
       "128  0.823081  \n",
       "31   0.758230  "
      ]
     },
     "execution_count": 20,
     "metadata": {},
     "output_type": "execute_result"
    }
   ],
   "source": [
    "mresults.sort_values('MSE^3', ascending=False).head(5)"
   ]
  },
  {
   "cell_type": "code",
   "execution_count": 21,
   "id": "d0c88e22-0351-4839-8287-bb4110d40895",
   "metadata": {},
   "outputs": [
    {
     "data": {
      "text/plain": [
       "0.22413324492142586"
      ]
     },
     "execution_count": 21,
     "metadata": {},
     "output_type": "execute_result"
    }
   ],
   "source": [
    "np.mean(mresults['MSE^3'])"
   ]
  },
  {
   "cell_type": "markdown",
   "id": "92b92b2e-fa08-4f25-9567-9cc543e298f9",
   "metadata": {},
   "source": [
    "## 36MONTH NO CAP"
   ]
  },
  {
   "cell_type": "code",
   "execution_count": 37,
   "id": "bbc47808-a144-44bc-8f98-d52124cf80a5",
   "metadata": {},
   "outputs": [
    {
     "data": {
      "text/html": [
       "<div>\n",
       "<style scoped>\n",
       "    .dataframe tbody tr th:only-of-type {\n",
       "        vertical-align: middle;\n",
       "    }\n",
       "\n",
       "    .dataframe tbody tr th {\n",
       "        vertical-align: top;\n",
       "    }\n",
       "\n",
       "    .dataframe thead th {\n",
       "        text-align: right;\n",
       "    }\n",
       "</style>\n",
       "<table border=\"1\" class=\"dataframe\">\n",
       "  <thead>\n",
       "    <tr style=\"text-align: right;\">\n",
       "      <th></th>\n",
       "      <th>Asset</th>\n",
       "      <th>Name</th>\n",
       "      <th>Model</th>\n",
       "      <th>Test Size</th>\n",
       "      <th>MSE^3</th>\n",
       "    </tr>\n",
       "  </thead>\n",
       "  <tbody>\n",
       "    <tr>\n",
       "      <th>51</th>\n",
       "      <td>4295894970</td>\n",
       "      <td>Bunzl plc</td>\n",
       "      <td>GARCH(1,1)</td>\n",
       "      <td>51</td>\n",
       "      <td>80.352324</td>\n",
       "    </tr>\n",
       "    <tr>\n",
       "      <th>67</th>\n",
       "      <td>4295895061</td>\n",
       "      <td>Sibanye Uk Ltd</td>\n",
       "      <td>GARCH(1,1)</td>\n",
       "      <td>18</td>\n",
       "      <td>0.990881</td>\n",
       "    </tr>\n",
       "    <tr>\n",
       "      <th>31</th>\n",
       "      <td>5036227579</td>\n",
       "      <td>EVRAZ plc</td>\n",
       "      <td>GARCH(1,1)</td>\n",
       "      <td>19</td>\n",
       "      <td>0.950165</td>\n",
       "    </tr>\n",
       "    <tr>\n",
       "      <th>111</th>\n",
       "      <td>4295894987</td>\n",
       "      <td>British Airways PLC</td>\n",
       "      <td>GARCH(1,1)</td>\n",
       "      <td>17</td>\n",
       "      <td>0.823081</td>\n",
       "    </tr>\n",
       "    <tr>\n",
       "      <th>22</th>\n",
       "      <td>4295898044</td>\n",
       "      <td>Ashtead Group PLC</td>\n",
       "      <td>GARCH(1,1)</td>\n",
       "      <td>32</td>\n",
       "      <td>0.758230</td>\n",
       "    </tr>\n",
       "  </tbody>\n",
       "</table>\n",
       "</div>"
      ],
      "text/plain": [
       "          Asset                 Name       Model  Test Size      MSE^3\n",
       "51   4295894970            Bunzl plc  GARCH(1,1)         51  80.352324\n",
       "67   4295895061       Sibanye Uk Ltd  GARCH(1,1)         18   0.990881\n",
       "31   5036227579            EVRAZ plc  GARCH(1,1)         19   0.950165\n",
       "111  4295894987  British Airways PLC  GARCH(1,1)         17   0.823081\n",
       "22   4295898044    Ashtead Group PLC  GARCH(1,1)         32   0.758230"
      ]
     },
     "execution_count": 37,
     "metadata": {},
     "output_type": "execute_result"
    }
   ],
   "source": [
    "mresults.sort_values('MSE^3', ascending=False).head(5)"
   ]
  },
  {
   "cell_type": "code",
   "execution_count": 38,
   "id": "9980bc90-5045-41c6-a9d8-f97f3e46bc5e",
   "metadata": {},
   "outputs": [
    {
     "data": {
      "text/plain": [
       "0.7667764680687831"
      ]
     },
     "execution_count": 38,
     "metadata": {},
     "output_type": "execute_result"
    }
   ],
   "source": [
    "np.mean(mresults['MSE^3'])"
   ]
  },
  {
   "cell_type": "markdown",
   "id": "6e85899a-608e-4bf2-8e45-507c2650bc5d",
   "metadata": {},
   "source": [
    "## 36MONTH WITH CAP"
   ]
  },
  {
   "cell_type": "code",
   "execution_count": 33,
   "id": "6e6c931e-8100-4460-8189-253fb3c78f46",
   "metadata": {},
   "outputs": [
    {
     "data": {
      "text/html": [
       "<div>\n",
       "<style scoped>\n",
       "    .dataframe tbody tr th:only-of-type {\n",
       "        vertical-align: middle;\n",
       "    }\n",
       "\n",
       "    .dataframe tbody tr th {\n",
       "        vertical-align: top;\n",
       "    }\n",
       "\n",
       "    .dataframe thead th {\n",
       "        text-align: right;\n",
       "    }\n",
       "</style>\n",
       "<table border=\"1\" class=\"dataframe\">\n",
       "  <thead>\n",
       "    <tr style=\"text-align: right;\">\n",
       "      <th></th>\n",
       "      <th>Asset</th>\n",
       "      <th>Name</th>\n",
       "      <th>Model</th>\n",
       "      <th>Test Size</th>\n",
       "      <th>MSE^3</th>\n",
       "    </tr>\n",
       "  </thead>\n",
       "  <tbody>\n",
       "    <tr>\n",
       "      <th>67</th>\n",
       "      <td>4295895061</td>\n",
       "      <td>Sibanye Uk Ltd</td>\n",
       "      <td>GARCH(1,1)</td>\n",
       "      <td>18</td>\n",
       "      <td>1.020862</td>\n",
       "    </tr>\n",
       "    <tr>\n",
       "      <th>31</th>\n",
       "      <td>5036227579</td>\n",
       "      <td>EVRAZ plc</td>\n",
       "      <td>GARCH(1,1)</td>\n",
       "      <td>19</td>\n",
       "      <td>0.950165</td>\n",
       "    </tr>\n",
       "    <tr>\n",
       "      <th>111</th>\n",
       "      <td>4295894987</td>\n",
       "      <td>British Airways PLC</td>\n",
       "      <td>GARCH(1,1)</td>\n",
       "      <td>17</td>\n",
       "      <td>0.823081</td>\n",
       "    </tr>\n",
       "    <tr>\n",
       "      <th>22</th>\n",
       "      <td>4295898044</td>\n",
       "      <td>Ashtead Group PLC</td>\n",
       "      <td>GARCH(1,1)</td>\n",
       "      <td>32</td>\n",
       "      <td>0.758230</td>\n",
       "    </tr>\n",
       "    <tr>\n",
       "      <th>78</th>\n",
       "      <td>5000047647</td>\n",
       "      <td>Friends Life FPG Ltd</td>\n",
       "      <td>GARCH(1,1)</td>\n",
       "      <td>12</td>\n",
       "      <td>0.713776</td>\n",
       "    </tr>\n",
       "  </tbody>\n",
       "</table>\n",
       "</div>"
      ],
      "text/plain": [
       "          Asset                  Name       Model  Test Size     MSE^3\n",
       "67   4295895061        Sibanye Uk Ltd  GARCH(1,1)         18  1.020862\n",
       "31   5036227579             EVRAZ plc  GARCH(1,1)         19  0.950165\n",
       "111  4295894987   British Airways PLC  GARCH(1,1)         17  0.823081\n",
       "22   4295898044     Ashtead Group PLC  GARCH(1,1)         32  0.758230\n",
       "78   5000047647  Friends Life FPG Ltd  GARCH(1,1)         12  0.713776"
      ]
     },
     "execution_count": 33,
     "metadata": {},
     "output_type": "execute_result"
    }
   ],
   "source": [
    "mresults.sort_values('MSE^3', ascending=False).head(5)"
   ]
  },
  {
   "cell_type": "code",
   "execution_count": 34,
   "id": "b1a34a0c-f0fb-463b-b217-0f4dd5e47d8f",
   "metadata": {},
   "outputs": [
    {
     "data": {
      "text/plain": [
       "0.2017985825595635"
      ]
     },
     "execution_count": 34,
     "metadata": {},
     "output_type": "execute_result"
    }
   ],
   "source": [
    "np.mean(mresults['MSE^3'])"
   ]
  },
  {
   "cell_type": "markdown",
   "id": "454aa0b3-43e5-47aa-a365-d25073994471",
   "metadata": {},
   "source": [
    "---"
   ]
  },
  {
   "cell_type": "code",
   "execution_count": 39,
   "id": "0c1a35f1-5564-4ca3-ab32-e8b9ef6efa00",
   "metadata": {},
   "outputs": [],
   "source": [
    "threshold = str(36)\n",
    "CAP = 'NCAP'\n",
    "mresults.to_excel(f'../Results/1-GARCH-{threshold}MONTH-{CAP}.xlsx', index=None)"
   ]
  }
 ],
 "metadata": {
  "kernelspec": {
   "display_name": "Python 3 (ipykernel)",
   "language": "python",
   "name": "python3"
  },
  "language_info": {
   "codemirror_mode": {
    "name": "ipython",
    "version": 3
   },
   "file_extension": ".py",
   "mimetype": "text/x-python",
   "name": "python",
   "nbconvert_exporter": "python",
   "pygments_lexer": "ipython3",
   "version": "3.9.16"
  },
  "toc-autonumbering": true
 },
 "nbformat": 4,
 "nbformat_minor": 5
}
